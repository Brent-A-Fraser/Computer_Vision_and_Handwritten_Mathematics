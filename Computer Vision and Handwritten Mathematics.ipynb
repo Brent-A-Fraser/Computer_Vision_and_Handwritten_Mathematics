{
 "cells": [
  {
   "cell_type": "markdown",
   "metadata": {},
   "source": [
    "# Computer Vision and Handwritten Mathematics\n",
    "\n",
    "## Brent Fraser\n",
    "\n",
    "### 20 September 2020 "
   ]
  },
  {
   "cell_type": "markdown",
   "metadata": {},
   "source": [
    "## Introduction\n",
    "\n",
    "This project is focused on recognizing images of handwritten mathematical equations and outputting the solution. We employ convolutional neural networks for all image classification. The logic and code below is not borrowed from any other source. The project was constructed with the intent that it be scaleable to accommodate new symbols, new equations, and longer equations. This goal introduced some problems, which we discuss later.\n",
    "\n",
    "The structure of this notebook is similar to the method in which the project developed. The data was obtained on Kaggle at https://www.kaggle.com/michelheusser/handwritten-digits-and-operators except the MNIST data which was loaded through Keras. Data exploration in this notebook is minimal since all data is image data. We looked at several sample images before deciding to use the dataset. Another convenient feature of the Kaggle data is that it was designed to conform with the MNIST images. Namely, all images are 28 x 28 with pixel values ranging from 0 to 1. \n",
    "\n",
    "A large portion of the code is written to be object-oriented since there are several functions that will be used repeatedly throughout the notebook. Data synthesis and preperation is also a large portion of this project. Generating matrices with sufficient randomness form the train and test data was important to simulate real applications as well as possible. There are several issues which we will address throughout the notebook.\n",
    "\n",
    "The three neural networks were trained as the code developed. The neural networks for matrix recognition and for symbol recognition both had six versions while the digit recognition neural network had two. This is due to the iterative process of experimentation. All code for initializing, training, and plotting accuracy and loss for each neural network remains in this notebook as commented sections. The most recent accuracy and loss plots are included after the commented sections in markdown cells.\n",
    "\n",
    "The last portion of the notebook is the logic which parses through and solves the input image of an equation. These equations are also synthesized from randomly choosing from the Kaggle and MNIST data.\n",
    "\n",
    "The markdown cells are organized in paragraphs which precede the relevant code. \n",
    "\n",
    "## Table of Contents\n",
    "\n",
    "1. [Data Processing](#data)\n",
    "2. [Convolutional Neural Network 1 - Digit Recognition](#cnn1)\n",
    "3. [Data Synthesis - Matrix Data](#matrix)\n",
    "4. [Convolutional Neural Network 2 - Matrix Recognition](#cnn2)\n",
    "5. [Concolutional Neural Network 3 - Symbol Recognition](#cnn3) <br>\n",
    "    5.1 [Data Processing and Sythesis](#cnn3data)  \n",
    "    5.2 [Symbol Recognition Neural Network](#cnn3nn)    \n",
    "6. [Equation Parsing and Solving](#eq)\n",
    "7. [Conclusion](#conclusion)\n",
    "\n",
    "First, we import everything we need. Any packages required were added to the first cell regardless of where they were used."
   ]
  },
  {
   "cell_type": "code",
   "execution_count": 1,
   "metadata": {},
   "outputs": [],
   "source": [
    "import numpy as np\n",
    "import pandas as pd\n",
    "import matplotlib.pyplot as plt\n",
    "%matplotlib inline\n",
    "\n",
    "#Filter to blurr images\n",
    "from scipy.ndimage import gaussian_filter\n",
    "\n",
    "#For image resizing.\n",
    "from skimage.transform import resize\n",
    "\n",
    "from sklearn.preprocessing import OneHotEncoder\n",
    "from sklearn.metrics import confusion_matrix\n",
    "from sklearn.metrics import classification_report\n",
    "\n",
    "#Standard Handwritten digits.\n",
    "from tensorflow.keras.datasets import mnist\n",
    "\n",
    "#Specific neural network models & layer types\n",
    "from tensorflow.keras.models import Sequential\n",
    "from tensorflow.keras.models import load_model\n",
    "from tensorflow.keras.layers import Dense\n",
    "from tensorflow.keras.layers import Conv2D\n",
    "from tensorflow.keras.layers import MaxPooling2D\n",
    "from tensorflow.keras.layers import Flatten\n",
    "from tensorflow.keras.layers import Dropout\n",
    "\n",
    "from tensorflow.keras.callbacks import EarlyStopping"
   ]
  },
  {
   "cell_type": "markdown",
   "metadata": {},
   "source": [
    "## Data Processing\n",
    "<a id='data'></a>\n",
    "\n",
    "We load in the Kaggle dataset which was already split into train, validation, and test sets. The training data has 200331 rows, the validation data has 66777 rows, and the testing data has 66778 rows. All three have two columns. The first column is a 2-dimensional numpy array of image pixels. The second column is the target classification string variable. However, we have to split the images into digits, brackets, and operations. We also store the image pixels and target variables seperately.\n",
    "\n",
    "We also use the MNIST handwritten digits since it is easily accessible and high quality. We reshape all images to conform the MNIST 28 x 28 x 1 shape since the Kaggle data is designed for this purpose."
   ]
  },
  {
   "cell_type": "code",
   "execution_count": 2,
   "metadata": {},
   "outputs": [],
   "source": [
    "#Read in training, validation, and testing data.\n",
    "train_data = np.load('data/763806_1332899_bundle_archive/CompleteDataSet_training_tuples.npy', allow_pickle = True)\n",
    "validation_data = np.load('data/763806_1332899_bundle_archive/CompleteDataSet_validation_tuples.npy', allow_pickle = True)\n",
    "test_data = np.load('data/763806_1332899_bundle_archive/CompleteDataSet_testing_tuples.npy', allow_pickle = True)"
   ]
  },
  {
   "cell_type": "code",
   "execution_count": 3,
   "metadata": {},
   "outputs": [
    {
     "data": {
      "text/plain": [
       "array([array([[0, 0, 0, 0, 0, 0, 0, 1, 1, 1, 1, 1, 1, 1, 1, 1, 1, 1, 1, 1, 0, 0,\n",
       "        0, 0, 0, 0, 0, 0],\n",
       "       [0, 0, 0, 0, 0, 0, 0, 1, 0, 0, 0, 0, 0, 0, 0, 0, 0, 0, 0, 1, 0, 0,\n",
       "        0, 0, 0, 0, 0, 0],\n",
       "       [0, 0, 0, 0, 1, 1, 1, 1, 0, 0, 0, 0, 0, 0, 0, 0, 0, 0, 0, 1, 1, 0,\n",
       "        0, 0, 0, 0, 0, 0],\n",
       "       [0, 0, 1, 1, 1, 1, 0, 0, 0, 0, 0, 0, 0, 0, 0, 0, 0, 0, 0, 1, 1, 0,\n",
       "        0, 0, 0, 0, 0, 0],\n",
       "       [0, 1, 1, 1, 0, 0, 0, 0, 0, 0, 0, 0, 0, 0, 0, 0, 0, 0, 0, 1, 1, 0,\n",
       "        0, 0, 0, 0, 0, 0],\n",
       "       [0, 1, 0, 0, 0, 0, 0, 0, 0, 0, 0, 0, 0, 0, 0, 0, 0, 0, 0, 1, 1, 0,\n",
       "        0, 0, 0, 0, 0, 0],\n",
       "       [0, 1, 0, 0, 0, 0, 0, 0, 0, 0, 0, 0, 0, 0, 0, 0, 0, 0, 0, 1, 1, 0,\n",
       "        0, 0, 0, 0, 0, 0],\n",
       "       [0, 1, 0, 0, 0, 0, 0, 0, 0, 0, 0, 0, 0, 0, 0, 0, 0, 0, 0, 1, 1, 0,\n",
       "        0, 0, 0, 0, 0, 0],\n",
       "       [0, 1, 1, 0, 0, 0, 0, 0, 0, 0, 0, 0, 0, 0, 0, 0, 0, 0, 0, 1, 1, 0,\n",
       "        0, 0, 0, 0, 0, 0],\n",
       "       [0, 1, 1, 0, 0, 0, 0, 0, 0, 0, 0, 0, 0, 0, 0, 0, 0, 0, 1, 1, 0, 0,\n",
       "        0, 0, 0, 0, 0, 0],\n",
       "       [0, 0, 1, 1, 0, 0, 0, 0, 0, 0, 0, 0, 0, 0, 0, 0, 0, 0, 1, 1, 0, 0,\n",
       "        0, 0, 0, 0, 0, 0],\n",
       "       [0, 0, 0, 0, 0, 0, 0, 0, 0, 0, 0, 0, 0, 0, 0, 0, 0, 0, 1, 0, 0, 0,\n",
       "        0, 0, 0, 0, 0, 0],\n",
       "       [0, 0, 0, 0, 0, 0, 0, 0, 0, 0, 0, 0, 0, 0, 0, 0, 0, 0, 1, 0, 0, 0,\n",
       "        0, 0, 0, 0, 0, 0],\n",
       "       [0, 0, 0, 0, 0, 0, 0, 0, 0, 0, 0, 0, 0, 0, 0, 0, 0, 1, 1, 0, 0, 0,\n",
       "        0, 0, 0, 0, 0, 0],\n",
       "       [0, 0, 0, 0, 0, 0, 0, 0, 0, 0, 0, 0, 0, 0, 0, 0, 0, 1, 1, 0, 0, 0,\n",
       "        0, 0, 0, 0, 0, 0],\n",
       "       [0, 0, 0, 0, 0, 0, 0, 0, 0, 0, 0, 0, 0, 0, 0, 0, 0, 1, 0, 0, 0, 0,\n",
       "        0, 0, 0, 0, 0, 0],\n",
       "       [0, 0, 0, 0, 0, 0, 0, 0, 0, 0, 0, 0, 0, 0, 0, 0, 1, 1, 0, 0, 0, 0,\n",
       "        0, 0, 0, 0, 0, 0],\n",
       "       [0, 0, 0, 0, 0, 0, 0, 0, 0, 0, 0, 0, 0, 0, 0, 0, 1, 1, 0, 0, 0, 0,\n",
       "        0, 0, 0, 0, 0, 0],\n",
       "       [0, 0, 0, 0, 0, 0, 0, 0, 0, 0, 0, 0, 0, 0, 0, 0, 1, 0, 0, 0, 0, 0,\n",
       "        0, 0, 0, 0, 0, 0],\n",
       "       [0, 0, 0, 0, 0, 0, 0, 0, 0, 0, 0, 0, 0, 0, 0, 1, 1, 0, 0, 0, 0, 0,\n",
       "        0, 0, 0, 0, 0, 0],\n",
       "       [0, 0, 0, 0, 0, 0, 0, 0, 0, 0, 0, 0, 0, 0, 0, 1, 1, 0, 0, 0, 0, 0,\n",
       "        0, 0, 0, 0, 0, 0],\n",
       "       [0, 0, 0, 0, 0, 0, 0, 0, 0, 0, 0, 0, 0, 0, 0, 1, 1, 0, 0, 0, 0, 0,\n",
       "        0, 0, 0, 0, 0, 0],\n",
       "       [0, 0, 0, 0, 0, 0, 0, 0, 0, 0, 0, 0, 0, 0, 1, 1, 0, 0, 0, 0, 0, 0,\n",
       "        0, 0, 0, 0, 0, 0],\n",
       "       [0, 0, 0, 0, 0, 0, 0, 0, 0, 0, 0, 0, 0, 0, 1, 1, 0, 0, 0, 0, 0, 0,\n",
       "        0, 0, 0, 0, 0, 0],\n",
       "       [0, 0, 0, 0, 0, 0, 0, 0, 0, 0, 0, 0, 0, 0, 1, 0, 0, 0, 0, 0, 0, 0,\n",
       "        0, 0, 0, 0, 0, 0],\n",
       "       [0, 0, 0, 0, 0, 0, 0, 0, 0, 0, 0, 0, 0, 0, 1, 0, 0, 0, 0, 0, 0, 0,\n",
       "        0, 0, 0, 0, 0, 0],\n",
       "       [0, 0, 0, 0, 0, 0, 0, 0, 0, 0, 0, 0, 0, 0, 1, 1, 0, 0, 1, 1, 1, 1,\n",
       "        1, 1, 1, 1, 1, 0],\n",
       "       [0, 0, 0, 0, 0, 0, 0, 0, 0, 0, 0, 0, 0, 0, 1, 1, 1, 1, 1, 1, 1, 1,\n",
       "        0, 0, 0, 0, 0, 0]], dtype=int64),\n",
       "       array([[0, 0, 0, 0, 0, 0, 0, 0, 1, 1, 1, 1, 1, 1, 1, 1, 1, 0, 0, 0, 0, 0,\n",
       "        0, 0, 0, 0, 0, 0],\n",
       "       [0, 0, 0, 0, 0, 0, 0, 1, 1, 1, 0, 0, 0, 0, 0, 1, 1, 0, 0, 0, 0, 0,\n",
       "        0, 0, 0, 0, 0, 0],\n",
       "       [0, 0, 0, 0, 0, 0, 0, 1, 0, 0, 0, 0, 0, 0, 0, 1, 1, 0, 0, 0, 0, 0,\n",
       "        0, 0, 0, 0, 0, 0],\n",
       "       [0, 0, 0, 0, 0, 1, 1, 1, 0, 0, 0, 0, 0, 0, 0, 1, 1, 0, 0, 0, 0, 0,\n",
       "        0, 0, 0, 0, 0, 0],\n",
       "       [0, 0, 0, 0, 0, 1, 0, 0, 0, 0, 0, 0, 0, 0, 0, 1, 0, 0, 0, 0, 0, 0,\n",
       "        0, 0, 0, 0, 0, 0],\n",
       "       [0, 0, 0, 0, 0, 1, 0, 0, 0, 0, 0, 0, 0, 0, 0, 1, 0, 0, 0, 0, 0, 0,\n",
       "        0, 0, 0, 0, 0, 0],\n",
       "       [0, 0, 0, 0, 1, 1, 0, 0, 0, 0, 0, 0, 0, 0, 0, 1, 0, 0, 0, 0, 0, 0,\n",
       "        0, 0, 0, 0, 0, 0],\n",
       "       [0, 0, 0, 0, 1, 0, 0, 0, 0, 0, 0, 0, 0, 0, 1, 1, 0, 0, 0, 0, 0, 0,\n",
       "        0, 0, 0, 0, 0, 0],\n",
       "       [0, 0, 0, 0, 1, 0, 0, 0, 0, 0, 0, 0, 0, 0, 1, 1, 0, 0, 0, 0, 0, 0,\n",
       "        0, 0, 0, 0, 0, 0],\n",
       "       [0, 0, 0, 0, 1, 0, 0, 0, 0, 0, 0, 0, 0, 0, 1, 1, 0, 0, 0, 0, 0, 0,\n",
       "        0, 0, 0, 0, 0, 0],\n",
       "       [0, 0, 0, 0, 1, 0, 0, 0, 0, 0, 0, 0, 0, 1, 1, 0, 0, 0, 0, 0, 0, 0,\n",
       "        0, 0, 0, 0, 0, 0],\n",
       "       [0, 0, 0, 0, 1, 0, 0, 0, 0, 0, 0, 0, 0, 1, 0, 0, 0, 0, 0, 0, 0, 0,\n",
       "        0, 0, 0, 0, 0, 0],\n",
       "       [0, 0, 0, 0, 1, 0, 0, 0, 0, 0, 0, 0, 1, 1, 0, 0, 0, 0, 0, 0, 0, 0,\n",
       "        0, 0, 0, 0, 0, 0],\n",
       "       [0, 0, 0, 0, 0, 0, 0, 0, 0, 0, 0, 0, 1, 0, 0, 0, 0, 0, 0, 0, 0, 0,\n",
       "        0, 0, 0, 0, 0, 0],\n",
       "       [0, 0, 0, 0, 0, 0, 0, 0, 0, 0, 0, 0, 1, 0, 0, 0, 0, 0, 0, 0, 0, 0,\n",
       "        0, 0, 0, 0, 0, 0],\n",
       "       [0, 0, 0, 0, 0, 0, 0, 0, 0, 0, 0, 1, 1, 0, 0, 0, 0, 0, 0, 0, 0, 0,\n",
       "        0, 0, 0, 0, 0, 0],\n",
       "       [0, 0, 0, 0, 0, 0, 0, 0, 0, 0, 0, 1, 1, 0, 0, 0, 0, 0, 0, 0, 0, 0,\n",
       "        0, 0, 0, 0, 0, 0],\n",
       "       [0, 0, 0, 0, 0, 0, 0, 0, 0, 0, 0, 1, 1, 0, 0, 0, 0, 0, 0, 0, 0, 0,\n",
       "        0, 0, 0, 0, 0, 0],\n",
       "       [0, 0, 0, 0, 0, 0, 0, 0, 0, 0, 1, 1, 0, 0, 0, 0, 0, 0, 0, 0, 0, 0,\n",
       "        0, 0, 0, 0, 0, 0],\n",
       "       [0, 0, 0, 0, 0, 0, 0, 0, 0, 0, 1, 0, 0, 0, 0, 0, 0, 0, 0, 0, 0, 0,\n",
       "        0, 0, 0, 0, 0, 0],\n",
       "       [0, 0, 0, 0, 0, 0, 0, 0, 0, 0, 1, 0, 0, 0, 0, 0, 0, 0, 0, 0, 0, 0,\n",
       "        0, 0, 0, 0, 0, 0],\n",
       "       [0, 0, 0, 0, 0, 0, 0, 0, 0, 1, 1, 0, 0, 0, 0, 0, 0, 0, 0, 0, 0, 0,\n",
       "        0, 0, 0, 0, 0, 0],\n",
       "       [0, 0, 0, 0, 0, 0, 0, 0, 0, 1, 1, 0, 0, 0, 0, 0, 0, 0, 0, 0, 0, 0,\n",
       "        0, 0, 0, 0, 0, 0],\n",
       "       [0, 0, 0, 0, 0, 0, 0, 0, 0, 1, 1, 0, 0, 0, 0, 1, 1, 1, 1, 1, 1, 1,\n",
       "        0, 0, 0, 0, 0, 0],\n",
       "       [0, 0, 0, 0, 0, 0, 0, 0, 0, 1, 1, 0, 0, 1, 1, 1, 1, 1, 1, 1, 1, 1,\n",
       "        1, 1, 0, 0, 0, 0],\n",
       "       [0, 0, 0, 0, 0, 0, 0, 0, 0, 1, 1, 0, 0, 1, 1, 0, 0, 0, 0, 0, 0, 0,\n",
       "        1, 1, 0, 0, 0, 0],\n",
       "       [0, 0, 0, 0, 0, 0, 0, 0, 0, 1, 1, 1, 1, 1, 1, 0, 0, 0, 0, 0, 0, 0,\n",
       "        1, 1, 0, 0, 0, 0],\n",
       "       [0, 0, 0, 0, 0, 0, 0, 0, 0, 0, 1, 1, 1, 0, 0, 0, 0, 0, 0, 0, 0, 0,\n",
       "        0, 0, 0, 0, 0, 0]], dtype=int64),\n",
       "       array([[0, 0, 0, 0, 0, 0, 0, 0, 0, 0, 0, 0, 0, 0, 1, 1, 1, 1, 1, 1, 1, 1,\n",
       "        1, 0, 0, 0, 0, 0],\n",
       "       [0, 0, 0, 0, 0, 0, 0, 0, 0, 0, 1, 1, 1, 1, 1, 1, 0, 0, 0, 0, 0, 1,\n",
       "        1, 0, 0, 0, 0, 0],\n",
       "       [0, 0, 0, 0, 0, 0, 0, 1, 1, 1, 1, 1, 0, 0, 0, 0, 0, 0, 0, 0, 0, 1,\n",
       "        1, 0, 0, 0, 0, 0],\n",
       "       [0, 0, 0, 0, 0, 1, 1, 1, 1, 0, 0, 0, 0, 0, 0, 0, 0, 0, 0, 0, 0, 1,\n",
       "        0, 0, 0, 0, 0, 0],\n",
       "       [0, 0, 0, 0, 0, 0, 0, 0, 0, 0, 0, 0, 0, 0, 0, 0, 0, 0, 0, 0, 1, 1,\n",
       "        0, 0, 0, 0, 0, 0],\n",
       "       [0, 0, 0, 0, 0, 0, 0, 0, 0, 0, 0, 0, 0, 0, 0, 0, 0, 0, 0, 0, 1, 1,\n",
       "        0, 0, 0, 0, 0, 0],\n",
       "       [0, 0, 0, 0, 0, 0, 0, 0, 0, 0, 0, 0, 0, 0, 0, 0, 0, 0, 0, 1, 1, 0,\n",
       "        0, 0, 0, 0, 0, 0],\n",
       "       [0, 0, 0, 0, 0, 0, 0, 0, 0, 0, 0, 0, 0, 0, 0, 0, 0, 0, 0, 1, 1, 0,\n",
       "        0, 0, 0, 0, 0, 0],\n",
       "       [0, 0, 0, 0, 0, 0, 0, 0, 0, 0, 0, 0, 0, 0, 0, 0, 0, 0, 0, 1, 1, 0,\n",
       "        0, 0, 0, 0, 0, 0],\n",
       "       [0, 0, 0, 0, 0, 0, 0, 0, 0, 0, 0, 0, 0, 0, 0, 0, 0, 0, 0, 1, 0, 0,\n",
       "        0, 0, 0, 0, 0, 0],\n",
       "       [0, 0, 0, 0, 0, 0, 0, 0, 0, 0, 0, 0, 0, 0, 0, 0, 0, 0, 1, 1, 0, 0,\n",
       "        0, 0, 0, 0, 0, 0],\n",
       "       [0, 0, 0, 0, 0, 0, 0, 0, 0, 0, 0, 0, 0, 0, 0, 0, 0, 0, 1, 1, 0, 0,\n",
       "        0, 0, 0, 0, 0, 0],\n",
       "       [0, 0, 0, 0, 0, 0, 0, 0, 0, 0, 0, 0, 0, 0, 0, 0, 0, 1, 1, 0, 0, 0,\n",
       "        0, 0, 0, 0, 0, 0],\n",
       "       [0, 0, 0, 0, 0, 0, 0, 0, 0, 0, 0, 0, 0, 0, 0, 0, 0, 1, 1, 0, 0, 0,\n",
       "        0, 0, 0, 0, 0, 0],\n",
       "       [0, 0, 0, 0, 0, 0, 0, 0, 0, 0, 0, 0, 0, 0, 0, 0, 0, 1, 0, 0, 0, 0,\n",
       "        0, 0, 0, 0, 0, 0],\n",
       "       [0, 0, 0, 0, 0, 0, 0, 0, 0, 0, 0, 0, 0, 0, 0, 0, 0, 1, 1, 1, 1, 1,\n",
       "        0, 0, 0, 0, 0, 0],\n",
       "       [0, 0, 0, 0, 0, 0, 0, 0, 0, 0, 0, 0, 1, 1, 1, 1, 1, 1, 1, 1, 1, 1,\n",
       "        0, 0, 0, 0, 0, 0],\n",
       "       [0, 0, 0, 0, 0, 0, 0, 0, 0, 1, 1, 1, 1, 1, 1, 0, 1, 1, 0, 0, 0, 0,\n",
       "        0, 0, 0, 0, 0, 0],\n",
       "       [0, 0, 0, 0, 0, 0, 0, 0, 0, 0, 0, 0, 0, 0, 0, 0, 1, 0, 0, 0, 0, 0,\n",
       "        0, 0, 0, 0, 0, 0],\n",
       "       [0, 0, 0, 0, 0, 0, 0, 0, 0, 0, 0, 0, 0, 0, 0, 1, 1, 0, 0, 0, 0, 0,\n",
       "        0, 0, 0, 0, 0, 0],\n",
       "       [0, 0, 0, 0, 0, 0, 0, 0, 0, 0, 0, 0, 0, 0, 0, 1, 1, 0, 0, 0, 0, 0,\n",
       "        0, 0, 0, 0, 0, 0],\n",
       "       [0, 0, 0, 0, 0, 0, 0, 0, 0, 0, 0, 0, 0, 0, 0, 1, 1, 0, 0, 0, 0, 0,\n",
       "        0, 0, 0, 0, 0, 0],\n",
       "       [0, 0, 0, 0, 0, 0, 0, 0, 0, 0, 0, 0, 0, 0, 0, 1, 0, 0, 0, 0, 0, 0,\n",
       "        0, 0, 0, 0, 0, 0],\n",
       "       [0, 0, 0, 0, 0, 0, 0, 0, 0, 0, 0, 0, 0, 0, 0, 1, 0, 0, 0, 0, 0, 0,\n",
       "        0, 0, 0, 0, 0, 0],\n",
       "       [0, 0, 0, 0, 0, 0, 0, 0, 0, 0, 0, 0, 0, 0, 0, 1, 0, 0, 0, 0, 0, 0,\n",
       "        0, 0, 0, 0, 0, 0],\n",
       "       [0, 0, 0, 0, 0, 0, 0, 0, 0, 0, 0, 0, 0, 0, 1, 1, 0, 0, 0, 0, 0, 0,\n",
       "        0, 0, 0, 0, 0, 0],\n",
       "       [0, 0, 0, 0, 0, 0, 0, 0, 0, 0, 0, 0, 0, 0, 0, 1, 0, 0, 0, 0, 0, 0,\n",
       "        0, 0, 0, 0, 0, 0],\n",
       "       [0, 0, 0, 0, 0, 0, 0, 0, 0, 0, 0, 0, 0, 0, 0, 1, 0, 0, 0, 0, 0, 0,\n",
       "        0, 0, 0, 0, 0, 0]], dtype=int64),\n",
       "       ...,\n",
       "       array([[0, 0, 0, 0, 0, 0, 0, 0, 1, 1, 1, 1, 1, 1, 1, 1, 1, 0, 0, 0, 0, 0,\n",
       "        0, 0, 0, 0, 0, 0],\n",
       "       [0, 0, 0, 0, 0, 0, 0, 0, 0, 0, 0, 0, 0, 0, 0, 0, 1, 0, 0, 0, 0, 0,\n",
       "        0, 0, 0, 0, 0, 0],\n",
       "       [0, 0, 0, 0, 0, 0, 0, 0, 0, 0, 0, 0, 0, 0, 0, 0, 1, 0, 0, 0, 0, 0,\n",
       "        0, 0, 0, 0, 0, 0],\n",
       "       [0, 0, 0, 0, 0, 0, 0, 0, 0, 0, 0, 0, 0, 0, 0, 1, 1, 0, 0, 0, 0, 0,\n",
       "        0, 0, 0, 0, 0, 0],\n",
       "       [0, 0, 0, 0, 0, 0, 0, 0, 0, 0, 0, 0, 0, 0, 0, 1, 1, 0, 0, 0, 0, 0,\n",
       "        0, 0, 0, 0, 0, 0],\n",
       "       [0, 0, 0, 0, 0, 0, 0, 0, 0, 0, 0, 0, 0, 0, 0, 1, 1, 0, 0, 0, 0, 0,\n",
       "        0, 0, 0, 0, 0, 0],\n",
       "       [0, 0, 0, 0, 0, 0, 0, 0, 0, 0, 0, 0, 0, 0, 0, 1, 1, 0, 0, 0, 0, 0,\n",
       "        0, 0, 0, 0, 0, 0],\n",
       "       [0, 0, 0, 0, 0, 0, 0, 0, 0, 0, 0, 0, 0, 0, 0, 1, 0, 0, 0, 0, 0, 0,\n",
       "        0, 0, 0, 0, 0, 0],\n",
       "       [0, 0, 0, 0, 0, 0, 0, 0, 0, 0, 0, 0, 0, 0, 0, 1, 0, 0, 0, 0, 0, 0,\n",
       "        0, 0, 0, 0, 0, 0],\n",
       "       [0, 0, 0, 0, 0, 0, 0, 0, 0, 0, 0, 0, 0, 0, 0, 1, 0, 0, 0, 0, 0, 0,\n",
       "        0, 0, 0, 0, 0, 0],\n",
       "       [0, 0, 0, 0, 0, 0, 0, 0, 0, 0, 0, 0, 0, 0, 0, 1, 0, 0, 0, 0, 0, 0,\n",
       "        0, 0, 0, 0, 0, 0],\n",
       "       [0, 0, 0, 0, 0, 0, 0, 0, 0, 0, 0, 0, 0, 0, 0, 1, 0, 0, 0, 0, 0, 0,\n",
       "        0, 0, 0, 0, 0, 0],\n",
       "       [0, 0, 0, 0, 0, 0, 0, 0, 0, 0, 0, 0, 0, 0, 0, 1, 0, 0, 0, 0, 0, 0,\n",
       "        0, 0, 0, 0, 0, 0],\n",
       "       [0, 0, 0, 0, 0, 0, 0, 0, 0, 0, 0, 0, 0, 0, 0, 1, 0, 0, 0, 0, 0, 0,\n",
       "        0, 0, 0, 0, 0, 0],\n",
       "       [0, 0, 0, 0, 0, 0, 0, 0, 0, 0, 0, 0, 0, 0, 1, 1, 0, 1, 1, 1, 1, 0,\n",
       "        0, 0, 0, 0, 0, 0],\n",
       "       [0, 0, 0, 0, 0, 0, 0, 0, 0, 0, 0, 1, 1, 1, 1, 1, 1, 1, 1, 0, 0, 0,\n",
       "        0, 0, 0, 0, 0, 0],\n",
       "       [0, 0, 0, 0, 0, 0, 0, 0, 0, 0, 0, 1, 1, 1, 1, 1, 0, 0, 0, 0, 0, 0,\n",
       "        0, 0, 0, 0, 0, 0],\n",
       "       [0, 0, 0, 0, 0, 0, 0, 0, 0, 0, 0, 1, 1, 1, 1, 1, 0, 0, 0, 0, 0, 0,\n",
       "        0, 0, 0, 0, 0, 0],\n",
       "       [0, 0, 0, 0, 0, 0, 0, 0, 0, 0, 0, 0, 0, 0, 1, 0, 0, 0, 0, 0, 0, 0,\n",
       "        0, 0, 0, 0, 0, 0],\n",
       "       [0, 0, 0, 0, 0, 0, 0, 0, 0, 0, 0, 0, 0, 0, 1, 0, 0, 0, 0, 0, 0, 0,\n",
       "        0, 0, 0, 0, 0, 0],\n",
       "       [0, 0, 0, 0, 0, 0, 0, 0, 0, 0, 0, 0, 0, 0, 1, 0, 0, 0, 0, 0, 0, 0,\n",
       "        0, 0, 0, 0, 0, 0],\n",
       "       [0, 0, 0, 0, 0, 0, 0, 0, 0, 0, 0, 0, 0, 0, 1, 0, 0, 0, 0, 0, 0, 0,\n",
       "        0, 0, 0, 0, 0, 0],\n",
       "       [0, 0, 0, 0, 0, 0, 0, 0, 0, 0, 0, 0, 0, 0, 1, 0, 0, 0, 0, 0, 0, 0,\n",
       "        0, 0, 0, 0, 0, 0],\n",
       "       [0, 0, 0, 0, 0, 0, 0, 0, 0, 0, 0, 0, 0, 0, 1, 0, 0, 0, 0, 0, 0, 0,\n",
       "        0, 0, 0, 0, 0, 0],\n",
       "       [0, 0, 0, 0, 0, 0, 0, 0, 0, 0, 0, 0, 0, 0, 1, 0, 0, 0, 0, 0, 0, 0,\n",
       "        0, 0, 0, 0, 0, 0],\n",
       "       [0, 0, 0, 0, 0, 0, 0, 0, 0, 0, 0, 0, 0, 0, 1, 0, 0, 0, 0, 0, 0, 0,\n",
       "        0, 0, 0, 0, 0, 0],\n",
       "       [0, 0, 0, 0, 0, 0, 0, 0, 0, 0, 0, 0, 0, 0, 1, 0, 0, 0, 0, 0, 0, 0,\n",
       "        0, 0, 0, 0, 0, 0],\n",
       "       [0, 0, 0, 0, 0, 0, 0, 0, 0, 0, 0, 0, 0, 0, 1, 0, 0, 0, 0, 0, 0, 0,\n",
       "        0, 0, 0, 0, 0, 0]], dtype=int64),\n",
       "       array([[0, 0, 0, 0, 0, 0, 0, 0, 0, 0, 0, 0, 0, 1, 1, 0, 0, 0, 0, 0, 0, 0,\n",
       "        0, 0, 0, 0, 0, 0],\n",
       "       [0, 0, 0, 0, 0, 0, 0, 0, 0, 0, 0, 0, 0, 1, 1, 0, 0, 0, 0, 0, 0, 0,\n",
       "        0, 0, 0, 0, 0, 0],\n",
       "       [0, 0, 0, 0, 0, 0, 0, 0, 0, 0, 0, 0, 0, 1, 1, 0, 0, 0, 0, 0, 0, 0,\n",
       "        0, 0, 0, 0, 0, 0],\n",
       "       [0, 0, 0, 0, 0, 0, 0, 0, 0, 0, 0, 0, 0, 1, 1, 0, 0, 0, 0, 0, 0, 0,\n",
       "        0, 0, 0, 0, 0, 0],\n",
       "       [0, 0, 0, 0, 0, 0, 0, 0, 0, 0, 0, 0, 0, 1, 1, 0, 0, 0, 0, 0, 0, 0,\n",
       "        0, 0, 0, 0, 0, 0],\n",
       "       [0, 0, 0, 0, 0, 0, 0, 0, 0, 0, 0, 0, 0, 1, 1, 0, 0, 0, 0, 0, 0, 0,\n",
       "        0, 0, 0, 0, 0, 0],\n",
       "       [0, 0, 0, 0, 0, 0, 0, 0, 0, 0, 0, 0, 0, 1, 1, 0, 0, 0, 0, 0, 0, 0,\n",
       "        0, 0, 0, 0, 0, 0],\n",
       "       [0, 0, 0, 0, 0, 0, 0, 0, 0, 0, 0, 0, 0, 1, 1, 0, 0, 0, 0, 0, 0, 0,\n",
       "        0, 0, 0, 0, 0, 0],\n",
       "       [0, 0, 0, 0, 0, 0, 0, 0, 0, 0, 0, 0, 0, 1, 0, 0, 0, 0, 0, 0, 0, 0,\n",
       "        0, 0, 0, 0, 0, 0],\n",
       "       [0, 0, 0, 0, 0, 0, 0, 0, 0, 0, 0, 0, 0, 1, 0, 0, 0, 0, 0, 0, 0, 0,\n",
       "        0, 0, 0, 0, 0, 0],\n",
       "       [0, 0, 0, 0, 0, 0, 0, 0, 0, 0, 0, 0, 1, 1, 0, 0, 0, 0, 0, 0, 0, 0,\n",
       "        0, 0, 0, 0, 0, 0],\n",
       "       [0, 0, 0, 0, 0, 0, 0, 0, 0, 0, 0, 0, 1, 1, 0, 0, 0, 0, 0, 0, 0, 0,\n",
       "        0, 0, 0, 0, 0, 0],\n",
       "       [0, 0, 0, 0, 0, 0, 0, 0, 0, 0, 0, 0, 1, 1, 0, 0, 0, 0, 0, 0, 0, 0,\n",
       "        0, 0, 0, 0, 0, 0],\n",
       "       [0, 1, 1, 0, 0, 0, 0, 0, 0, 0, 0, 0, 1, 1, 0, 0, 0, 0, 0, 0, 0, 0,\n",
       "        0, 0, 0, 0, 0, 0],\n",
       "       [0, 1, 1, 1, 1, 1, 1, 1, 1, 1, 1, 1, 1, 1, 1, 1, 1, 1, 1, 1, 0, 0,\n",
       "        0, 0, 0, 0, 0, 0],\n",
       "       [0, 1, 0, 0, 0, 0, 0, 0, 0, 0, 0, 0, 1, 1, 1, 1, 1, 1, 1, 1, 1, 1,\n",
       "        1, 1, 1, 1, 1, 0],\n",
       "       [0, 0, 0, 0, 0, 0, 0, 0, 0, 0, 0, 0, 1, 0, 0, 0, 0, 0, 0, 0, 0, 0,\n",
       "        0, 0, 1, 1, 1, 1],\n",
       "       [0, 0, 0, 0, 0, 0, 0, 0, 0, 0, 0, 0, 1, 0, 0, 0, 0, 0, 0, 0, 0, 0,\n",
       "        0, 0, 0, 0, 1, 1],\n",
       "       [0, 0, 0, 0, 0, 0, 0, 0, 0, 0, 0, 1, 1, 0, 0, 0, 0, 0, 0, 0, 0, 0,\n",
       "        0, 0, 0, 0, 0, 0],\n",
       "       [0, 0, 0, 0, 0, 0, 0, 0, 0, 0, 0, 1, 1, 0, 0, 0, 0, 0, 0, 0, 0, 0,\n",
       "        0, 0, 0, 0, 0, 0],\n",
       "       [0, 0, 0, 0, 0, 0, 0, 0, 0, 0, 0, 1, 1, 0, 0, 0, 0, 0, 0, 0, 0, 0,\n",
       "        0, 0, 0, 0, 0, 0],\n",
       "       [0, 0, 0, 0, 0, 0, 0, 0, 0, 0, 0, 1, 1, 0, 0, 0, 0, 0, 0, 0, 0, 0,\n",
       "        0, 0, 0, 0, 0, 0],\n",
       "       [0, 0, 0, 0, 0, 0, 0, 0, 0, 0, 0, 1, 1, 0, 0, 0, 0, 0, 0, 0, 0, 0,\n",
       "        0, 0, 0, 0, 0, 0],\n",
       "       [0, 0, 0, 0, 0, 0, 0, 0, 0, 0, 0, 1, 1, 0, 0, 0, 0, 0, 0, 0, 0, 0,\n",
       "        0, 0, 0, 0, 0, 0],\n",
       "       [0, 0, 0, 0, 0, 0, 0, 0, 0, 0, 0, 0, 1, 0, 0, 0, 0, 0, 0, 0, 0, 0,\n",
       "        0, 0, 0, 0, 0, 0],\n",
       "       [0, 0, 0, 0, 0, 0, 0, 0, 0, 0, 0, 0, 1, 1, 0, 0, 0, 0, 0, 0, 0, 0,\n",
       "        0, 0, 0, 0, 0, 0],\n",
       "       [0, 0, 0, 0, 0, 0, 0, 0, 0, 0, 0, 0, 1, 1, 0, 0, 0, 0, 0, 0, 0, 0,\n",
       "        0, 0, 0, 0, 0, 0],\n",
       "       [0, 0, 0, 0, 0, 0, 0, 0, 0, 0, 0, 0, 0, 1, 0, 0, 0, 0, 0, 0, 0, 0,\n",
       "        0, 0, 0, 0, 0, 0]], dtype=int64),\n",
       "       array([[0, 0, 0, 1, 0, 0, 0, 0, 0, 0, 0, 1, 1, 1, 1, 0, 0, 0, 0, 0, 0, 0,\n",
       "        0, 0, 0, 0, 0, 0],\n",
       "       [0, 0, 0, 1, 0, 0, 0, 0, 0, 0, 0, 1, 1, 1, 1, 0, 0, 0, 0, 0, 0, 0,\n",
       "        0, 0, 0, 0, 0, 0],\n",
       "       [0, 0, 0, 1, 0, 0, 0, 0, 0, 0, 0, 1, 1, 1, 1, 0, 0, 0, 0, 0, 0, 0,\n",
       "        0, 0, 0, 0, 0, 0],\n",
       "       [0, 0, 0, 1, 0, 0, 0, 0, 0, 0, 0, 0, 0, 0, 1, 0, 0, 0, 0, 0, 0, 0,\n",
       "        0, 0, 0, 0, 0, 0],\n",
       "       [0, 0, 0, 1, 0, 0, 0, 0, 0, 0, 0, 0, 0, 0, 1, 0, 0, 0, 0, 0, 0, 0,\n",
       "        0, 0, 0, 0, 0, 0],\n",
       "       [0, 0, 0, 1, 0, 0, 0, 0, 0, 0, 0, 0, 0, 0, 1, 0, 0, 0, 0, 0, 0, 0,\n",
       "        0, 0, 0, 0, 0, 0],\n",
       "       [0, 0, 0, 1, 0, 0, 0, 0, 0, 0, 0, 0, 0, 0, 1, 0, 0, 0, 0, 0, 0, 0,\n",
       "        0, 0, 0, 0, 0, 0],\n",
       "       [0, 0, 0, 1, 0, 0, 0, 0, 0, 0, 0, 0, 0, 0, 1, 0, 0, 0, 0, 0, 0, 0,\n",
       "        0, 0, 0, 0, 0, 0],\n",
       "       [0, 0, 0, 1, 0, 0, 0, 0, 0, 0, 0, 0, 0, 0, 1, 0, 0, 0, 0, 0, 0, 0,\n",
       "        0, 0, 0, 0, 0, 0],\n",
       "       [0, 0, 0, 1, 0, 0, 0, 0, 0, 0, 0, 0, 0, 0, 1, 1, 1, 0, 0, 0, 0, 0,\n",
       "        0, 0, 0, 0, 0, 0],\n",
       "       [0, 0, 0, 1, 0, 0, 0, 0, 0, 0, 0, 0, 0, 0, 1, 0, 1, 0, 0, 0, 0, 0,\n",
       "        0, 0, 0, 0, 0, 0],\n",
       "       [0, 0, 0, 1, 0, 0, 0, 0, 0, 0, 0, 0, 0, 0, 1, 0, 1, 0, 0, 0, 0, 0,\n",
       "        0, 0, 0, 0, 0, 0],\n",
       "       [0, 0, 0, 1, 0, 0, 0, 0, 0, 0, 0, 0, 0, 0, 1, 1, 1, 1, 1, 1, 0, 0,\n",
       "        0, 0, 0, 0, 0, 0],\n",
       "       [0, 0, 0, 1, 0, 0, 0, 0, 0, 0, 0, 0, 0, 0, 1, 1, 1, 1, 1, 0, 0, 0,\n",
       "        0, 0, 0, 0, 0, 0],\n",
       "       [0, 0, 0, 1, 1, 1, 1, 1, 1, 1, 1, 1, 1, 1, 1, 1, 1, 1, 1, 0, 0, 0,\n",
       "        0, 0, 0, 0, 0, 0],\n",
       "       [0, 0, 0, 0, 0, 0, 1, 1, 1, 0, 0, 1, 0, 0, 0, 0, 0, 0, 1, 0, 0, 0,\n",
       "        0, 0, 0, 0, 0, 0],\n",
       "       [0, 0, 0, 0, 0, 0, 1, 1, 1, 0, 0, 1, 0, 0, 0, 0, 0, 0, 1, 0, 0, 0,\n",
       "        0, 0, 0, 0, 0, 0],\n",
       "       [0, 0, 0, 0, 0, 0, 1, 1, 1, 1, 1, 1, 0, 0, 0, 0, 0, 0, 1, 0, 0, 0,\n",
       "        0, 0, 0, 0, 0, 0],\n",
       "       [0, 0, 0, 0, 0, 0, 1, 1, 0, 0, 0, 0, 0, 0, 0, 0, 0, 0, 1, 1, 0, 0,\n",
       "        0, 0, 0, 0, 0, 0],\n",
       "       [0, 0, 0, 0, 0, 0, 0, 0, 0, 0, 0, 0, 0, 0, 0, 0, 0, 0, 1, 1, 0, 0,\n",
       "        0, 0, 0, 0, 0, 0],\n",
       "       [0, 0, 0, 0, 0, 0, 0, 0, 0, 0, 0, 0, 0, 0, 0, 0, 0, 0, 1, 1, 0, 0,\n",
       "        0, 0, 0, 0, 0, 0],\n",
       "       [0, 0, 0, 0, 0, 0, 0, 0, 0, 0, 0, 0, 0, 0, 0, 0, 0, 0, 0, 1, 0, 0,\n",
       "        0, 0, 0, 0, 0, 0],\n",
       "       [0, 0, 0, 0, 0, 0, 0, 0, 0, 0, 0, 0, 0, 0, 0, 0, 0, 0, 0, 1, 0, 0,\n",
       "        0, 0, 0, 0, 0, 0],\n",
       "       [0, 0, 0, 0, 0, 0, 0, 0, 0, 0, 0, 0, 0, 0, 0, 0, 0, 0, 0, 1, 0, 0,\n",
       "        0, 0, 0, 0, 0, 0],\n",
       "       [0, 0, 0, 0, 0, 0, 0, 0, 0, 0, 0, 0, 0, 0, 0, 0, 0, 0, 0, 1, 0, 0,\n",
       "        0, 0, 0, 0, 0, 0],\n",
       "       [0, 0, 0, 0, 0, 0, 0, 0, 0, 0, 0, 0, 0, 0, 0, 0, 0, 0, 0, 1, 0, 0,\n",
       "        0, 0, 0, 0, 0, 0],\n",
       "       [0, 0, 0, 0, 0, 0, 0, 0, 0, 0, 0, 0, 0, 0, 0, 0, 0, 0, 0, 1, 1, 1,\n",
       "        1, 1, 1, 0, 0, 0],\n",
       "       [0, 0, 0, 0, 0, 0, 0, 0, 0, 0, 0, 0, 0, 0, 0, 0, 0, 0, 0, 1, 1, 1,\n",
       "        1, 1, 1, 0, 0, 0]], dtype=int64)], dtype=object)"
      ]
     },
     "execution_count": 3,
     "metadata": {},
     "output_type": "execute_result"
    }
   ],
   "source": [
    "#look at the data.\n",
    "train_data[:,0]"
   ]
  },
  {
   "cell_type": "code",
   "execution_count": 4,
   "metadata": {},
   "outputs": [
    {
     "data": {
      "text/plain": [
       "(200331, 2)"
      ]
     },
     "execution_count": 4,
     "metadata": {},
     "output_type": "execute_result"
    }
   ],
   "source": [
    "#Check shape of data. array of arrays plus class identifier.\n",
    "train_data.shape"
   ]
  },
  {
   "cell_type": "code",
   "execution_count": 5,
   "metadata": {},
   "outputs": [
    {
     "data": {
      "text/plain": [
       "'2'"
      ]
     },
     "execution_count": 5,
     "metadata": {},
     "output_type": "execute_result"
    }
   ],
   "source": [
    "#Check class identifier.\n",
    "train_data[0,1]"
   ]
  },
  {
   "cell_type": "code",
   "execution_count": 6,
   "metadata": {},
   "outputs": [
    {
     "data": {
      "image/png": "[encoded data removed]",
      "text/plain": [
       "<Figure size 432x288 with 1 Axes>"
      ]
     },
     "metadata": {
      "needs_background": "light"
     },
     "output_type": "display_data"
    }
   ],
   "source": [
    "#Check image output.\n",
    "plt.imshow(train_data[10,0], cmap = 'gray_r', vmin = 0, vmax = 1)\n",
    "plt.show()"
   ]
  },
  {
   "cell_type": "code",
   "execution_count": 7,
   "metadata": {},
   "outputs": [],
   "source": [
    "#Dictionary of classifiers by symbol type.\n",
    "#Different symbols will be used for different NN models.\n",
    "data_classes = {'digit' : ['1', '2', '3', '4', '5', '6', '7', '8', '9'], 'bracket' : ['[', ']'], 'operation' : ['+', '-']}"
   ]
  },
  {
   "cell_type": "code",
   "execution_count": 8,
   "metadata": {},
   "outputs": [],
   "source": [
    "#Storage for data by symbol types.\n",
    "train_digits = []\n",
    "train_brackets = []\n",
    "train_operations = []"
   ]
  },
  {
   "cell_type": "code",
   "execution_count": 9,
   "metadata": {},
   "outputs": [],
   "source": [
    "#Put data into seperate arrays depending on type. We have some extra images we won't use - namely '%'.\n",
    "for i in range(0, train_data.shape[0]):\n",
    "    if train_data[i, 1] in data_classes['digit']:\n",
    "        train_digits.append(train_data[i, :])\n",
    "    elif train_data[i, 1] in data_classes['bracket']:\n",
    "        train_brackets.append(train_data[i, :])\n",
    "    elif train_data[i, 1] in data_classes['operation']:\n",
    "        train_operations.append(train_data[i, :])        "
   ]
  },
  {
   "cell_type": "code",
   "execution_count": 10,
   "metadata": {},
   "outputs": [],
   "source": [
    "#Data and target variables for digits.\n",
    "X_train_digits = np.array(train_digits)[:, 0]\n",
    "y_train_digits = np.array(train_digits)[:, 1]"
   ]
  },
  {
   "cell_type": "code",
   "execution_count": 11,
   "metadata": {},
   "outputs": [],
   "source": [
    "#Recast digit classes as int to match with mnist.\n",
    "y_train_digits = y_train_digits.astype('int32')"
   ]
  },
  {
   "cell_type": "code",
   "execution_count": 12,
   "metadata": {},
   "outputs": [],
   "source": [
    "#Image dimensions of all data.\n",
    "img_rows = 28\n",
    "img_cols = 28"
   ]
  },
  {
   "cell_type": "code",
   "execution_count": 13,
   "metadata": {},
   "outputs": [],
   "source": [
    "#Reshape digit images for NN processing as done with mnist before.\n",
    "X_train_digits = np.stack(X_train_digits).reshape(X_train_digits.shape[0], img_rows, img_cols, 1)"
   ]
  },
  {
   "cell_type": "code",
   "execution_count": 14,
   "metadata": {},
   "outputs": [],
   "source": [
    "#Recast pixels as floats to match mnist from before.\n",
    "X_train_digits = X_train_digits.astype('float32')"
   ]
  },
  {
   "cell_type": "code",
   "execution_count": 15,
   "metadata": {},
   "outputs": [],
   "source": [
    "#Data and target for other symbols.\n",
    "X_train_brackets = np.array(train_brackets)[:, 0]\n",
    "y_train_brackets = np.array(train_brackets)[:, 1]\n",
    "\n",
    "X_train_operations = np.array(train_operations)[:, 0]\n",
    "y_train_operations = np.array(train_operations)[:, 1]"
   ]
  },
  {
   "cell_type": "code",
   "execution_count": 16,
   "metadata": {},
   "outputs": [],
   "source": [
    "#Reshaping images for other symbols as done with digits.\n",
    "X_train_brackets = np.stack(X_train_brackets).reshape(X_train_brackets.shape[0], img_rows, img_cols, 1)\n",
    "X_train_operations = np.stack(X_train_operations).reshape(X_train_operations.shape[0], img_rows, img_cols, 1)"
   ]
  },
  {
   "cell_type": "code",
   "execution_count": 17,
   "metadata": {},
   "outputs": [],
   "source": [
    "#Recast the rest of the training pixels.\n",
    "X_train_brackets = X_train_brackets.astype('float32')\n",
    "X_train_operations = X_train_operations.astype('float32')"
   ]
  },
  {
   "cell_type": "code",
   "execution_count": 18,
   "metadata": {},
   "outputs": [],
   "source": [
    "#Make sure pixel values range from 0 to 1.\n",
    "#If largest pixel values is greater than 1, we scale the values.\n",
    "ind_digits = np.unravel_index(np.argmax(X_train_digits, axis=None), X_train_digits.shape)\n",
    "ind_brackets = np.unravel_index(np.argmax(X_train_brackets, axis=None), X_train_brackets.shape)\n",
    "ind_operations = np.unravel_index(np.argmax(X_train_operations, axis=None), X_train_operations.shape)\n",
    "\n",
    "if (X_train_digits[ind_digits] > 1):\n",
    "    X_train_digits = X_train_digits / 255\n",
    "\n",
    "if (X_train_brackets[ind_brackets] > 1):\n",
    "    X_train_brackets = X_train_brackets / 255\n",
    "\n",
    "if (X_train_operations[ind_operations] > 1):\n",
    "    X_train_operations = X_train_operations / 255"
   ]
  },
  {
   "cell_type": "code",
   "execution_count": 19,
   "metadata": {},
   "outputs": [
    {
     "data": {
      "text/plain": [
       "((66777, 2), (66778, 2))"
      ]
     },
     "execution_count": 19,
     "metadata": {},
     "output_type": "execute_result"
    }
   ],
   "source": [
    "#Check shape of validation and testing data. array of arrays plus class identifier.\n",
    "validation_data.shape, test_data.shape"
   ]
  },
  {
   "cell_type": "code",
   "execution_count": 20,
   "metadata": {},
   "outputs": [],
   "source": [
    "#Storage for validation and test data by symbol types.\n",
    "validation_digits = []\n",
    "validation_brackets = []\n",
    "validation_operations = []\n",
    "\n",
    "test_digits = []\n",
    "test_brackets = []\n",
    "test_operations = []"
   ]
  },
  {
   "cell_type": "code",
   "execution_count": 21,
   "metadata": {},
   "outputs": [],
   "source": [
    "#Put validation data into seperate arrays depending on type. We have some extra images we won't use - namely '%'.\n",
    "for i in range(0, validation_data.shape[0]):\n",
    "    if validation_data[i, 1] in data_classes['digit']:\n",
    "        validation_digits.append(validation_data[i, :])\n",
    "    elif validation_data[i, 1] in data_classes['bracket']:\n",
    "        validation_brackets.append(validation_data[i, :])\n",
    "    elif validation_data[i, 1] in data_classes['operation']:\n",
    "        validation_operations.append(validation_data[i, :])\n",
    "\n",
    "#Do this same for test data. \n",
    "#The datasets have different number of rows so the code seems clearer with tow seperate loops.\n",
    "for i in range(0, test_data.shape[0]):\n",
    "    if test_data[i, 1] in data_classes['digit']:\n",
    "        test_digits.append(test_data[i, :])\n",
    "    elif test_data[i, 1] in data_classes['bracket']:\n",
    "        test_brackets.append(test_data[i, :])\n",
    "    elif test_data[i, 1] in data_classes['operation']:\n",
    "        test_operations.append(test_data[i, :]) "
   ]
  },
  {
   "cell_type": "code",
   "execution_count": 22,
   "metadata": {},
   "outputs": [],
   "source": [
    "#Validation data and target variables.\n",
    "X_validation_digits = np.array(validation_digits)[:, 0]\n",
    "y_validation_digits = np.array(validation_digits)[:, 1]\n",
    "\n",
    "X_validation_brackets = np.array(validation_brackets)[:, 0]\n",
    "y_validation_brackets = np.array(validation_brackets)[:, 1]\n",
    "\n",
    "X_validation_operations = np.array(validation_operations)[:, 0]\n",
    "y_validation_operations = np.array(validation_operations)[:, 1]\n",
    "\n",
    "#Reshape validation images for NN processing as done with mnist before.\n",
    "X_validation_digits = np.stack(X_validation_digits).reshape(X_validation_digits.shape[0], img_rows, img_cols, 1)\n",
    "X_validation_brackets = np.stack(X_validation_brackets).reshape(X_validation_brackets.shape[0], img_rows, img_cols, 1)\n",
    "X_validation_operations = np.stack(X_validation_operations).reshape(X_validation_operations.shape[0], img_rows, img_cols, 1)\n",
    "\n",
    "#Recast validation digit classes as int.\n",
    "y_validation_digits = y_validation_digits.astype('int32')\n",
    "\n",
    "#Recast validation pixels as floats\n",
    "X_validation_digits = X_validation_digits.astype('float32')\n",
    "X_validation_brackets = X_validation_brackets.astype('float32')\n",
    "X_validation_operations = X_validation_operations.astype('float32')\n",
    "\n",
    "#Make sure pixel values range from 0 to 1.\n",
    "#If pixel largest pixel value is more than 1, we scale the values.\n",
    "ind_digits = np.unravel_index(np.argmax(X_validation_digits, axis=None), X_validation_digits.shape)\n",
    "ind_brackets = np.unravel_index(np.argmax(X_validation_brackets, axis=None), X_validation_brackets.shape)\n",
    "ind_operations = np.unravel_index(np.argmax(X_validation_operations, axis=None), X_validation_operations.shape)\n",
    "\n",
    "if (X_validation_digits[ind_digits] > 1):\n",
    "    X_validation_digits = X_validation_digits / 255\n",
    "\n",
    "if (X_validation_brackets[ind_brackets] > 1):\n",
    "    X_validation_brackets = X_validation_brackets / 255\n",
    "\n",
    "if (X_validation_operations[ind_operations] > 1):\n",
    "    X_validation_operations = X_validation_operations / 255"
   ]
  },
  {
   "cell_type": "code",
   "execution_count": 23,
   "metadata": {},
   "outputs": [],
   "source": [
    "#Test data and target variables.\n",
    "X_test_digits = np.array(test_digits)[:, 0]\n",
    "y_test_digits = np.array(test_digits)[:, 1]\n",
    "\n",
    "X_test_brackets = np.array(test_brackets)[:, 0]\n",
    "y_test_brackets = np.array(test_brackets)[:, 1]\n",
    "\n",
    "X_test_operations = np.array(test_operations)[:, 0]\n",
    "y_test_operations = np.array(test_operations)[:, 1]\n",
    "\n",
    "#Reshape test images for NN processing as done with mnist before.\n",
    "X_test_digits = np.stack(X_test_digits).reshape(X_test_digits.shape[0], img_rows, img_cols, 1)\n",
    "X_test_brackets = np.stack(X_test_brackets).reshape(X_test_brackets.shape[0], img_rows, img_cols, 1)\n",
    "X_test_operations = np.stack(X_test_operations).reshape(X_test_operations.shape[0], img_rows, img_cols, 1)\n",
    "\n",
    "#Recast test digit classes as int.\n",
    "y_test_digits = y_test_digits.astype('int32')\n",
    "\n",
    "#Recast test pixels as floats\n",
    "X_test_digits = X_test_digits.astype('float32')\n",
    "X_test_brackets = X_test_brackets.astype('float32')\n",
    "X_test_operations = X_test_operations.astype('float32')\n",
    "\n",
    "#Make sure pixel values range from 0 to 1.\n",
    "#If pixel largest pixel value is more than 1, we scale the values.\n",
    "ind_digits = np.unravel_index(np.argmax(X_test_digits, axis=None), X_test_digits.shape)\n",
    "ind_brackets = np.unravel_index(np.argmax(X_test_brackets, axis=None), X_test_brackets.shape)\n",
    "ind_operations = np.unravel_index(np.argmax(X_test_operations, axis=None), X_test_operations.shape)\n",
    "\n",
    "if (X_test_digits[ind_digits] > 1):\n",
    "    X_test_digits = X_test_digits / 255\n",
    "\n",
    "if (X_test_brackets[ind_brackets] > 1):\n",
    "    X_test_brackets = X_test_brackets / 255\n",
    "\n",
    "if (X_test_operations[ind_operations] > 1):\n",
    "    X_test_operations = X_test_operations / 255"
   ]
  },
  {
   "cell_type": "markdown",
   "metadata": {},
   "source": [
    "Upon training the neural networks, we realized that brackets were being misclassified as operations and digits. We discovered that this is due to the fact that we trained the neural networks on unfiltered images of brackets but when constructing matrices, the bracket images get stretched. Then, to feed in these stretched brackets to be classified, they were reshaped again. This caused significant data loss. \n",
    "\n",
    "The first attempted remedy was to augment the bracket data with a Gaussian filter which doubled the number of bracket images and allowed the models to learn blurrier bracket images. Although the images with a Gaussian filter and the images which were reshaped twice produced visually similar results, the approach was not sufficient for training the neural networks. Thus, we augment the bracket data by reshaping the training and validation brackets as if they were fit to a 3x3 matrix then scaled to conform with the model input requirements. This ensures that we are training the networks on the same type of bracket data as we are testing.\n",
    "\n",
    "One approach that we did not have a chance to try was using techniques to sharpen the bracket images after reshaping. We also did not add resized brackets for 2x2 matrices since reshaping to fit a 3x3 matrix should produce similar but more extreme results."
   ]
  },
  {
   "cell_type": "code",
   "execution_count": 24,
   "metadata": {},
   "outputs": [],
   "source": [
    "#We resize the brackets to match the dimensions used in building 3x3 matrices..\n",
    "#Note that then the filtered brackets are already size 32x32x1 so padding will act trivially on them.\n",
    "\n",
    "#Brackets will likely be taller than digits so they will get distorted during preprocessing.\n",
    "X_train_brackets_filtered = []\n",
    "X_validation_brackets_filtered = []\n",
    "X_test_brackets_filtered = []\n",
    "\n",
    "#Replace images with filtered images\n",
    "for i in range(0, X_train_brackets.shape[0]):\n",
    "    #X_train_brackets_filtered[i] = gaussian_filter(X_train_brackets[i], sigma = 1)\n",
    "    X_train_brackets_filtered.append(resize(resize(X_train_brackets[i],(96,16,1)), (32,32,1)))\n",
    "    \n",
    "for i in range(0, X_validation_brackets.shape[0]):\n",
    "    #X_validation_brackets_filtered[i] = gaussian_filter(X_validation_brackets[i], sigma = 1)\n",
    "    X_validation_brackets_filtered.append(resize(resize(X_validation_brackets[i],(96,16,1)), (32,32,1)))\n",
    "    \n",
    "for i in range(0, X_test_brackets.shape[0]):\n",
    "    #X_test_brackets_filtered[i] = gaussian_filter(X_test_brackets[i], sigma = 1)\n",
    "    X_test_brackets_filtered.append(resize(resize(X_test_brackets[i],(96,16,1)), (32,32,1)))\n",
    "    \n",
    "X_train_brackets_filtered = np.array(X_train_brackets_filtered)\n",
    "X_validation_brackets_filtered = np.array(X_validation_brackets_filtered)\n",
    "X_test_brackets_filtered = np.array(X_test_brackets_filtered)\n",
    "\n",
    "#Order of the brackets is preserved so target variable is the same as unfiltered data.\n",
    "y_train_brackets_filtered = y_train_brackets.copy()\n",
    "y_validation_brackets_filtered = y_validation_brackets.copy()\n",
    "y_test_brackets_filtered = y_test_brackets.copy()"
   ]
  },
  {
   "cell_type": "markdown",
   "metadata": {},
   "source": [
    "We load in the MNIST data here and process it in the standard way. We then apply a Gaussian filter. The intended outcome of applying the filter was so the digit recognition neural network could learn more of the general shape of the digits since handwriting varies greatly. We also split the training data into train and validation to fit the Kaggle data."
   ]
  },
  {
   "cell_type": "code",
   "execution_count": 25,
   "metadata": {},
   "outputs": [],
   "source": [
    "#Load the MNIST data, split between train and test sets by default.\n",
    "#Other digit data is unrelated to MNIST so we can use both datasets.\n",
    "(X_train_mnist, y_train_mnist), (X_test_mnist, y_test_mnist) = mnist.load_data()"
   ]
  },
  {
   "cell_type": "code",
   "execution_count": 26,
   "metadata": {},
   "outputs": [],
   "source": [
    "#Reshape for Keras model types.\n",
    "X_train_mnist = X_train_mnist.reshape(X_train_mnist.shape[0], img_rows, img_cols, 1)\n",
    "X_test_mnist = X_test_mnist.reshape(X_test_mnist.shape[0], img_rows, img_cols, 1)"
   ]
  },
  {
   "cell_type": "code",
   "execution_count": 27,
   "metadata": {},
   "outputs": [],
   "source": [
    "#Recast pixels as floats and modify the pixel values to be in the range of 0 to 1.\n",
    "#We already know the mnist data form keras needs to be scaled.\n",
    "X_train_mnist = X_train_mnist.astype('float32')\n",
    "X_test_mnist = X_test_mnist.astype('float32')\n",
    "X_train_mnist /= 255\n",
    "X_test_mnist /= 255\n",
    "\n",
    "#Add gaussian filter to the mnist digits in an attempt to learn the general shapes of digits.\n",
    "for n in range(0, X_train_mnist.shape[0]):\n",
    "    X_train_mnist[n] = gaussian_filter(X_train_mnist[n], sigma = 1)"
   ]
  },
  {
   "cell_type": "code",
   "execution_count": 28,
   "metadata": {},
   "outputs": [],
   "source": [
    "#Use the same validation percentage as above.\n",
    "validation_pct = 0.25\n",
    "\n",
    "#Take the validation set from the end of the training set.\n",
    "validation_split = int(X_train_mnist.shape[0] * (1 - validation_pct))"
   ]
  },
  {
   "cell_type": "code",
   "execution_count": 29,
   "metadata": {},
   "outputs": [],
   "source": [
    "#Split the training set into train and validation.\n",
    "X_validation_mnist = X_train_mnist[validation_split : X_train_mnist.shape[0]]\n",
    "X_train_mnist = X_train_mnist[0 : validation_split]"
   ]
  },
  {
   "cell_type": "code",
   "execution_count": 30,
   "metadata": {},
   "outputs": [],
   "source": [
    "#Split the training target set into train and validation.\n",
    "y_validation_mnist = y_train_mnist[validation_split : y_train_mnist.shape[0]]\n",
    "y_train_mnist = y_train_mnist[0 : validation_split]"
   ]
  },
  {
   "cell_type": "code",
   "execution_count": 31,
   "metadata": {},
   "outputs": [],
   "source": [
    "#Merge training digit data sets together.\n",
    "X_train_digits = np.concatenate((X_train_digits, X_train_mnist), axis = 0)\n",
    "y_train_digits = np.concatenate((y_train_digits, y_train_mnist), axis = 0)\n",
    "\n",
    "#Merge validation digit data sets.\n",
    "X_validation_digits = np.concatenate((X_validation_digits, X_validation_mnist), axis = 0)\n",
    "y_validation_digits = np.concatenate((y_validation_digits, y_validation_mnist), axis = 0)"
   ]
  },
  {
   "cell_type": "code",
   "execution_count": 32,
   "metadata": {},
   "outputs": [],
   "source": [
    "#Merge test digit data sets. \n",
    "X_test_digits = np.concatenate((X_test_digits, X_test_mnist), axis = 0)\n",
    "y_test_digits = np.concatenate((y_test_digits, y_test_mnist), axis = 0)"
   ]
  },
  {
   "cell_type": "code",
   "execution_count": 33,
   "metadata": {},
   "outputs": [
    {
     "data": {
      "image/png": "[encoded data removed]",
      "text/plain": [
       "<Figure size 432x288 with 1 Axes>"
      ]
     },
     "metadata": {
      "needs_background": "light"
     },
     "output_type": "display_data"
    }
   ],
   "source": [
    "#Example of a digit from Kaggle data.\n",
    "plt.figure()\n",
    "plt.imshow(X_train_digits[0], cmap = 'gray_r', vmin = 0, vmax = 1)\n",
    "plt.show()"
   ]
  },
  {
   "cell_type": "code",
   "execution_count": 34,
   "metadata": {},
   "outputs": [
    {
     "data": {
      "image/png": "[encoded data removed]",
      "text/plain": [
       "<Figure size 432x288 with 1 Axes>"
      ]
     },
     "metadata": {
      "needs_background": "light"
     },
     "output_type": "display_data"
    }
   ],
   "source": [
    "#Example of MNIST digit with gaussian filter.\n",
    "plt.figure()\n",
    "plt.imshow(X_train_digits[-1], cmap = 'gray_r', vmin = 0, vmax = 1)\n",
    "plt.show()"
   ]
  },
  {
   "cell_type": "code",
   "execution_count": 35,
   "metadata": {},
   "outputs": [
    {
     "data": {
      "image/png": "[encoded data removed]",
      "text/plain": [
       "<Figure size 432x288 with 1 Axes>"
      ]
     },
     "metadata": {
      "needs_background": "light"
     },
     "output_type": "display_data"
    }
   ],
   "source": [
    "#Example of minus operation from Kaggle.\n",
    "plt.figure()\n",
    "plt.imshow(X_train_operations[0], cmap = 'gray_r', vmin = 0, vmax = 1)\n",
    "plt.show()"
   ]
  },
  {
   "cell_type": "code",
   "execution_count": 36,
   "metadata": {},
   "outputs": [
    {
     "data": {
      "image/png": "[encoded data removed]",
      "text/plain": [
       "<Figure size 432x288 with 1 Axes>"
      ]
     },
     "metadata": {
      "needs_background": "light"
     },
     "output_type": "display_data"
    }
   ],
   "source": [
    "#Example of plus operation from Kaggle.\n",
    "plt.figure()\n",
    "plt.imshow(X_train_operations[3], cmap = 'gray_r', vmin = 0, vmax = 1)\n",
    "plt.show()"
   ]
  },
  {
   "cell_type": "code",
   "execution_count": 37,
   "metadata": {},
   "outputs": [
    {
     "data": {
      "image/png": "[encoded data removed]",
      "text/plain": [
       "<Figure size 432x288 with 1 Axes>"
      ]
     },
     "metadata": {
      "needs_background": "light"
     },
     "output_type": "display_data"
    }
   ],
   "source": [
    "#Example of right bracket from Kaggle.\n",
    "plt.figure()\n",
    "plt.imshow(X_train_brackets[0], cmap = 'gray_r', vmin = 0, vmax = 1)\n",
    "plt.show()"
   ]
  },
  {
   "cell_type": "code",
   "execution_count": 38,
   "metadata": {
    "scrolled": true
   },
   "outputs": [
    {
     "data": {
      "image/png": "[encoded data removed]",
      "text/plain": [
       "<Figure size 432x288 with 1 Axes>"
      ]
     },
     "metadata": {
      "needs_background": "light"
     },
     "output_type": "display_data"
    }
   ],
   "source": [
    "#Example of left bracket from Kaggle.\n",
    "plt.figure()\n",
    "plt.imshow(X_train_brackets[-1], cmap = 'gray_r', vmin = 0, vmax = 1)\n",
    "plt.show()"
   ]
  },
  {
   "cell_type": "markdown",
   "metadata": {},
   "source": [
    "Now we define five functions which we use throughout data processing, data synthesis, and parsing through input images. The functions are 'padding', 'digit_cropping', 'img_partition', 'bracket_removal', and 'synth_mat'.\n",
    "\n",
    "The padding function is used to pad images with 0 valued pixels if the dimensions are too small for the neural network input. \n",
    "\n",
    "The digit_cropping function is used get the smallest square of pixels containing the digit. However, the function can be used for any image where the pixels form a connected set.\n",
    "\n",
    "The img_partition function is the main piece of code which we used to deconstruct matrices and equations. It scans through an axis, storing the locations of the edges of connected features.\n",
    "\n",
    "The bracket_removal function is used to removing brackets from an image. This function requires that the brackets are the outermost features.\n",
    "\n",
    "The synth_mat function is the main piece of code which we use to construct data. It builds matrices by randomly selecting digits and brackets from input data."
   ]
  },
  {
   "cell_type": "code",
   "execution_count": 39,
   "metadata": {},
   "outputs": [],
   "source": [
    "def padding(imgs, new_size = (32, 32, 1)):\n",
    "    '''\n",
    "    Takes array of images, (array of pixels all with the same size), as input and padds with zeroes.\n",
    "    Defualt new_size is 32x32x1 and mnist data is 28x28x1.\n",
    "    \n",
    "    Example: input an array of 28x28x1 images and get an array of 32x32x1 images. \n",
    "    '''\n",
    "    \n",
    "    #Check that the size inputs are integers.\n",
    "    assert isinstance(new_size[0], int), 'Number of rows must be an integer.'\n",
    "    assert isinstance(new_size[1], int), 'Number of columns must be an integer.'   \n",
    "    \n",
    "    #Get amount of padding for rows and columns. \n",
    "    #This assumes all images in imgs have the same dimensions\n",
    "    padding = [new_size[0] - imgs[0].shape[0], new_size[1] - imgs[0].shape[1]]\n",
    "    \n",
    "    #Check that the amount of padding is divisible by 2.\n",
    "    #assert ((np.remainder(padding[0], 2) == 0) & (np.remainder(padding[1], 2) == 0)), 'Pad each side the same amount.'\n",
    "    \n",
    "    #Initialize variable to store images. Pad rows first.\n",
    "    padded_imgs = []\n",
    "    \n",
    "    #Pad the images.\n",
    "    for img in imgs:\n",
    "        \n",
    "        #Row padding will have length given by image inputs.\n",
    "        #The column padding has height given by the desired new height.\n",
    "        #In case we need to pad an odd number of rows or columns, use floor and ceiling.\n",
    "        row_pad1 = np.zeros((int(np.floor(padding[0] / 2)), imgs[0].shape[1], 1), np.float32)\n",
    "        col_pad1 = np.zeros((new_size[0], int(np.floor(padding[1] / 2)), 1), np.float32)\n",
    "        row_pad2 = np.zeros((int(np.ceil(padding[0] / 2)), imgs[0].shape[1], 1), np.float32)\n",
    "        col_pad2 = np.zeros((new_size[0], int(np.ceil(padding[1] / 2)), 1), np.float32)\n",
    "\n",
    "        pad = np.concatenate([row_pad1, img, row_pad2], axis = 0)\n",
    "        pad = np.concatenate([col_pad1, pad, col_pad2], axis = 1)\n",
    "        padded_imgs.append(pad)\n",
    "    \n",
    "    #Return an array of padded images\n",
    "    return np.array(padded_imgs)"
   ]
  },
  {
   "cell_type": "code",
   "execution_count": 40,
   "metadata": {},
   "outputs": [],
   "source": [
    "def digit_cropping(img):\n",
    "    '''\n",
    "    Input: image to be cropped.\n",
    "    Output: image with white space removed from edges. \n",
    "    Can be used to crop any image, not just digits.\n",
    "    \n",
    "    If a row or column of pixels sums to zero, remove it.\n",
    "    '''\n",
    "    \n",
    "    #Check horizontal axis first, then vertical axis.\n",
    "    #Check is either edge along axis is blank.\n",
    "    #Remove edge if blank and update image.\n",
    "    #Do this until no blank edge.\n",
    "    for i in [0, 1]:\n",
    "        for j in [-1, 0]:\n",
    "            if (i == 0):\n",
    "                pix_sum = sum(img[j, :])\n",
    "                while (pix_sum == 0):\n",
    "                    img = np.delete(img, j, i)\n",
    "                    pix_sum = sum(img[j, :])\n",
    "            else:\n",
    "                pix_sum = sum(img[:, j])\n",
    "                while (pix_sum == 0):\n",
    "                    img = np.delete(img, j, i)\n",
    "                    pix_sum = sum(img[:, j])\n",
    "\n",
    "    return img"
   ]
  },
  {
   "cell_type": "code",
   "execution_count": 41,
   "metadata": {},
   "outputs": [],
   "source": [
    "def img_partition(img, dim, scan_width):\n",
    "    ''' \n",
    "    Input:\n",
    "    img is an 2D array representing a greyscale image and desired dimension to partition\n",
    "    dim is a string denoting rows or columns\n",
    "    scan_width give the thickness of scanning box we use to sum pixel values.\n",
    "    \n",
    "    Output: \n",
    "    an array of vertical or horizontal partition locations the seperate image components.\n",
    "    \n",
    "    Example, input 3x2 matrix, 'col', 2.\n",
    "    Output [p1, p2] the right bounds defining each column. Parts of images separated by at most 1 black pixel are considered the same part.\n",
    "    '''\n",
    "    \n",
    "    #Check that image has the right shape. Should be 2D. A third dimension must be 1 if it exists.\n",
    "    assert (((len(img.shape) == 3) & (img.shape[2] == 1)) | (len(img.shape) == 2)), 'Image must be 2D array. Colour dimension must be 1 if present.'\n",
    "    \n",
    "    #Check that img is an array of floats\n",
    "    for j in img:\n",
    "        assert (j.dtype in (np.float32, np.float64)), 'Image pixel must have float value.'\n",
    "    \n",
    "    #Check partition axis is specified.\n",
    "    assert ((dim == 'col') | (dim == 'row')), 'Specify dimension string \"col\" for column or \"row\" for row.'\n",
    "    \n",
    "    assert isinstance(scan_width, int), 'Scanning box thickness must be an integer.'\n",
    "    \n",
    "    assert (scan_width > 0), 'Scanning box thickness must be positive.'\n",
    "    \n",
    "    #Initialise variable for bookkeeping.\n",
    "    dim_length = 0\n",
    "    detect_img = False\n",
    "    bounds = []\n",
    "    \n",
    "    #If counting rows, we scan down the image so we want image height.\n",
    "    if (dim == 'row'):\n",
    "        dim_length = img.shape[0]\n",
    "    #If we are counting columns, we scan accorss the image so we want image length.\n",
    "    else:\n",
    "        dim_length = img.shape[1]\n",
    "        \n",
    "    #Check that scanning box is not too large relative to image.\n",
    "    assert (scan_width < np.floor(dim_length / 2)), 'Scanning box is too large.'\n",
    "    \n",
    "    #Scan along desired axis and sum pixel values.\n",
    "    for i in range(0, dim_length - scan_width, scan_width):\n",
    "        if (dim == 'row'):\n",
    "            dim_val = np.sum(img[i : i + scan_width, :])\n",
    "        else:\n",
    "            dim_val = np.sum(img[:, i : i + scan_width])\n",
    "    \n",
    "        if (dim_val > 0):\n",
    "            #Sum of pixels being nonzero means some part of the image has been detected along the axis.\n",
    "            detect_img = True\n",
    "        else:\n",
    "            #If no image is detected and there previously was an image detected,\n",
    "            #store the axis value as the rightmost bound of image and continue.\n",
    "            if (detect_img == True):\n",
    "                detect_img = False\n",
    "                bounds.append(i)\n",
    "    \n",
    "    #If detecting only one entry with no white space, set boundary to right edge.\n",
    "    #This should only happen if scan_width is too large.\n",
    "    if (len(bounds) == 0):\n",
    "        bounds.append(dim_length - 1)\n",
    "    \n",
    "    #Check last boundary depending on axis.\n",
    "    if (dim == 'row'):\n",
    "        #If there is an image detected between last boundary and edge of image.\n",
    "        if np.sum(img[bounds[-1] : dim_length, :]) > 0:\n",
    "            #Add largest value of axis as boundary.\n",
    "            bounds.append(dim_length - 1)\n",
    "        else:\n",
    "            #Nothing between last boundary and image edge.\n",
    "            #Set the bound to be the largest value on that axis.\n",
    "            bounds[-1] = dim_length - 1\n",
    "    else:\n",
    "        #If there is an image detected between last boundary and edge of image.\n",
    "        if (np.sum(img[:, bounds[-1] : dim_length]) > 0):\n",
    "            #Add largest value of axis as boundary.\n",
    "            bounds.append(dim_length - 1)\n",
    "        else:\n",
    "            #Nothing between last boundary and image edge.\n",
    "            #Set the bound to be the largest value on that axis.\n",
    "            bounds[-1] = dim_length - 1\n",
    "        \n",
    "    return bounds"
   ]
  },
  {
   "cell_type": "code",
   "execution_count": 42,
   "metadata": {},
   "outputs": [],
   "source": [
    "def bracket_removal(img):\n",
    "    '''\n",
    "    Brackets often partially wrap around the symbols contained within.\n",
    "    This will cause significant issues for the img_partition() function.\n",
    "    We take in an image of a matrix and output the image without brackets.\n",
    "    This is to be applied after the neural network has decided the image is a matrix.\n",
    "    \n",
    "    Slice the image into horizontal strips of a fixed height. \n",
    "    Use img_partition to get the first and last pieces of the image slice.\n",
    "    Each piece should be a part of the bracket. \n",
    "    Remove the bracket slices and store in a new array.\n",
    "    Piece together the image without the brackets and output.\n",
    "    \n",
    "    Example: input an image like [b c] and get b c as output. \n",
    "    '''\n",
    "    \n",
    "    #Set the height of the slice. \n",
    "    slice_height = 2\n",
    "    \n",
    "    #Slice should divide image height.\n",
    "    assert (np.remainder(img.shape[0], slice_height) == 0), 'Slice height should divide image height.'\n",
    "    \n",
    "    #Number of slices of the image.\n",
    "    num_slices = int(img.shape[0] / slice_height)\n",
    "    \n",
    "    #Get partitions for each slice. Using scan_width = 1 in img_partition().\n",
    "    for n in range(0, num_slices):\n",
    "        #Partition slice to get location of features.\n",
    "        slice_partition = img_partition(img[n * slice_height : (n + 1) * slice_height, :], 'col', 4)\n",
    "        \n",
    "        #Array of zeroes with the same dimensions as image slice.\n",
    "        #We will store the slice with brackets removed here.\n",
    "        img_slice = np.zeros((slice_height, img.shape[1], 1))\n",
    "        \n",
    "        #If slice_partition is of length 1, then the slice is all white space and the partition is just the last column of pixels.\n",
    "        #This means we can skip and attempt to remove a part of a bracket here.\n",
    "        if (len(slice_partition) > 1):\n",
    "            #Left side to first partition and second last partition to right side are zero.\n",
    "            #Note partition gives right edge of image piece.\n",
    "            #Middle of image is the same.\n",
    "            img_slice = np.hstack([np.zeros((slice_height, slice_partition[0] - 1, 1)), \n",
    "                                  img[n * slice_height : (n + 1) * slice_height, slice_partition[0] : slice_partition[-2]],\n",
    "                                  np.zeros((slice_height, img.shape[1] - slice_partition[-2] + 1, 1))]) \n",
    "\n",
    "        #First iteration, store slice. Subsequent iterations, stack slices under.\n",
    "        if (n == 0):\n",
    "            img_no_brackets = img_slice\n",
    "        else:\n",
    "            img_no_brackets = np.vstack([img_no_brackets, img_slice])\n",
    "        \n",
    "    return img_no_brackets"
   ]
  },
  {
   "cell_type": "code",
   "execution_count": 43,
   "metadata": {},
   "outputs": [],
   "source": [
    "def synth_mat(digits, lbrackets, rbrackets, row = 3, col = 3):\n",
    "    '''\n",
    "    Input images of digits and brackets. Build a matrix from randomly selected digit images and bracket images.\n",
    "    Also takes matrix dimensions as integer arguments row and col. These both default to 3.\n",
    "    Currently assumes there are an equal number of left and right bracket images.\n",
    "    We also assume all digit images have the same size.\n",
    "    '''\n",
    "    \n",
    "    #Check matrix dimensions are integers.\n",
    "    assert isinstance(row, int), 'Number of rows must be an integer.'\n",
    "    assert isinstance(col, int), 'Number of columns must be an integer.'\n",
    "    \n",
    "    #Number of images in each set of data.\n",
    "    digit_samples = digits.shape[0]\n",
    "    lbracket_samples = lbrackets.shape[0]\n",
    "    rbracket_samples = rbrackets.shape[0]\n",
    "    \n",
    "    #Random integers to select matrix pieces by index. We will not distinguish between round and square brackets for now.\n",
    "    entry_index = np.random.randint(digit_samples, size = (row, col))\n",
    "    lbracket_index = np.random.randint(lbracket_samples, size = 1)\n",
    "    rbracket_index = np.random.randint(rbracket_samples, size = 1)\n",
    "    \n",
    "    #Stack matrix entries corresponding to their position in the entry_index array.\n",
    "    for i in range(0, row):\n",
    "        for j in range(0, col):\n",
    "            if (j == 0):\n",
    "                mat_row = digits[entry_index[i, 0]]\n",
    "            else:\n",
    "                mat_row = np.hstack([mat_row, digits[entry_index[i, j]]])\n",
    "            \n",
    "        if (i == 0):\n",
    "            mat = mat_row\n",
    "        else:\n",
    "            mat = np.vstack([mat, mat_row])\n",
    "\n",
    "    #Height and width of bracket image after rescaling. Width set to half of average column width.\n",
    "    bheight = mat.shape[0]\n",
    "    bwidth =  np.floor(mat.shape[1] / (2 * row))\n",
    "    \n",
    "    #Resize the brackets.\n",
    "    lbracket_resized = resize(lbrackets[lbracket_index][0], (bheight, bwidth))\n",
    "    rbracket_resized = resize(rbrackets[rbracket_index][0], (bheight, bwidth))\n",
    "    \n",
    "    #Stack the brackets on the sides of the matrix.\n",
    "    mat = np.hstack([lbracket_resized, mat, rbracket_resized])\n",
    "    \n",
    "    return mat"
   ]
  },
  {
   "cell_type": "markdown",
   "metadata": {},
   "source": [
    "## Convolutional Neural Network 1 - Digit Recognition\n",
    "<a id='cnn1'></a>\n",
    "\n",
    "Now that the digit data has been processed, we train our first convolutional neural network for digit recognition. We pad the digit images to size 32 x 32 x 1 since we started by trying VGG16 architecture which requires these dimensions as a minimum input size.\n",
    "\n",
    "The VGG16 model available through Keras has been trained on colour image data and is not suitable for the purposes of this project. Moreover, it is very slow to train. For these reasons, we use a truncated version. The convolutional layers in direct sequence increases the receptive field, as done the max pooling layers. These allow for a model which trains relatively quickly while obtaining decent accuracy. We add dropout layers to avoid overfitting. We use relu activation for all but the last layer, where we use softmax to obtain probability estimates for classification.\n",
    "\n",
    "We did not get the chance to alter the convolution kernel or stride. We also did not get the chance to experiment with different pooling sizes or types. We used the 'Adam' optimizer and the accuracy metric to minimize loss. We also use accuracy on the validation data for stopping the training early if it does not improve by more than 0.05%. Lastly, we set the batch size to 128 and epochs to 10, although none of the models used 10 epochs.\n",
    "\n",
    "Ideally, we would have liked to have done more experiments with different neural network architectures and parameters but the 99.3% test accuracy seemed reasonable and time was limited. \n",
    "\n",
    "The confusion matrix seems to indicate that 1 is predicted a bit too often but the precision and recall for every other digit is in the 0.99 - 1.00 range. We do notice that 0 seems to be extremely under-represented but the model performs reasonably well regardless. There does not seem to be any issue with over-fitting regarding 0 as the confusion matrix shows similar trends with other digits.\n",
    "\n",
    "Lastly, we define a function, digit_eval, to process and predict digit images."
   ]
  },
  {
   "cell_type": "code",
   "execution_count": 44,
   "metadata": {},
   "outputs": [],
   "source": [
    "#Pad train, validation, and test data to fit the model input requirements.\n",
    "X_train_digits_padded = padding(X_train_digits)\n",
    "X_validation_digits_padded = padding(X_validation_digits)\n",
    "X_test_digits_padded = padding(X_test_digits)"
   ]
  },
  {
   "cell_type": "code",
   "execution_count": 45,
   "metadata": {},
   "outputs": [],
   "source": [
    "#====================================================================================================================\n",
    "#Neural network for digit recognition.\n",
    "#VGG16 inspired architecture. Two sets of two 3x3 convolution layers, each set followed by a 2x2 max pooling layer.\n",
    "#Dense layers and dropout layers after.\n",
    "\n",
    "#digit_recog = Sequential()\n",
    "\n",
    "#digit_recog.add(Conv2D(64, kernel_size = (3, 3), activation = 'relu', input_shape = (32, 32, 1)))\n",
    "#digit_recog.add(Conv2D(64, (3, 3), activation = 'relu'))\n",
    "#digit_recog.add(MaxPooling2D(pool_size = (2, 2)))\n",
    "\n",
    "#digit_recog.add(Conv2D(128, (3, 3), activation = 'relu'))\n",
    "#digit_recog.add(Conv2D(128, (3, 3), activation = 'relu'))\n",
    "#digit_recog.add(MaxPooling2D(pool_size = (2, 2)))\n",
    "\n",
    "#digit_recog.add(Dropout(0.25))\n",
    "#digit_recog.add(Flatten())\n",
    "#digit_recog.add(Dense(512, activation = 'relu'))\n",
    "#digit_recog.add(Dropout(0.25))\n",
    "#digit_recog.add(Dense(128, activation = 'relu'))\n",
    "#digit_recog.add(Dropout(0.5))\n",
    "#digit_recog.add(Dense(10, activation = 'softmax'))\n",
    "\n",
    "#Print out a summary of the network\n",
    "#digit_recog.summary()\n",
    "#===================================================================================================================="
   ]
  },
  {
   "cell_type": "code",
   "execution_count": 46,
   "metadata": {},
   "outputs": [],
   "source": [
    "#====================================================================================================================\n",
    "#Add early stopping here - stop in the next epoch if the validation accuracy does not improve by more than 0.05%\n",
    "#callback = EarlyStopping(monitor = 'val_accuracy', min_delta = 0.0005, patience = 1, restore_best_weights = True)\n",
    "\n",
    "#Compile the model with the desired loss function, optimizer, and metric to optimize\n",
    "#digit_recog.compile(loss = 'sparse_categorical_crossentropy',\n",
    "                  #optimizer = 'Adam',\n",
    "                  #metrics = ['accuracy'])\n",
    "#===================================================================================================================="
   ]
  },
  {
   "cell_type": "code",
   "execution_count": 47,
   "metadata": {},
   "outputs": [],
   "source": [
    "#====================================================================================================================\n",
    "#Train for 10 epochs with batch size 128.\n",
    "#history = digit_recog.fit(X_train_digits_padded, y_train_digits,\n",
    "              #batch_size = 128,\n",
    "              #epochs = 10,\n",
    "              #verbose = 1,\n",
    "              #validation_data = (X_validation_digits_padded, y_validation_digits), callbacks = [callback])\n",
    "#===================================================================================================================="
   ]
  },
  {
   "cell_type": "code",
   "execution_count": 48,
   "metadata": {},
   "outputs": [],
   "source": [
    "#====================================================================================================================\n",
    "#Plots to analyze model performance.\n",
    "\n",
    "#Variables to plot.\n",
    "#epochs = history.epoch\n",
    "#train_loss = history.history['loss']\n",
    "#val_loss = history.history['val_loss']\n",
    "#train_acc = history.history['accuracy']\n",
    "#val_acc = history.history['val_accuracy']\n",
    "\n",
    "#plt.subplots(1, 2, figsize=(10, 5))\n",
    "\n",
    "#Plot of loss per epoch.\n",
    "#plt.subplot(1, 2, 1)\n",
    "#plt.plot(epochs, train_loss, label = 'train', marker = '.')\n",
    "#plt.plot(epochs, val_loss, label = 'validation', marker = '.')\n",
    "#plt.legend()\n",
    "#plt.xlabel('epoch')\n",
    "#plt.ylabel('loss')\n",
    "\n",
    "#Plot of accuracy per epoch.\n",
    "#plt.subplot(1, 2, 2)\n",
    "#plt.plot(epochs, train_acc, label = 'train', marker = '.')\n",
    "#plt.plot(epochs, val_acc, label = 'validation', marker = '.')\n",
    "#plt.legend()\n",
    "#plt.xlabel('epoch')\n",
    "#plt.ylabel('accuracy')\n",
    "\n",
    "#plt.show()\n",
    "#===================================================================================================================="
   ]
  },
  {
   "attachments": {
    "NN_v2_train_validation_accuracy.png": {
     "image/png": "[encoded data removed]"
    }
   },
   "cell_type": "markdown",
   "metadata": {},
   "source": [
    "![NN_v2_train_validation_accuracy.png](attachment:NN_v2_train_validation_accuracy.png)"
   ]
  },
  {
   "cell_type": "code",
   "execution_count": 49,
   "metadata": {},
   "outputs": [],
   "source": [
    "#====================================================================================================================\n",
    "#Save the model. We can train further by loading this model in if required.\n",
    "#digit_recog.save(\"Digit_Recognition_v2\")\n",
    "#====================================================================================================================\n",
    "\n",
    "#Load version 2 of model.\n",
    "digit_recog = load_model('Digit_Recognition_v2')"
   ]
  },
  {
   "cell_type": "code",
   "execution_count": 50,
   "metadata": {},
   "outputs": [
    {
     "name": "stdout",
     "output_type": "stream",
     "text": [
      "1475/1475 [==============================] - 35s 24ms/step - loss: 0.0265 - accuracy: 0.9930\n",
      "Test loss: 0.026478959247469902\n",
      "Test accuracy: 0.9930047988891602\n"
     ]
    }
   ],
   "source": [
    "#Evaluate the model performance on the test digit data\n",
    "score = digit_recog.evaluate(X_test_digits_padded, y_test_digits, verbose = 1)\n",
    "\n",
    "print('Test loss:', score[0])\n",
    "print('Test accuracy:', score[1])"
   ]
  },
  {
   "cell_type": "code",
   "execution_count": 51,
   "metadata": {},
   "outputs": [],
   "source": [
    "def digit_eval(imgs):\n",
    "    '''\n",
    "    Input images of digits and get the predicted classes as output.\n",
    "    '''\n",
    "  \n",
    "    results = []\n",
    "    \n",
    "    for img in imgs:\n",
    "        if ((img.shape[0] == 32) & (img.shape[1] == 32)):\n",
    "            #If the image already has the correct dimensions, we can feed it into our model and get the class predictions.\n",
    "            #The .predict requires an array input.\n",
    "            result = digit_recog.predict(np.array([img]))[0]\n",
    "        else:\n",
    "            #Crop image to remove white space edges.\n",
    "            img = digit_cropping(img)\n",
    "\n",
    "            #Pad to get dimensions for neural network input. Predict digit class.\n",
    "            result = digit_recog.predict(padding([img]))[0]\n",
    "        \n",
    "        #Predicted class is largest value in result array.\n",
    "        #argmax returns the index corresponding to the maximum entry. Index here is the same as the class.\n",
    "        prediction = np.argmax(result)\n",
    "\n",
    "        #Store prediction.\n",
    "        results.append(prediction)\n",
    "        \n",
    "    return np.array(results)"
   ]
  },
  {
   "cell_type": "code",
   "execution_count": 52,
   "metadata": {},
   "outputs": [],
   "source": [
    "#====================================================================================================================\n",
    "#Get predictions for test data.\n",
    "#y_pred_digits = digit_eval(X_test_digits_padded)\n",
    "\n",
    "#np.save('digit_test_predictions_v2', y_pred_digits, allow_pickle = True)\n",
    "#====================================================================================================================\n",
    "y_pred_digits = np.load('digit_test_predictions_v2.npy', allow_pickle = True)"
   ]
  },
  {
   "cell_type": "code",
   "execution_count": 53,
   "metadata": {
    "scrolled": true
   },
   "outputs": [
    {
     "data": {
      "text/html": [
       "<div>\n",
       "<style scoped>\n",
       "    .dataframe tbody tr th:only-of-type {\n",
       "        vertical-align: middle;\n",
       "    }\n",
       "\n",
       "    .dataframe tbody tr th {\n",
       "        vertical-align: top;\n",
       "    }\n",
       "\n",
       "    .dataframe thead th {\n",
       "        text-align: right;\n",
       "    }\n",
       "</style>\n",
       "<table border=\"1\" class=\"dataframe\">\n",
       "  <thead>\n",
       "    <tr style=\"text-align: right;\">\n",
       "      <th></th>\n",
       "      <th>0</th>\n",
       "      <th>1</th>\n",
       "      <th>2</th>\n",
       "      <th>3</th>\n",
       "      <th>4</th>\n",
       "      <th>5</th>\n",
       "      <th>6</th>\n",
       "      <th>7</th>\n",
       "      <th>8</th>\n",
       "      <th>9</th>\n",
       "    </tr>\n",
       "  </thead>\n",
       "  <tbody>\n",
       "    <tr>\n",
       "      <th>0</th>\n",
       "      <td>978</td>\n",
       "      <td>0</td>\n",
       "      <td>0</td>\n",
       "      <td>0</td>\n",
       "      <td>0</td>\n",
       "      <td>0</td>\n",
       "      <td>1</td>\n",
       "      <td>1</td>\n",
       "      <td>0</td>\n",
       "      <td>0</td>\n",
       "    </tr>\n",
       "    <tr>\n",
       "      <th>1</th>\n",
       "      <td>0</td>\n",
       "      <td>5194</td>\n",
       "      <td>9</td>\n",
       "      <td>3</td>\n",
       "      <td>2</td>\n",
       "      <td>1</td>\n",
       "      <td>3</td>\n",
       "      <td>17</td>\n",
       "      <td>7</td>\n",
       "      <td>2</td>\n",
       "    </tr>\n",
       "    <tr>\n",
       "      <th>2</th>\n",
       "      <td>0</td>\n",
       "      <td>29</td>\n",
       "      <td>5003</td>\n",
       "      <td>0</td>\n",
       "      <td>3</td>\n",
       "      <td>0</td>\n",
       "      <td>0</td>\n",
       "      <td>13</td>\n",
       "      <td>3</td>\n",
       "      <td>2</td>\n",
       "    </tr>\n",
       "    <tr>\n",
       "      <th>3</th>\n",
       "      <td>0</td>\n",
       "      <td>1</td>\n",
       "      <td>0</td>\n",
       "      <td>5351</td>\n",
       "      <td>0</td>\n",
       "      <td>20</td>\n",
       "      <td>1</td>\n",
       "      <td>3</td>\n",
       "      <td>2</td>\n",
       "      <td>4</td>\n",
       "    </tr>\n",
       "    <tr>\n",
       "      <th>4</th>\n",
       "      <td>0</td>\n",
       "      <td>15</td>\n",
       "      <td>1</td>\n",
       "      <td>0</td>\n",
       "      <td>5289</td>\n",
       "      <td>0</td>\n",
       "      <td>4</td>\n",
       "      <td>4</td>\n",
       "      <td>0</td>\n",
       "      <td>18</td>\n",
       "    </tr>\n",
       "    <tr>\n",
       "      <th>5</th>\n",
       "      <td>0</td>\n",
       "      <td>0</td>\n",
       "      <td>0</td>\n",
       "      <td>12</td>\n",
       "      <td>0</td>\n",
       "      <td>5035</td>\n",
       "      <td>1</td>\n",
       "      <td>0</td>\n",
       "      <td>0</td>\n",
       "      <td>3</td>\n",
       "    </tr>\n",
       "    <tr>\n",
       "      <th>6</th>\n",
       "      <td>2</td>\n",
       "      <td>1</td>\n",
       "      <td>1</td>\n",
       "      <td>1</td>\n",
       "      <td>5</td>\n",
       "      <td>3</td>\n",
       "      <td>5020</td>\n",
       "      <td>0</td>\n",
       "      <td>3</td>\n",
       "      <td>0</td>\n",
       "    </tr>\n",
       "    <tr>\n",
       "      <th>7</th>\n",
       "      <td>0</td>\n",
       "      <td>38</td>\n",
       "      <td>7</td>\n",
       "      <td>8</td>\n",
       "      <td>6</td>\n",
       "      <td>1</td>\n",
       "      <td>0</td>\n",
       "      <td>4966</td>\n",
       "      <td>0</td>\n",
       "      <td>1</td>\n",
       "    </tr>\n",
       "    <tr>\n",
       "      <th>8</th>\n",
       "      <td>0</td>\n",
       "      <td>0</td>\n",
       "      <td>0</td>\n",
       "      <td>3</td>\n",
       "      <td>0</td>\n",
       "      <td>3</td>\n",
       "      <td>4</td>\n",
       "      <td>2</td>\n",
       "      <td>5087</td>\n",
       "      <td>8</td>\n",
       "    </tr>\n",
       "    <tr>\n",
       "      <th>9</th>\n",
       "      <td>0</td>\n",
       "      <td>14</td>\n",
       "      <td>3</td>\n",
       "      <td>3</td>\n",
       "      <td>7</td>\n",
       "      <td>9</td>\n",
       "      <td>0</td>\n",
       "      <td>9</td>\n",
       "      <td>3</td>\n",
       "      <td>4922</td>\n",
       "    </tr>\n",
       "  </tbody>\n",
       "</table>\n",
       "</div>"
      ],
      "text/plain": [
       "     0     1     2     3     4     5     6     7     8     9\n",
       "0  978     0     0     0     0     0     1     1     0     0\n",
       "1    0  5194     9     3     2     1     3    17     7     2\n",
       "2    0    29  5003     0     3     0     0    13     3     2\n",
       "3    0     1     0  5351     0    20     1     3     2     4\n",
       "4    0    15     1     0  5289     0     4     4     0    18\n",
       "5    0     0     0    12     0  5035     1     0     0     3\n",
       "6    2     1     1     1     5     3  5020     0     3     0\n",
       "7    0    38     7     8     6     1     0  4966     0     1\n",
       "8    0     0     0     3     0     3     4     2  5087     8\n",
       "9    0    14     3     3     7     9     0     9     3  4922"
      ]
     },
     "execution_count": 53,
     "metadata": {},
     "output_type": "execute_result"
    }
   ],
   "source": [
    "#Confusion matrix.\n",
    "pd.DataFrame(confusion_matrix(y_test_digits, y_pred_digits))\n",
    "#model tourble: 1 being predicted too often"
   ]
  },
  {
   "cell_type": "code",
   "execution_count": 54,
   "metadata": {
    "scrolled": true
   },
   "outputs": [
    {
     "name": "stdout",
     "output_type": "stream",
     "text": [
      "              precision    recall  f1-score   support\n",
      "\n",
      "           0       1.00      1.00      1.00       980\n",
      "           1       0.98      0.99      0.99      5238\n",
      "           2       1.00      0.99      0.99      5053\n",
      "           3       0.99      0.99      0.99      5382\n",
      "           4       1.00      0.99      0.99      5331\n",
      "           5       0.99      1.00      0.99      5051\n",
      "           6       1.00      1.00      1.00      5036\n",
      "           7       0.99      0.99      0.99      5027\n",
      "           8       1.00      1.00      1.00      5107\n",
      "           9       0.99      0.99      0.99      4970\n",
      "\n",
      "    accuracy                           0.99     47175\n",
      "   macro avg       0.99      0.99      0.99     47175\n",
      "weighted avg       0.99      0.99      0.99     47175\n",
      "\n"
     ]
    }
   ],
   "source": [
    "#Classification report.\n",
    "print(classification_report(y_test_digits, y_pred_digits))\n",
    "#We see 1 causes the most trouble. 7 also causes more trouble."
   ]
  },
  {
   "cell_type": "markdown",
   "metadata": {},
   "source": [
    "## Data Synthesis - Matrix Data\n",
    "<a id='matrix'></a>\n",
    "\n",
    "Now we move on to matrix data. We synthesize 2x2 and 3x3 matrices, each with randomly selected single digit entries. The matrices are split into train, validation, and test images so the brackets and digits are selected from the corresponding data sets. For example, the matrices for training use digits and brackets randomly selected from only the training digits and brckets. This is done to ensure that there is no data leakage.\n",
    "\n",
    "The matrix training data is further augmented by adding a copy of each matrix after applying a Gaussian filter. We use a sigma value of 3 to produce a very blurry image. The goal is to train the neural network on the shape of the matrices instead of learning the specific digits entries. Applying the filter could potentially be avoided if more matrix data was synthesized. We only use 3,000 of each type of matrix for training. The validation and test matrices do not have any filtered matrix images since no equation image is expected to be so blurry.\n",
    "\n",
    "When testing earlier versions of the neural network that we use for matrix recognition, there were issues with classifying operations between matrices as a matrix. For example, a plus sign in between a right bracket and a left bracket would sometimes be classified as a matrix. For this reason, we construct these column-like objects of operations in between brackets for the neural network to classify as non-matrices. We add these non-matrices in equal number to 2x2 and 3x3 matrices. For the training set, we also use the Gaussian filter in the same way.\n",
    "\n",
    "Currently, we have 60,000 training images, split equally between five classes: matrices, digits, left brackets, right brackets, and operations between brackets. We also have 15,000 validation images and 15,000 test images, all with the same equal split between classes. All datasets for this neural network contain the 'filtered' and 'unfiltered' bracket data since we end up using the filtered brackets in matrix construction.\n",
    "\n",
    "Note that, although we split left brackets and right brackets, we end up not distinguishing between them. This will be discussed later when commenting on results."
   ]
  },
  {
   "cell_type": "code",
   "execution_count": 55,
   "metadata": {},
   "outputs": [],
   "source": [
    "#Split up brackets for training matrix generation.\n",
    "#Note we use training set of brackets here.\n",
    "#Split filtered brackets as well to be added to NN data.\n",
    "lbrackets = []\n",
    "rbrackets = []\n",
    "lbrackets_filtered = []\n",
    "rbrackets_filtered = []\n",
    "\n",
    "#Order of both sets of brackets is the same so we only need to check one target variable.\n",
    "for i in range(0, X_train_brackets.shape[0]):\n",
    "    if (y_train_brackets[i] == '['):\n",
    "        lbrackets.append(X_train_brackets[i])\n",
    "        lbrackets_filtered.append(X_train_brackets_filtered[i])\n",
    "    else:\n",
    "        rbrackets.append(X_train_brackets[i])\n",
    "        rbrackets_filtered.append(X_train_brackets_filtered[i])"
   ]
  },
  {
   "cell_type": "code",
   "execution_count": 56,
   "metadata": {},
   "outputs": [],
   "source": [
    "#====================================================================================================================\n",
    "#Generate 1000 random 3x3 matrices\n",
    "#X_train_3x3 = []\n",
    "#for i in range(0,1000):\n",
    "    #X_train_3x3.append(synth_mat(X_train_digits_padded, np.array(lbrackets), np.array(rbrackets)))\n",
    "    \n",
    "#np.save('matrix_train3_3x3', X_train_3x3, allow_pickle = True)\n",
    "#====================================================================================================================\n",
    "\n",
    "#Load 3x3 training matrices.\n",
    "X_train1_3x3 = np.array(np.load('matrix_train_3x3.npy', allow_pickle = True))\n",
    "X_train2_3x3 = np.array(np.load('matrix_train2_3x3.npy', allow_pickle = True))\n",
    "X_train3_3x3 = np.array(np.load('matrix_train3_3x3.npy', allow_pickle = True))\n",
    "X_train_3x3 = np.vstack([X_train1_3x3, X_train2_3x3, X_train3_3x3])"
   ]
  },
  {
   "cell_type": "code",
   "execution_count": 57,
   "metadata": {},
   "outputs": [],
   "source": [
    "#Generate operations with white space on top to match how they are glued together in an equation image.\n",
    "op_cols_train_3x3 = []\n",
    "op_cols_train_2x2 = []\n",
    "for i in range(0, X_train_operations.shape[0]):\n",
    "    op_cols_train_3x3.append(np.vstack([np.zeros((64, 32, 1)), padding(np.array([X_train_operations[i]]))[0]]))\n",
    "    op_cols_train_2x2.append(np.vstack([np.zeros((32, 32, 1)), padding(np.array([X_train_operations[i]]))[0]]))\n",
    "    \n",
    "op_cols_train_3x3 = np.array(op_cols_train_3x3)\n",
    "op_cols_train_2x2 = np.array(op_cols_train_2x2)"
   ]
  },
  {
   "cell_type": "code",
   "execution_count": null,
   "metadata": {},
   "outputs": [],
   "source": []
  },
  {
   "cell_type": "code",
   "execution_count": 58,
   "metadata": {},
   "outputs": [],
   "source": [
    "#Generate 3000 random non-matrices for operations in between 3x3 matrices and 2x2 matrices.\n",
    "#We can use our synth_mat() function but pass in operations instead of digits and switch the bracket order.\n",
    "#The 'matrix' size is 1x1 because we already stacked the 'entries' together.\n",
    "#X_train_not_3x3 = []\n",
    "#X_train_not_2x2 = []\n",
    "#for i in range(0,3000):\n",
    "    #X_train_not_3x3.append(synth_mat(op_cols_train_3x3, np.array(rbrackets), np.array(lbrackets), 1, 1))\n",
    "    #X_train_not_2x2.append(synth_mat(op_cols_train_2x2, np.array(rbrackets), np.array(lbrackets), 1, 1))\n",
    "    \n",
    "#np.save('matrix_train_not_3x3', X_train_not_3x3, allow_pickle = True)\n",
    "#np.save('matrix_train_not_2x2', X_train_not_2x2, allow_pickle = True)\n",
    "#====================================================================================================================\n",
    "\n",
    "X_train_not_3x3 = np.array(np.load('matrix_train_not_3x3.npy', allow_pickle = True))\n",
    "X_train_not_2x2 = np.array(np.load('matrix_train_not_2x2.npy', allow_pickle = True))"
   ]
  },
  {
   "cell_type": "code",
   "execution_count": 59,
   "metadata": {},
   "outputs": [],
   "source": [
    "#====================================================================================================================\n",
    "#Generate 1000 random 2x2 matrices\n",
    "#X_train_2x2 = []\n",
    "#for i in range(0,1000):\n",
    "    #X_train_2x2.append(synth_mat(X_train_digits_padded, np.array(lbrackets), np.array(rbrackets), 2, 2))\n",
    "\n",
    "#np.save('matrix_train3_2x2', X_train_2x2, allow_pickle = True)\n",
    "#====================================================================================================================\n",
    "\n",
    "#Load 2x2 training matrices.\n",
    "X_train1_2x2 = np.array(np.load('matrix_train_2x2.npy', allow_pickle = True))\n",
    "X_train2_2x2 = np.array(np.load('matrix_train2_2x2.npy', allow_pickle = True))\n",
    "X_train3_2x2 = np.array(np.load('matrix_train3_2x2.npy', allow_pickle = True))\n",
    "X_train_2x2 = np.vstack([X_train1_2x2, X_train2_2x2, X_train3_2x2])"
   ]
  },
  {
   "cell_type": "code",
   "execution_count": null,
   "metadata": {},
   "outputs": [],
   "source": []
  },
  {
   "cell_type": "code",
   "execution_count": 60,
   "metadata": {},
   "outputs": [],
   "source": [
    "#Get brackets in dimensions for NN.\n",
    "lbrackets = padding(np.array(lbrackets))\n",
    "rbrackets = padding(np.array(rbrackets))\n",
    "lbrackets_filtered = padding(np.array(lbrackets_filtered))\n",
    "rbrackets_filtered = padding(np.array(rbrackets_filtered))\n",
    "\n",
    "#Generate the other \"non-matrices\" equal in quantity to matrices.\n",
    "#All categories represented equally.\n",
    "num_train_mat = 2 * (X_train_3x3.shape[0] + X_train_2x2.shape[0])\n",
    "num_digits =  num_train_mat \n",
    "num_lbrackets = int(np.floor(num_train_mat / 2))\n",
    "num_rbrackets = int(np.ceil(num_train_mat / 2))\n",
    "\n",
    "#Generate the data randomly by index.\n",
    "digit_index = np.random.randint(X_train_digits_padded.shape[0], size = num_digits)\n",
    "lbracket_index = np.random.randint(lbrackets.shape[0], size = num_lbrackets)\n",
    "rbracket_index = np.random.randint(rbrackets.shape[0], size = num_rbrackets)\n",
    "#Add an equal number of filtered brackets as unfiltered brackets since we do not have many added to begin with.\n",
    "lbracket_filtered_index = np.random.randint(lbrackets.shape[0], size = num_lbrackets)\n",
    "rbracket_filtered_index = np.random.randint(rbrackets.shape[0], size = num_rbrackets)\n",
    "\n",
    "#Data describing what is not a matrix.\n",
    "X_train_not_mat = np.vstack([X_train_digits_padded[digit_index], lbrackets[lbracket_index], lbrackets_filtered[lbracket_filtered_index], rbrackets[rbracket_index], rbrackets_filtered[rbracket_filtered_index]])\n",
    "\n",
    "#Target variable for matrix detection.\n",
    "y_train_mat = np.vstack([np.full((num_train_mat, 1), 'm'), np.full((num_digits, 1), 'd'), np.full((2 * num_lbrackets, 1), 'l'), np.full((2 * num_rbrackets, 1), 'r')])"
   ]
  },
  {
   "cell_type": "code",
   "execution_count": 61,
   "metadata": {},
   "outputs": [],
   "source": [
    "X_train_not_mat_cols = []\n",
    "\n",
    "#Add the non-matrix columns along and the columns with a gaussian filter.\n",
    "for i in range(0, X_train_not_3x3.shape[0]):\n",
    "    X_train_not_mat_cols.append(resize(gaussian_filter(X_train_not_3x3[i], sigma=3), (32, 32, 1)))\n",
    "    X_train_not_mat_cols.append(resize(X_train_not_3x3[i], (32, 32, 1)))\n",
    "    \n",
    "for i in range(0, X_train_not_2x2.shape[0]):\n",
    "    X_train_not_mat_cols.append(resize(gaussian_filter(X_train_not_2x2[i], sigma=3), (32, 32, 1)))\n",
    "    X_train_not_mat_cols.append(resize(X_train_not_2x2[i], (32, 32, 1)))\n",
    "    \n",
    "X_train_not_mat_cols = np.array(X_train_not_mat_cols)"
   ]
  },
  {
   "cell_type": "code",
   "execution_count": 62,
   "metadata": {},
   "outputs": [
    {
     "data": {
      "text/plain": [
       "(12000, 32, 32, 1)"
      ]
     },
     "execution_count": 62,
     "metadata": {},
     "output_type": "execute_result"
    }
   ],
   "source": [
    "X_train_not_mat_cols.shape"
   ]
  },
  {
   "cell_type": "code",
   "execution_count": 63,
   "metadata": {},
   "outputs": [],
   "source": [
    "#Add the column-like objects to the non-matrix training data.\n",
    "X_train_not_mat = np.vstack([X_train_not_mat, X_train_not_mat_cols])\n",
    "#Add corresponding target variables.\n",
    "#Use 'o' to denote operations.\n",
    "y_train_mat = np.vstack([y_train_mat, np.full((X_train_not_mat_cols.shape[0], 1), 'o')])"
   ]
  },
  {
   "cell_type": "code",
   "execution_count": 64,
   "metadata": {},
   "outputs": [],
   "source": [
    "X_train_mat = []\n",
    "\n",
    "#Adding matrices with a gaussian filter to try and extract the shape of the matrix and not the digit entries.\n",
    "for i in range(0, X_train_3x3.shape[0]):\n",
    "    X_train_mat.append(resize(gaussian_filter(X_train_3x3[i], sigma=3), (32, 32, 1)))\n",
    "    X_train_mat.append(resize(X_train_3x3[i], (32, 32, 1)))\n",
    "    \n",
    "for i in range(0, X_train_2x2.shape[0]):\n",
    "    X_train_mat.append(resize(gaussian_filter(X_train_2x2[i], sigma=3), (32, 32, 1)))\n",
    "    X_train_mat.append(resize(X_train_2x2[i], (32, 32, 1)))\n",
    "    \n",
    "X_train_mat = np.array(X_train_mat)"
   ]
  },
  {
   "cell_type": "code",
   "execution_count": 65,
   "metadata": {
    "scrolled": true
   },
   "outputs": [],
   "source": [
    "#Put data together in order corresponding to target variable.\n",
    "X_train_mat = np.vstack([X_train_mat, X_train_not_mat])"
   ]
  },
  {
   "cell_type": "code",
   "execution_count": 66,
   "metadata": {},
   "outputs": [
    {
     "data": {
      "text/plain": [
       "((60000, 32, 32, 1), (60000, 1))"
      ]
     },
     "execution_count": 66,
     "metadata": {},
     "output_type": "execute_result"
    }
   ],
   "source": [
    "X_train_mat.shape, y_train_mat.shape"
   ]
  },
  {
   "cell_type": "code",
   "execution_count": 67,
   "metadata": {},
   "outputs": [],
   "source": [
    "#Split up brackets for validation matrix generation.\n",
    "#Note we use validation set of brackets here.\n",
    "#Split filtered brackets as well to be added to NN data.\n",
    "lbrackets = []\n",
    "rbrackets = []\n",
    "lbrackets_filtered = []\n",
    "rbrackets_filtered = []\n",
    "\n",
    "for i in range(0, X_validation_brackets.shape[0]):\n",
    "    if (y_validation_brackets[i] == '['):\n",
    "        lbrackets.append(X_validation_brackets[i])\n",
    "        lbrackets_filtered.append(X_validation_brackets_filtered[i])\n",
    "    else:\n",
    "        rbrackets.append(X_validation_brackets[i])\n",
    "        rbrackets_filtered.append(X_validation_brackets_filtered[i])"
   ]
  },
  {
   "cell_type": "code",
   "execution_count": 68,
   "metadata": {},
   "outputs": [],
   "source": [
    "#====================================================================================================================\n",
    "#Generate 500 random 3x3 matrices\n",
    "#X_validation_3x3 = []\n",
    "#for i in range(0,500):\n",
    "    #X_validation_3x3.append(synth_mat(X_validation_digits_padded, np.array(lbrackets), np.array(rbrackets)))\n",
    "    \n",
    "#np.save('matrix_validation3_3x3', X_validation_3x3, allow_pickle = True)\n",
    "#====================================================================================================================\n",
    "\n",
    "#Load 3x3 validation matrices.\n",
    "X_validation1_3x3 = np.array(np.load('matrix_validation_3x3.npy', allow_pickle = True))\n",
    "X_validation2_3x3 = np.array(np.load('matrix_validation2_3x3.npy', allow_pickle = True))\n",
    "X_validation3_3x3 = np.array(np.load('matrix_validation3_3x3.npy', allow_pickle = True))\n",
    "X_validation_3x3 = np.vstack([X_validation1_3x3, X_validation2_3x3, X_validation3_3x3])"
   ]
  },
  {
   "cell_type": "code",
   "execution_count": 69,
   "metadata": {},
   "outputs": [],
   "source": [
    "#====================================================================================================================\n",
    "#Generate 500 random 2x2 matrices\n",
    "#X_validation_2x2 = []\n",
    "#for i in range(0,500):\n",
    "    #X_validation_2x2.append(synth_mat(X_validation_digits_padded, np.array(lbrackets), np.array(rbrackets), 2, 2))\n",
    "    \n",
    "#np.save('matrix_validation3_2x2', X_validation_2x2, allow_pickle = True)\n",
    "#====================================================================================================================\n",
    "\n",
    "#Load 2x2 validation matrices.\n",
    "X_validation1_2x2 = np.array(np.load('matrix_validation_2x2.npy', allow_pickle = True))\n",
    "X_validation2_2x2 = np.array(np.load('matrix_validation2_2x2.npy', allow_pickle = True))\n",
    "X_validation3_2x2 = np.array(np.load('matrix_validation3_2x2.npy', allow_pickle = True))\n",
    "X_validation_2x2 = np.vstack([X_validation1_2x2, X_validation2_2x2, X_validation3_2x2])"
   ]
  },
  {
   "cell_type": "code",
   "execution_count": 70,
   "metadata": {},
   "outputs": [],
   "source": [
    "op_cols_validation_3x3 = []\n",
    "op_cols_validation_2x2 = []\n",
    "for i in range(0, X_validation_operations.shape[0]):\n",
    "    op_cols_validation_3x3.append(np.vstack([np.zeros((64, 32, 1)), padding(np.array([X_validation_operations[i]]))[0]]))\n",
    "    op_cols_validation_2x2.append(np.vstack([np.zeros((32, 32, 1)), padding(np.array([X_validation_operations[i]]))[0]]))\n",
    "    \n",
    "op_cols_validation_3x3 = np.array(op_cols_validation_3x3)\n",
    "op_cols_validation_2x2 = np.array(op_cols_validation_2x2)"
   ]
  },
  {
   "cell_type": "code",
   "execution_count": 71,
   "metadata": {},
   "outputs": [],
   "source": [
    "#Generate 1500 random non-matrices for operations in between 3x3 matrices and 2x2 matrices.\n",
    "#We can use our synth_mat() function but pass in operations instead of digits and switch the bracket order.\n",
    "#The 'matrix' size is 1x1 because we already stacked the 'entries' together.\n",
    "#X_validation_not_3x3 = []\n",
    "#X_validation_not_2x2 = []\n",
    "#for i in range(0,1500):\n",
    "    #X_validation_not_3x3.append(synth_mat(op_cols_validation_3x3, np.array(rbrackets), np.array(lbrackets), 1, 1))\n",
    "    #X_validation_not_2x2.append(synth_mat(op_cols_validation_2x2, np.array(rbrackets), np.array(lbrackets), 1, 1))\n",
    "    \n",
    "#np.save('matrix_validation_not_3x3', X_validation_not_3x3, allow_pickle = True)\n",
    "#np.save('matrix_validation_not_2x2', X_validation_not_2x2, allow_pickle = True)\n",
    "#====================================================================================================================\n",
    "\n",
    "X_validation_not_3x3 = np.array(np.load('matrix_validation_not_3x3.npy', allow_pickle = True))\n",
    "X_validation_not_2x2 = np.array(np.load('matrix_validation_not_2x2.npy', allow_pickle = True))"
   ]
  },
  {
   "cell_type": "code",
   "execution_count": 72,
   "metadata": {},
   "outputs": [],
   "source": [
    "#Get brackets in dimensions for NN.\n",
    "lbrackets = padding(np.array(lbrackets))\n",
    "rbrackets = padding(np.array(rbrackets))\n",
    "lbrackets_filtered = padding(np.array(lbrackets_filtered))\n",
    "rbrackets_filtered = padding(np.array(rbrackets_filtered))\n",
    "\n",
    "#Generate \"non-matrices\" equal in quantity to matrices.\n",
    "#All categories represented equally.\n",
    "num_validation_mat = X_validation_3x3.shape[0] + X_validation_2x2.shape[0]\n",
    "num_digits =  num_validation_mat \n",
    "num_lbrackets = int(np.floor(num_validation_mat / 2))\n",
    "num_rbrackets = int(np.ceil(num_validation_mat / 2))\n",
    "\n",
    "#Generate the data randomly by index.\n",
    "digit_index = np.random.randint(X_validation_digits_padded.shape[0], size = num_digits)\n",
    "lbracket_index = np.random.randint(lbrackets.shape[0], size = num_lbrackets)\n",
    "rbracket_index = np.random.randint(rbrackets.shape[0], size = num_rbrackets)\n",
    "#Add an equal number of filtered brackets as unfiltered brackets since we do not have many added to begin with.\n",
    "lbracket_filtered_index = np.random.randint(lbrackets.shape[0], size = num_lbrackets)\n",
    "rbracket_filtered_index = np.random.randint(rbrackets.shape[0], size = num_rbrackets)\n",
    "\n",
    "#Data describing what is not a matrix.\n",
    "X_validation_not_mat = np.vstack([X_validation_digits_padded[digit_index], lbrackets[lbracket_index], lbrackets_filtered[lbracket_filtered_index], rbrackets[rbracket_index], rbrackets_filtered[rbracket_filtered_index]])\n",
    "\n",
    "#Target variable for matrix detection.\n",
    "y_validation_mat = np.vstack([np.full((num_validation_mat, 1), 'm'), np.full((num_digits, 1), 'd'), np.full((2 * num_lbrackets, 1), 'l'), np.full((2 * num_rbrackets, 1), 'r')])"
   ]
  },
  {
   "cell_type": "code",
   "execution_count": 73,
   "metadata": {},
   "outputs": [],
   "source": [
    "X_validation_not_mat_cols = []\n",
    "\n",
    "#Add the non-matrix columns.\n",
    "for i in range(0, X_validation_not_3x3.shape[0]):\n",
    "    X_validation_not_mat_cols.append(resize(X_validation_not_3x3[i], (32, 32, 1)))\n",
    "    \n",
    "for i in range(0, X_validation_not_2x2.shape[0]):\n",
    "    X_validation_not_mat_cols.append(resize(X_validation_not_2x2[i], (32, 32, 1)))\n",
    "    \n",
    "X_validation_not_mat_cols = np.array(X_validation_not_mat_cols)"
   ]
  },
  {
   "cell_type": "code",
   "execution_count": 74,
   "metadata": {},
   "outputs": [],
   "source": [
    "#Add the column-like objects to the non-matrix training data.\n",
    "X_validation_not_mat = np.vstack([X_validation_not_mat, X_validation_not_mat_cols])\n",
    "#Add corresponding target variables.\n",
    "#Use 'o' to denote operations.\n",
    "y_validation_mat = np.vstack([y_validation_mat, np.full((X_validation_not_mat_cols.shape[0], 1), 'o')])"
   ]
  },
  {
   "cell_type": "code",
   "execution_count": 75,
   "metadata": {},
   "outputs": [],
   "source": [
    "X_validation_mat = []\n",
    "\n",
    "#We do not add a gaussian filter for the validation set.\n",
    "for i in range(0, X_validation_3x3.shape[0]):   \n",
    "    X_validation_mat.append(resize(X_validation_3x3[i], (32, 32, 1)))\n",
    "    \n",
    "for i in range(0, X_validation_2x2.shape[0]):\n",
    "    X_validation_mat.append(resize(X_validation_2x2[i], (32, 32, 1)))\n",
    "    \n",
    "X_validation_mat = np.array(X_validation_mat)"
   ]
  },
  {
   "cell_type": "code",
   "execution_count": 76,
   "metadata": {},
   "outputs": [],
   "source": [
    "#Put data together in order corresponding to target variable.\n",
    "X_validation_mat = np.vstack([X_validation_mat, X_validation_not_mat])"
   ]
  },
  {
   "cell_type": "code",
   "execution_count": 77,
   "metadata": {},
   "outputs": [
    {
     "data": {
      "text/plain": [
       "((15000, 32, 32, 1), (15000, 1))"
      ]
     },
     "execution_count": 77,
     "metadata": {},
     "output_type": "execute_result"
    }
   ],
   "source": [
    "X_validation_mat.shape, y_validation_mat.shape"
   ]
  },
  {
   "cell_type": "code",
   "execution_count": 78,
   "metadata": {},
   "outputs": [],
   "source": [
    "#Split up brackets for test matrix generation.\n",
    "#Note we use test set of brackets here.\n",
    "#Split filtered brackets as well to be added to NN data.\n",
    "lbrackets = []\n",
    "rbrackets = []\n",
    "lbrackets_filtered = []\n",
    "rbrackets_filtered = []\n",
    "\n",
    "for i in range(0, X_test_brackets.shape[0]):\n",
    "    if (y_test_brackets[i] == '['):\n",
    "        lbrackets.append(X_test_brackets[i])\n",
    "        lbrackets_filtered.append(X_test_brackets_filtered[i])\n",
    "    else:\n",
    "        rbrackets.append(X_test_brackets[i])\n",
    "        rbrackets_filtered.append(X_test_brackets_filtered[i])"
   ]
  },
  {
   "cell_type": "code",
   "execution_count": 79,
   "metadata": {},
   "outputs": [],
   "source": [
    "#====================================================================================================================\n",
    "#Generate 500 random 3x3 matrices\n",
    "#X_test_3x3 = []\n",
    "#for i in range(0,500):\n",
    "    #X_test_3x3.append(synth_mat(X_test_digits_padded, np.array(lbrackets), np.array(rbrackets)))\n",
    "    \n",
    "#np.save('matrix_test3_3x3', X_test_3x3, allow_pickle = True)\n",
    "#====================================================================================================================\n",
    "\n",
    "#Load 3x3 test matrices.\n",
    "X_test1_3x3 = np.array(np.load('matrix_test_3x3.npy', allow_pickle = True))\n",
    "X_test2_3x3 = np.array(np.load('matrix_test2_3x3.npy', allow_pickle = True))\n",
    "X_test3_3x3 = np.array(np.load('matrix_test3_3x3.npy', allow_pickle = True))\n",
    "X_test_3x3 = np.vstack([X_test1_3x3, X_test2_3x3, X_test3_3x3])"
   ]
  },
  {
   "cell_type": "code",
   "execution_count": 80,
   "metadata": {},
   "outputs": [],
   "source": [
    "#====================================================================================================================\n",
    "#Generate 500 random 2x2 matrices\n",
    "#X_test_2x2 = []\n",
    "#for i in range(0,500):\n",
    "    #X_test_2x2.append(synth_mat(X_test_digits_padded, np.array(lbrackets), np.array(rbrackets), 2, 2))\n",
    "    \n",
    "#np.save('matrix_test3_2x2', X_test_2x2, allow_pickle = True)\n",
    "#====================================================================================================================\n",
    "\n",
    "#Load 2x2 test matrices.\n",
    "X_test1_2x2 = np.array(np.load('matrix_test_2x2.npy', allow_pickle = True))\n",
    "X_test2_2x2 = np.array(np.load('matrix_test2_2x2.npy', allow_pickle = True))\n",
    "X_test3_2x2 = np.array(np.load('matrix_test3_2x2.npy', allow_pickle = True))\n",
    "X_test_2x2 = np.vstack([X_test1_2x2, X_test2_2x2, X_test3_2x2])"
   ]
  },
  {
   "cell_type": "code",
   "execution_count": 81,
   "metadata": {},
   "outputs": [],
   "source": [
    "op_cols_test_3x3 = []\n",
    "op_cols_test_2x2 = []\n",
    "for i in range(0, X_test_operations.shape[0]):\n",
    "    op_cols_test_3x3.append(np.vstack([np.zeros((64, 32, 1)), padding(np.array([X_test_operations[i]]))[0]]))\n",
    "    op_cols_test_2x2.append(np.vstack([np.zeros((32, 32, 1)), padding(np.array([X_test_operations[i]]))[0]]))\n",
    "    \n",
    "op_cols_test_3x3 = np.array(op_cols_test_3x3)\n",
    "op_cols_test_2x2 = np.array(op_cols_test_2x2)"
   ]
  },
  {
   "cell_type": "code",
   "execution_count": 82,
   "metadata": {},
   "outputs": [],
   "source": [
    "#Generate 1500 random non-matrices for operations in between 3x3 matrices and 2x2 matrices.\n",
    "#We can use our synth_mat() function but pass in operations instead of digits and switch the bracket order.\n",
    "#The 'matrix' size is 1x1 because we already stacked the 'entries' together.\n",
    "#X_test_not_3x3 = []\n",
    "#X_test_not_2x2 = []\n",
    "#for i in range(0,1500):\n",
    "    #X_test_not_3x3.append(synth_mat(op_cols_test_3x3, np.array(rbrackets), np.array(lbrackets), 1, 1))\n",
    "    #X_test_not_2x2.append(synth_mat(op_cols_test_2x2, np.array(rbrackets), np.array(lbrackets), 1, 1))\n",
    "    \n",
    "#np.save('matrix_test_not_3x3', X_test_not_3x3, allow_pickle = True)\n",
    "#np.save('matrix_test_not_2x2', X_test_not_2x2, allow_pickle = True)\n",
    "#====================================================================================================================\n",
    "\n",
    "X_test_not_3x3 = np.array(np.load('matrix_test_not_3x3.npy', allow_pickle = True))\n",
    "X_test_not_2x2 = np.array(np.load('matrix_test_not_2x2.npy', allow_pickle = True))"
   ]
  },
  {
   "cell_type": "code",
   "execution_count": 83,
   "metadata": {},
   "outputs": [],
   "source": [
    "#Get brackets in dimensions for NN.\n",
    "lbrackets = padding(np.array(lbrackets))\n",
    "rbrackets = padding(np.array(rbrackets))\n",
    "lbrackets_filtered = padding(np.array(lbrackets_filtered))\n",
    "rbrackets_filtered = padding(np.array(rbrackets_filtered))\n",
    "\n",
    "#Generate \"non-matrices\" equal in quantity to matrices.\n",
    "#All categories represented equally.\n",
    "num_test_mat = X_test_3x3.shape[0] + X_test_2x2.shape[0]\n",
    "num_digits =  num_test_mat #int(np.floor(num_test_mat / 2))\n",
    "num_lbrackets = int(np.floor(num_test_mat / 2))\n",
    "num_rbrackets = int(np.ceil(num_test_mat / 2))\n",
    "\n",
    "#Generate the data randomly by index.\n",
    "digit_index = np.random.randint(X_test_digits_padded.shape[0], size = num_digits)\n",
    "lbracket_index = np.random.randint(lbrackets.shape[0], size = num_lbrackets)\n",
    "rbracket_index = np.random.randint(rbrackets.shape[0], size = num_rbrackets)\n",
    "#Add an equal number of filtered brackets as unfiltered brackets since we do not have many added to begin with.\n",
    "lbracket_filtered_index = np.random.randint(lbrackets.shape[0], size = num_lbrackets)\n",
    "rbracket_filtered_index = np.random.randint(rbrackets.shape[0], size = num_rbrackets)\n",
    "\n",
    "#Data describing what is not a matrix.\n",
    "X_test_not_mat = np.vstack([X_test_digits_padded[digit_index], lbrackets[lbracket_index], lbrackets_filtered[lbracket_filtered_index], rbrackets[rbracket_index], rbrackets_filtered[rbracket_filtered_index]])\n",
    "\n",
    "#Target variable for matrix detection.\n",
    "y_test_mat = np.vstack([np.full((num_test_mat, 1), 'm'), np.full((num_digits, 1), 'd'), np.full((2 * num_lbrackets, 1), 'l'), np.full((2 * num_rbrackets, 1), 'r')])"
   ]
  },
  {
   "cell_type": "code",
   "execution_count": 84,
   "metadata": {},
   "outputs": [],
   "source": [
    "X_test_not_mat_cols = []\n",
    "\n",
    "#Add the non-matrix columns.\n",
    "for i in range(0, X_test_not_3x3.shape[0]):\n",
    "    X_test_not_mat_cols.append(resize(X_test_not_3x3[i], (32, 32, 1)))\n",
    "    \n",
    "for i in range(0, X_test_not_2x2.shape[0]):\n",
    "    X_test_not_mat_cols.append(resize(X_test_not_2x2[i], (32, 32, 1)))\n",
    "    \n",
    "X_test_not_mat_cols = np.array(X_test_not_mat_cols)"
   ]
  },
  {
   "cell_type": "code",
   "execution_count": 85,
   "metadata": {},
   "outputs": [],
   "source": [
    "#Add the column-like objects to the non-matrix test data.\n",
    "X_test_not_mat = np.vstack([X_test_not_mat, X_test_not_mat_cols])\n",
    "#Add corresponding target variables.\n",
    "#Use 'o' to denote operations.\n",
    "y_test_mat = np.vstack([y_test_mat, np.full((X_test_not_mat_cols.shape[0], 1), 'o')])"
   ]
  },
  {
   "cell_type": "code",
   "execution_count": 86,
   "metadata": {},
   "outputs": [],
   "source": [
    "X_test_mat = []\n",
    "\n",
    "#We do not add a gaussian filter for the test set.\n",
    "for i in range(0, X_test_3x3.shape[0]):\n",
    "    X_test_mat.append(resize(X_test_3x3[i], (32, 32, 1)))\n",
    "    \n",
    "for i in range(0, X_test_2x2.shape[0]):\n",
    "    X_test_mat.append(resize(X_test_2x2[i], (32, 32, 1)))\n",
    "    \n",
    "X_test_mat = np.array(X_test_mat)"
   ]
  },
  {
   "cell_type": "code",
   "execution_count": 87,
   "metadata": {},
   "outputs": [],
   "source": [
    "#Put data together in order corresponding to target variable.\n",
    "X_test_mat = np.vstack([X_test_mat, X_test_not_mat])"
   ]
  },
  {
   "cell_type": "code",
   "execution_count": 88,
   "metadata": {},
   "outputs": [
    {
     "data": {
      "text/plain": [
       "((15000, 32, 32, 1), (15000, 1))"
      ]
     },
     "execution_count": 88,
     "metadata": {},
     "output_type": "execute_result"
    }
   ],
   "source": [
    "X_test_mat.shape, y_test_mat.shape"
   ]
  },
  {
   "cell_type": "markdown",
   "metadata": {},
   "source": [
    "## Convolutional Neural Network 2 - Matrix Recognition\n",
    "<a id='cnn2'></a>\n",
    "\n",
    "The target variable classes are not integers so we use the one-hot-encoder to obtain the five dummy variables and categorical crossentropy instead of sparse categorical crossentropy to measure loss. The architecture and other parameters of this nerual network is the same as the network for digit recognition. This was the first neural network we tried for matrix recognition but since the results seemed decent and it trains quickly, we did not try anything else.\n",
    "\n",
    "We end up with a 98.8% test accuracy which is the lowest of our three neural networks. However, the confusion matrix shows perfect results in classifying matrices and the non-matrix columns. The issues arise in predicting brackets. The fact that matrix detecting here has made no errors may indicate that there is not enough data. The solution is to simply generate more matrices and non-matrix data and retrain the model. It is worth noting that more data was added as the project evolved. In fact, we trained the first version on only 1000 train and 500 validation matrices of each type.  "
   ]
  },
  {
   "cell_type": "code",
   "execution_count": 89,
   "metadata": {},
   "outputs": [],
   "source": [
    "#Use a one-hot-encoder on target variables. \n",
    "#Note that the encoder aranges dummy variables in alphabetical order.\n",
    "#Thus the output vector is of the form ('d', 'l', 'm', 'o', 'r').\n",
    "hec = OneHotEncoder()\n",
    "hec.fit(y_train_mat)\n",
    "y_train_mat_1h = hec.transform(y_train_mat).toarray()"
   ]
  },
  {
   "cell_type": "code",
   "execution_count": 90,
   "metadata": {},
   "outputs": [],
   "source": [
    "#hec = OneHotEncoder()\n",
    "#hec.fit(y_validation_mat)\n",
    "y_validation_mat_1h = hec.transform(y_validation_mat).toarray()"
   ]
  },
  {
   "cell_type": "code",
   "execution_count": 91,
   "metadata": {},
   "outputs": [],
   "source": [
    "#hec.fit(y_validation_mat)\n",
    "y_test_mat_1h = hec.transform(y_test_mat).toarray()"
   ]
  },
  {
   "cell_type": "code",
   "execution_count": 92,
   "metadata": {},
   "outputs": [],
   "source": [
    "#====================================================================================================================\n",
    "#Neural network for matrix recognition.\n",
    "#VGG16 inspired architecture. Two sets of two 3x3 convolution layers, each set followed by a 2x2 max pooling layer.\n",
    "#Dense layers and dropout layers after.\n",
    "\n",
    "#matrix_recog = Sequential()\n",
    "\n",
    "#matrix_recog.add(Conv2D(64, kernel_size = (3, 3), activation = 'relu', input_shape = (32, 32, 1)))\n",
    "#matrix_recog.add(Conv2D(64, (3, 3), activation = 'relu'))\n",
    "#matrix_recog.add(MaxPooling2D(pool_size = (2, 2)))\n",
    "\n",
    "#matrix_recog.add(Conv2D(128, (3, 3), activation = 'relu'))\n",
    "#matrix_recog.add(Conv2D(128, (3, 3), activation = 'relu'))\n",
    "#matrix_recog.add(MaxPooling2D(pool_size = (2, 2)))\n",
    "\n",
    "#matrix_recog.add(Dropout(0.25))\n",
    "#matrix_recog.add(Flatten())\n",
    "#matrix_recog.add(Dense(512, activation = 'relu'))\n",
    "#matrix_recog.add(Dropout(0.25))\n",
    "#matrix_recog.add(Dense(128, activation = 'relu'))\n",
    "#matrix_recog.add(Dropout(0.5))\n",
    "#matrix_recog.add(Dense(5, activation = 'softmax'))\n",
    "\n",
    "#Print out a summary of the network\n",
    "#matrix_recog.summary()\n",
    "#===================================================================================================================="
   ]
  },
  {
   "cell_type": "code",
   "execution_count": 93,
   "metadata": {},
   "outputs": [],
   "source": [
    "#====================================================================================================================\n",
    "#Add early stopping here - stop in the next epoch if the validation accuracy does not improve by more than 0.05%\n",
    "#callback = EarlyStopping(monitor = 'val_accuracy', min_delta = 0.0005, patience = 1, restore_best_weights = True)\n",
    "\n",
    "#Compile the model with the desired loss function, optimizer, and metric to optimize\n",
    "#matrix_recog.compile(loss = 'categorical_crossentropy',\n",
    "                  #optimizer = 'Adam',\n",
    "                  #metrics = ['accuracy'])\n",
    "#===================================================================================================================="
   ]
  },
  {
   "cell_type": "code",
   "execution_count": 94,
   "metadata": {},
   "outputs": [],
   "source": [
    "#====================================================================================================================\n",
    "#Train for 10 epochs with batch size 128.\n",
    "#history = matrix_recog.fit(X_train_mat, y_train_mat_1h,\n",
    "              #batch_size = 128,\n",
    "              #epochs = 10,\n",
    "              #verbose = 1,\n",
    "              #validation_data = (X_validation_mat, y_validation_mat_1h), callbacks = [callback])\n",
    "#===================================================================================================================="
   ]
  },
  {
   "cell_type": "code",
   "execution_count": 95,
   "metadata": {},
   "outputs": [],
   "source": [
    "#====================================================================================================================\n",
    "#Plots to analyze model performance.\n",
    "\n",
    "#Variables to plot.\n",
    "#epochs = history.epoch\n",
    "#train_loss = history.history['loss']\n",
    "#val_loss = history.history['val_loss']\n",
    "#train_acc = history.history['accuracy']\n",
    "#val_acc = history.history['val_accuracy']\n",
    "\n",
    "#plt.subplots(1, 2, figsize=(10, 5))\n",
    "\n",
    "#Plot of loss per epoch.\n",
    "#plt.subplot(1, 2, 1)\n",
    "#plt.plot(epochs, train_loss, label = 'train', marker = '.')\n",
    "#plt.plot(epochs, val_loss, label = 'validation', marker = '.')\n",
    "#plt.legend()\n",
    "#plt.xlabel('epoch')\n",
    "#plt.ylabel('loss')\n",
    "\n",
    "#Plot of accuracy per epoch.\n",
    "#plt.subplot(1, 2, 2)\n",
    "#plt.plot(epochs, train_acc, label = 'train', marker = '.')\n",
    "#plt.plot(epochs, val_acc, label = 'validation', marker = '.')\n",
    "#plt.legend()\n",
    "#plt.xlabel('epoch')\n",
    "#plt.ylabel('accuracy')\n",
    "\n",
    "#plt.show()\n",
    "#===================================================================================================================="
   ]
  },
  {
   "attachments": {
    "NN_v6_matrix_train_validation_accuracy.png": {
     "image/png": "[encoded data removed]"
    }
   },
   "cell_type": "markdown",
   "metadata": {},
   "source": [
    "![NN_v6_matrix_train_validation_accuracy.png](attachment:NN_v6_matrix_train_validation_accuracy.png)"
   ]
  },
  {
   "cell_type": "code",
   "execution_count": 96,
   "metadata": {},
   "outputs": [],
   "source": [
    "#====================================================================================================================\n",
    "#Save the model. We can train further by loading this model in if required.\n",
    "#matrix_recog.save(\"Matrix_Recognition_v6\")\n",
    "#====================================================================================================================\n",
    "\n",
    "#Load version 6 of model.\n",
    "matrix_recog = load_model('Matrix_Recognition_v6')"
   ]
  },
  {
   "cell_type": "code",
   "execution_count": 97,
   "metadata": {},
   "outputs": [
    {
     "name": "stdout",
     "output_type": "stream",
     "text": [
      "469/469 [==============================] - 12s 26ms/step - loss: 0.0317 - accuracy: 0.9903\n",
      "Test loss: 0.03174544498324394\n",
      "Test accuracy: 0.9903333187103271\n"
     ]
    }
   ],
   "source": [
    "#Evaluate the model performance on the test matrix data\n",
    "score = matrix_recog.evaluate(X_test_mat, y_test_mat_1h, verbose = 1)\n",
    "\n",
    "print('Test loss:', score[0])\n",
    "print('Test accuracy:', score[1])"
   ]
  },
  {
   "cell_type": "code",
   "execution_count": 98,
   "metadata": {},
   "outputs": [],
   "source": [
    "#====================================================================================================================\n",
    "#Get predictions for test data.\n",
    "#Same logic as digit_eval() but we already know the image sizes.\n",
    "#y_pred_mat = []\n",
    "mat_classes = np.array(['d', 'l', 'm', 'o', 'r']) #Order they are encoded by one-hot-encoder.\n",
    "\n",
    "#for mat in X_test_mat:\n",
    "    #result = matrix_recog.predict(np.array([mat]))[0]\n",
    "    #prediction_index = np.argmax(result)\n",
    "    #y_pred_mat.append(mat_classes[prediction_index])\n",
    "\n",
    "#y_pred_mat = np.array(y_pred_mat)    \n",
    "\n",
    "#np.save('matrix_test_predictions_v5', y_pred_mat, allow_pickle = True)\n",
    "#====================================================================================================================\n",
    "#Load predictions for version 5. Corresponds to NN version 6.\n",
    "y_pred_mat = np.load('matrix_test_predictions_v5.npy', allow_pickle = True)"
   ]
  },
  {
   "cell_type": "code",
   "execution_count": 99,
   "metadata": {},
   "outputs": [
    {
     "data": {
      "text/html": [
       "<div>\n",
       "<style scoped>\n",
       "    .dataframe tbody tr th:only-of-type {\n",
       "        vertical-align: middle;\n",
       "    }\n",
       "\n",
       "    .dataframe tbody tr th {\n",
       "        vertical-align: top;\n",
       "    }\n",
       "\n",
       "    .dataframe thead th {\n",
       "        text-align: right;\n",
       "    }\n",
       "</style>\n",
       "<table border=\"1\" class=\"dataframe\">\n",
       "  <thead>\n",
       "    <tr style=\"text-align: right;\">\n",
       "      <th></th>\n",
       "      <th>0</th>\n",
       "      <th>1</th>\n",
       "      <th>2</th>\n",
       "      <th>3</th>\n",
       "      <th>4</th>\n",
       "    </tr>\n",
       "  </thead>\n",
       "  <tbody>\n",
       "    <tr>\n",
       "      <th>0</th>\n",
       "      <td>2916</td>\n",
       "      <td>26</td>\n",
       "      <td>0</td>\n",
       "      <td>0</td>\n",
       "      <td>58</td>\n",
       "    </tr>\n",
       "    <tr>\n",
       "      <th>1</th>\n",
       "      <td>5</td>\n",
       "      <td>2951</td>\n",
       "      <td>0</td>\n",
       "      <td>0</td>\n",
       "      <td>44</td>\n",
       "    </tr>\n",
       "    <tr>\n",
       "      <th>2</th>\n",
       "      <td>0</td>\n",
       "      <td>0</td>\n",
       "      <td>3000</td>\n",
       "      <td>0</td>\n",
       "      <td>0</td>\n",
       "    </tr>\n",
       "    <tr>\n",
       "      <th>3</th>\n",
       "      <td>0</td>\n",
       "      <td>0</td>\n",
       "      <td>0</td>\n",
       "      <td>3000</td>\n",
       "      <td>0</td>\n",
       "    </tr>\n",
       "    <tr>\n",
       "      <th>4</th>\n",
       "      <td>14</td>\n",
       "      <td>10</td>\n",
       "      <td>0</td>\n",
       "      <td>0</td>\n",
       "      <td>2976</td>\n",
       "    </tr>\n",
       "  </tbody>\n",
       "</table>\n",
       "</div>"
      ],
      "text/plain": [
       "      0     1     2     3     4\n",
       "0  2916    26     0     0    58\n",
       "1     5  2951     0     0    44\n",
       "2     0     0  3000     0     0\n",
       "3     0     0     0  3000     0\n",
       "4    14    10     0     0  2976"
      ]
     },
     "execution_count": 99,
     "metadata": {},
     "output_type": "execute_result"
    }
   ],
   "source": [
    "#Confusion matrix. Order is digit, left bracket, matrix, right bracket\n",
    "pd.DataFrame(confusion_matrix(y_test_mat, y_pred_mat))\n",
    "#Very good for matrices. We may not have enough variation in the data."
   ]
  },
  {
   "cell_type": "code",
   "execution_count": 100,
   "metadata": {},
   "outputs": [
    {
     "name": "stdout",
     "output_type": "stream",
     "text": [
      "              precision    recall  f1-score   support\n",
      "\n",
      "           d       0.99      0.97      0.98      3000\n",
      "           l       0.99      0.98      0.99      3000\n",
      "           m       1.00      1.00      1.00      3000\n",
      "           o       1.00      1.00      1.00      3000\n",
      "           r       0.97      0.99      0.98      3000\n",
      "\n",
      "    accuracy                           0.99     15000\n",
      "   macro avg       0.99      0.99      0.99     15000\n",
      "weighted avg       0.99      0.99      0.99     15000\n",
      "\n"
     ]
    }
   ],
   "source": [
    "#Classification report.\n",
    "print(classification_report(y_test_mat, y_pred_mat))"
   ]
  },
  {
   "cell_type": "markdown",
   "metadata": {},
   "source": [
    "## Convolutional Neural Network 3 - Symbol Recognition\n",
    "<a id='cnn3'></a>\n",
    "\n",
    "### Data Processing and Synthesis\n",
    "<a id='cnn3data'></a>\n",
    "\n",
    "As with the matrix data, we require some additional images before we can train our final neural network. The original goal here was to classify digits without distinguishing between them, left and right brackets as well as plus and minus signs. Brackets were an issue here again as they were being confused with matrix columns and the plus and minus operations. Thus, we synthesize matrix columns to add as a sixth class. \n",
    "\n",
    "Since there are not as many operation images, we double the number of images by adding copies with a Gaussian filter applied. We also have the filtered versus unfiltered brackets from earlier. We add an equal number of columns and digits, half of the number of symbols. Half of the columns are 2x1 and the other half are 3x1. When reviewing the performance in the context of a whole equation, we likely added too much digit-related data The training dataset has about 200,000 images comprised of approximately 50,000 digits, 50,000 columns, 25,000 left brackets, 25,000 right brackets, 25,000 plus signs, and 25,000 minus signs. The validation and test data have the same class proportions and are both aproximately 25% of the training dataset. "
   ]
  },
  {
   "cell_type": "code",
   "execution_count": 101,
   "metadata": {},
   "outputs": [],
   "source": [
    "#Add filtered operations to even out data proportions.\n",
    "X_train_operations_filtered = X_train_operations.copy()\n",
    "X_validation_operations_filtered = X_validation_operations.copy()\n",
    "X_test_operations_filtered = X_test_operations.copy()\n",
    "\n",
    "for i in range(0, X_train_operations.shape[0]):\n",
    "    X_train_operations_filtered[i] = gaussian_filter(X_train_operations[i], sigma = 1)\n",
    "\n",
    "for i in range(0, X_validation_operations.shape[0]):\n",
    "    X_validation_operations_filtered[i] = gaussian_filter(X_validation_operations[i], sigma = 1)\n",
    "    \n",
    "for i in range(0, X_test_operations.shape[0]):\n",
    "    X_test_operations_filtered[i] = gaussian_filter(X_test_operations[i], sigma = 1)\n",
    "\n",
    "#Target variables are the same as unfiltered since order is preserved.\n",
    "y_train_operations_filtered = y_train_operations.copy()\n",
    "y_validation_operations_filtered = y_validation_operations.copy()\n",
    "y_test_operations_filtered = y_test_operations.copy()"
   ]
  },
  {
   "cell_type": "code",
   "execution_count": 102,
   "metadata": {},
   "outputs": [],
   "source": [
    "#Get train, validation, and test symbols in correct shape for NN.\n",
    "#Add the brackets and other symbols with gaussian filter.\n",
    "X_train_brackets_padded = np.vstack([padding(X_train_brackets), X_train_brackets_filtered])\n",
    "X_validation_brackets_padded = np.vstack([padding(X_validation_brackets), X_validation_brackets_filtered])\n",
    "X_test_brackets_padded = np.vstack([padding(X_test_brackets), X_test_brackets_filtered])\n",
    "\n",
    "X_train_operations_padded = padding(np.vstack([X_train_operations, X_train_operations_filtered]))\n",
    "X_validation_operations_padded = padding(np.vstack([X_validation_operations, X_validation_operations_filtered]))\n",
    "X_test_operations_padded = padding(np.vstack([X_test_operations, X_test_operations_filtered]))"
   ]
  },
  {
   "cell_type": "code",
   "execution_count": 103,
   "metadata": {},
   "outputs": [],
   "source": [
    "#Start putting together train, test, and validation data for symbols.\n",
    "#We still need to add some digits\n",
    "X_train_symbols = np.vstack([X_train_brackets_padded, X_train_operations_padded])\n",
    "X_validation_symbols = np.vstack([X_validation_brackets_padded, X_validation_operations_padded])\n",
    "X_test_symbols = np.vstack([X_test_brackets_padded, X_test_operations_padded])"
   ]
  },
  {
   "cell_type": "code",
   "execution_count": null,
   "metadata": {},
   "outputs": [],
   "source": []
  },
  {
   "cell_type": "code",
   "execution_count": 104,
   "metadata": {},
   "outputs": [],
   "source": [
    "#Number of brackets and operations in train data.\n",
    "num_symbols = X_train_brackets_padded.shape[0] + X_train_operations_padded.shape[0]\n",
    "#Number of digits to add.\n",
    "num_digits = int(np.floor(num_symbols / 2))\n",
    "#Number of each type of column to add.\n",
    "num_col = int(np.floor(num_digits / 2))\n",
    "\n",
    "#Get the indeces for the random digits to add to training data.\n",
    "digit_index = np.random.randint(X_train_digits_padded.shape[0], size = num_digits)\n",
    "\n",
    "#Get the random 2x1 and 3x1 columns to add to training data.\n",
    "#Columns of digits are sometimes confused with brackets or other symbols.\n",
    "\n",
    "#Generate random digit indeces for columns.\n",
    "col2_digit_index = np.random.randint(X_train_digits_padded.shape[0], size = (num_col, 2))\n",
    "col3_digit_index = np.random.randint(X_train_digits_padded.shape[0], size = (num_col, 3))\n",
    "\n",
    "#Glue together the randonly selected digit images to make the columns.\n",
    "#Resize and add to the list of training columns.\n",
    "X_train_columns = []\n",
    "for i in range(0, num_col):\n",
    "    col2 = np.vstack([X_train_digits_padded[col2_digit_index[i, 0]], X_train_digits_padded[col2_digit_index[i, 1]]])\n",
    "    col3 = np.vstack([X_train_digits_padded[col3_digit_index[i, 0]], X_train_digits_padded[col3_digit_index[i, 1]], X_train_digits_padded[col3_digit_index[i, 2]]])\n",
    "    X_train_columns.append(resize(col2, (32, 32, 1)))\n",
    "    X_train_columns.append(resize(col3, (32, 32, 1)))\n",
    "\n",
    "#Put all of the train data together.\n",
    "X_train_columns = np.array(X_train_columns)\n",
    "X_train_symbols = np.vstack([X_train_symbols, X_train_digits_padded[digit_index], X_train_columns])\n",
    "\n",
    "#Get the target variable for training.\n",
    "#Columns of either shape have target variable 'c'.\n",
    "#Thus we need 2 * num_col y values for columns.\n",
    "y_train_symbols = np.concatenate((y_train_brackets, y_train_brackets_filtered, y_train_operations, y_train_operations_filtered, np.full((num_digits), 'd'), np.full((2 * num_col), 'c')), axis = 0)"
   ]
  },
  {
   "cell_type": "code",
   "execution_count": 105,
   "metadata": {},
   "outputs": [
    {
     "data": {
      "text/plain": [
       "(49716, 32, 32, 1)"
      ]
     },
     "execution_count": 105,
     "metadata": {},
     "output_type": "execute_result"
    }
   ],
   "source": [
    "X_train_columns.shape"
   ]
  },
  {
   "cell_type": "code",
   "execution_count": 106,
   "metadata": {},
   "outputs": [
    {
     "data": {
      "text/plain": [
       "((198867,), (198867, 32, 32, 1))"
      ]
     },
     "execution_count": 106,
     "metadata": {},
     "output_type": "execute_result"
    }
   ],
   "source": [
    "y_train_symbols.shape, X_train_symbols.shape"
   ]
  },
  {
   "cell_type": "code",
   "execution_count": 107,
   "metadata": {},
   "outputs": [],
   "source": [
    "#Number of brackets and operations in validation data.\n",
    "num_symbols = X_validation_brackets_padded.shape[0] + X_validation_operations_padded.shape[0]\n",
    "#Number of digits to add.\n",
    "num_digits = int(np.floor(num_symbols / 2))\n",
    "#Number of each type of column to add.\n",
    "num_col = int(np.floor(num_digits / 2))\n",
    "\n",
    "#Get the indeces for the random digits to add to validation data.\n",
    "digit_index = np.random.randint(X_validation_digits_padded.shape[0], size = num_digits)\n",
    "\n",
    "#Generate random digit indeces for columns.\n",
    "col2_digit_index = np.random.randint(X_validation_digits_padded.shape[0], size = (num_col, 2))\n",
    "col3_digit_index = np.random.randint(X_validation_digits_padded.shape[0], size = (num_col, 3))\n",
    "\n",
    "#Glue together the randonly selected digit images to make the columns.\n",
    "#Resize and add to the list of validation columns.\n",
    "X_validation_columns = []\n",
    "for i in range(0, num_col):\n",
    "    col2 = np.vstack([X_validation_digits_padded[col2_digit_index[i, 0]], X_validation_digits_padded[col2_digit_index[i, 1]]])\n",
    "    col3 = np.vstack([X_validation_digits_padded[col3_digit_index[i, 0]], X_validation_digits_padded[col3_digit_index[i, 1]], X_validation_digits_padded[col3_digit_index[i, 2]]])\n",
    "    X_validation_columns.append(resize(col2, (32, 32, 1)))\n",
    "    X_validation_columns.append(resize(col3, (32, 32, 1)))\n",
    "\n",
    "#Put all of the validation data together.\n",
    "X_validation_columns = np.array(X_validation_columns)\n",
    "X_validation_symbols = np.vstack([X_validation_symbols, X_validation_digits_padded[digit_index], X_validation_columns])\n",
    "\n",
    "#Get the target variable for validation.\n",
    "y_validation_symbols = np.concatenate((y_validation_brackets, y_validation_brackets_filtered, y_validation_operations, y_validation_operations_filtered, np.full((num_digits), 'd'), np.full((2 * num_col), 'c')), axis = 0)"
   ]
  },
  {
   "cell_type": "code",
   "execution_count": 108,
   "metadata": {},
   "outputs": [],
   "source": [
    "#Number of brackets and operations in test data.\n",
    "num_symbols = X_test_brackets_padded.shape[0] + X_test_operations_padded.shape[0]\n",
    "#Number of digits to add.\n",
    "num_digits = int(np.floor(num_symbols / 2))\n",
    "#Number of each type of column to add.\n",
    "num_col = int(np.floor(num_digits / 2))\n",
    "\n",
    "#Get the indeces for the random digits to add to test data.\n",
    "digit_index = np.random.randint(X_test_digits_padded.shape[0], size = num_digits)\n",
    "\n",
    "#Generate random digit indeces for columns.\n",
    "col2_digit_index = np.random.randint(X_test_digits_padded.shape[0], size = (num_col, 2))\n",
    "col3_digit_index = np.random.randint(X_test_digits_padded.shape[0], size = (num_col, 3))\n",
    "\n",
    "#Glue together the randonly selected digit images to make the columns.\n",
    "#Resize and add to the list of test columns.\n",
    "X_test_columns = []\n",
    "for i in range(0, num_col):\n",
    "    col2 = np.vstack([X_test_digits_padded[col2_digit_index[i, 0]], X_test_digits_padded[col2_digit_index[i, 1]]])\n",
    "    col3 = np.vstack([X_test_digits_padded[col3_digit_index[i, 0]], X_test_digits_padded[col3_digit_index[i, 1]], X_test_digits_padded[col3_digit_index[i, 2]]])\n",
    "    X_test_columns.append(resize(col2, (32, 32, 1)))\n",
    "    X_test_columns.append(resize(col3, (32, 32, 1)))\n",
    "\n",
    "#Put all of the test data together.\n",
    "X_test_columns = np.array(X_test_columns)\n",
    "X_test_symbols = np.vstack([X_test_symbols, X_test_digits_padded[digit_index], X_test_columns])\n",
    "\n",
    "#Get the target variable for testing.\n",
    "y_test_symbols = np.concatenate((y_test_brackets, y_test_brackets_filtered, y_test_operations, y_test_operations_filtered, np.full((num_digits), 'd'), np.full((2 * num_col), 'c')), axis = 0)"
   ]
  },
  {
   "cell_type": "code",
   "execution_count": 109,
   "metadata": {},
   "outputs": [],
   "source": [
    "#Convert target variables to arrays for one-hot-encoding.\n",
    "y_train_symbols = np.array(y_train_symbols)\n",
    "y_validation_symbols = np.array(y_validation_symbols)\n",
    "y_test_symbols = np.array(y_test_symbols)"
   ]
  },
  {
   "cell_type": "code",
   "execution_count": 110,
   "metadata": {},
   "outputs": [],
   "source": [
    "#Reshape to two dimensional arrays with a trivial second dimension.\n",
    "y_train_symbols = np.reshape(y_train_symbols, (y_train_symbols.shape[0], 1))\n",
    "y_validation_symbols = np.reshape(y_validation_symbols, (y_validation_symbols.shape[0], 1))\n",
    "y_test_symbols = np.reshape(y_test_symbols, (y_test_symbols.shape[0], 1))"
   ]
  },
  {
   "cell_type": "markdown",
   "metadata": {},
   "source": [
    "### Symbol Recognition Neural Network\n",
    "<a id='cnn3nn'></a>\n",
    "\n",
    "The only difference between this neural network and that which we used for matrix recognition is the number of classes. Again, we did not see sufficient reason to spend time altering architecture and parameters. As above, we use the one-hot-encoder to obtain dummy variables. \n",
    "\n",
    "The resulting test accuracy of 99.2% is on par with the digit recognition, but in practice, issues with brackets do arise which we address in the conclusion. The classification report and confusion matrix show that there is an issue with right bracket precision, left bracket recall, and digit recall."
   ]
  },
  {
   "cell_type": "code",
   "execution_count": 111,
   "metadata": {
    "scrolled": true
   },
   "outputs": [],
   "source": [
    "#Use a one-hot-encoder on target variables. \n",
    "#Note that the encoder aranges dummy variables in alphabetical order.\n",
    "hec = OneHotEncoder()\n",
    "hec.fit(y_train_symbols)\n",
    "y_train_symbols_1h = hec.transform(y_train_symbols).toarray()"
   ]
  },
  {
   "cell_type": "code",
   "execution_count": 112,
   "metadata": {},
   "outputs": [],
   "source": [
    "hec.fit(y_validation_symbols)\n",
    "y_validation_symbols_1h = hec.transform(y_validation_symbols).toarray()"
   ]
  },
  {
   "cell_type": "code",
   "execution_count": 113,
   "metadata": {},
   "outputs": [],
   "source": [
    "hec.fit(y_test_symbols)\n",
    "y_test_symbols_1h = hec.transform(y_test_symbols).toarray()"
   ]
  },
  {
   "cell_type": "code",
   "execution_count": 114,
   "metadata": {},
   "outputs": [],
   "source": [
    "#====================================================================================================================\n",
    "#Neural network for matrix recognition.\n",
    "#VGG16 inspired architecture. Two sets of two 3x3 convolution layers, each set followed by a 2x2 max pooling layer.\n",
    "#Dense layers and dropout layers after.\n",
    "\n",
    "#symbol_recog = Sequential()\n",
    "\n",
    "#symbol_recog.add(Conv2D(64, kernel_size = (3, 3), activation = 'relu', input_shape = (32, 32, 1)))\n",
    "#symbol_recog.add(Conv2D(64, (3, 3), activation = 'relu'))\n",
    "#symbol_recog.add(MaxPooling2D(pool_size = (2, 2)))\n",
    "\n",
    "#symbol_recog.add(Conv2D(128, (3, 3), activation = 'relu'))\n",
    "#symbol_recog.add(Conv2D(128, (3, 3), activation = 'relu'))\n",
    "#symbol_recog.add(MaxPooling2D(pool_size = (2, 2)))\n",
    "\n",
    "#symbol_recog.add(Dropout(0.25))\n",
    "#symbol_recog.add(Flatten())\n",
    "#symbol_recog.add(Dense(512, activation = 'relu'))\n",
    "#symbol_recog.add(Dropout(0.25))\n",
    "#symbol_recog.add(Dense(128, activation = 'relu'))\n",
    "#symbol_recog.add(Dropout(0.5))\n",
    "#symbol_recog.add(Dense(6, activation = 'softmax'))\n",
    "\n",
    "#Print out a summary of the network\n",
    "#symbol_recog.summary()\n",
    "#===================================================================================================================="
   ]
  },
  {
   "cell_type": "code",
   "execution_count": 115,
   "metadata": {},
   "outputs": [],
   "source": [
    "#====================================================================================================================\n",
    "#Add early stopping here - stop in the next epoch if the validation accuracy does not improve by more than 0.05%\n",
    "#callback = EarlyStopping(monitor = 'val_accuracy', min_delta = 0.0005, patience = 1, restore_best_weights = True)\n",
    "\n",
    "#Compile the model with the desired loss function, optimizer, and metric to optimize\n",
    "#symbol_recog.compile(loss = 'categorical_crossentropy',\n",
    "                  #optimizer = 'Adam',\n",
    "                  #metrics = ['accuracy'])\n",
    "#===================================================================================================================="
   ]
  },
  {
   "cell_type": "code",
   "execution_count": 116,
   "metadata": {},
   "outputs": [],
   "source": [
    "#====================================================================================================================\n",
    "#Train for 10 epochs with batch size 128.\n",
    "#history = symbol_recog.fit(X_train_symbols, y_train_symbols_1h,\n",
    "              #batch_size = 128,\n",
    "              #epochs = 10,\n",
    "              #verbose = 1,\n",
    "              #validation_data = (X_validation_symbols, y_validation_symbols_1h), callbacks = [callback])\n",
    "#===================================================================================================================="
   ]
  },
  {
   "cell_type": "code",
   "execution_count": 117,
   "metadata": {},
   "outputs": [],
   "source": [
    "#====================================================================================================================\n",
    "#Plots to analyze model performance.\n",
    "\n",
    "#Variables to plot.\n",
    "#epochs = history.epoch\n",
    "#train_loss = history.history['loss']\n",
    "#val_loss = history.history['val_loss']\n",
    "#train_acc = history.history['accuracy']\n",
    "#val_acc = history.history['val_accuracy']\n",
    "\n",
    "#plt.subplots(1, 2, figsize=(10, 5))\n",
    "\n",
    "#Plot of loss per epoch.\n",
    "#plt.subplot(1, 2, 1)\n",
    "#plt.plot(epochs, train_loss, label = 'train', marker = '.')\n",
    "#plt.plot(epochs, val_loss, label = 'validation', marker = '.')\n",
    "#plt.legend()\n",
    "#plt.xlabel('epoch')\n",
    "#plt.ylabel('loss')\n",
    "\n",
    "#Plot of accuracy per epoch.\n",
    "#plt.subplot(1, 2, 2)\n",
    "#plt.plot(epochs, train_acc, label = 'train', marker = '.')\n",
    "#plt.plot(epochs, val_acc, label = 'validation', marker = '.')\n",
    "#plt.legend()\n",
    "#plt.xlabel('epoch')\n",
    "#plt.ylabel('accuracy')\n",
    "\n",
    "#plt.show()\n",
    "#===================================================================================================================="
   ]
  },
  {
   "attachments": {
    "NN_v5_symbol_train_validation_accuracy.png": {
     "image/png": "[encoded data removed]"
    }
   },
   "cell_type": "markdown",
   "metadata": {},
   "source": [
    "![NN_v5_symbol_train_validation_accuracy.png](attachment:NN_v5_symbol_train_validation_accuracy.png)"
   ]
  },
  {
   "cell_type": "code",
   "execution_count": 118,
   "metadata": {},
   "outputs": [],
   "source": [
    "#====================================================================================================================\n",
    "#Save the model. We can train further by loading this model in if required.\n",
    "#symbol_recog.save(\"Symbol_Recognition_v5\")\n",
    "#====================================================================================================================\n",
    "\n",
    "#Load version 5 of model.\n",
    "symbol_recog = load_model('Symbol_Recognition_v5')"
   ]
  },
  {
   "cell_type": "code",
   "execution_count": 119,
   "metadata": {},
   "outputs": [
    {
     "name": "stdout",
     "output_type": "stream",
     "text": [
      "2051/2051 [==============================] - 59s 29ms/step - loss: 0.0215 - accuracy: 0.9923\n",
      "Test loss: 0.021490268409252167\n",
      "Test accuracy: 0.9922875165939331\n"
     ]
    }
   ],
   "source": [
    "#Evaluate the model performance on the test symbol data\n",
    "score = symbol_recog.evaluate(X_test_symbols, y_test_symbols_1h, verbose = 1)\n",
    "\n",
    "print('Test loss:', score[0])\n",
    "print('Test accuracy:', score[1])"
   ]
  },
  {
   "cell_type": "code",
   "execution_count": 120,
   "metadata": {},
   "outputs": [],
   "source": [
    "#====================================================================================================================\n",
    "#Get predictions for test data.\n",
    "#Same logic as digit_eval() but we already know the image sizes.\n",
    "#y_pred_symbols = []\n",
    "symbol_classes = np.array(['+', '-', '[', ']', 'c', 'd']) #Order they are encoded by one-hot-encoder.\n",
    "\n",
    "#for symbol in X_test_symbols:\n",
    "    #result = symbol_recog.predict(np.array([symbol]))[0]\n",
    "    #prediction_index = np.argmax(result)\n",
    "    #y_pred_symbols.append(symbol_classes[prediction_index])\n",
    "\n",
    "#y_pred_symbols = np.array(y_pred_symbols)    \n",
    "\n",
    "#np.save('symbol_test_predictions_v5', y_pred_symbols, allow_pickle = True)\n",
    "#====================================================================================================================\n",
    "#Load predictions for version 5. Corresponds to NN version 5.\n",
    "y_pred_symbols = np.load('symbol_test_predictions_v5.npy', allow_pickle = True)"
   ]
  },
  {
   "cell_type": "code",
   "execution_count": 121,
   "metadata": {},
   "outputs": [
    {
     "data": {
      "text/plain": [
       "(array([']'], dtype=object), array([0., 0., 0., 1., 0., 0.]))"
      ]
     },
     "execution_count": 121,
     "metadata": {},
     "output_type": "execute_result"
    }
   ],
   "source": [
    "y_train_symbols[0], y_train_symbols_1h[0]"
   ]
  },
  {
   "cell_type": "code",
   "execution_count": 122,
   "metadata": {},
   "outputs": [
    {
     "data": {
      "text/plain": [
       "(array(['['], dtype=object), array([0., 0., 1., 0., 0., 0.]))"
      ]
     },
     "execution_count": 122,
     "metadata": {},
     "output_type": "execute_result"
    }
   ],
   "source": [
    "y_train_symbols[1], y_train_symbols_1h[1]"
   ]
  },
  {
   "cell_type": "code",
   "execution_count": 123,
   "metadata": {},
   "outputs": [
    {
     "data": {
      "text/plain": [
       "(array(['c'], dtype=object), array([0., 0., 0., 0., 1., 0.]))"
      ]
     },
     "execution_count": 123,
     "metadata": {},
     "output_type": "execute_result"
    }
   ],
   "source": [
    "y_train_symbols[-1], y_train_symbols_1h[-1]"
   ]
  },
  {
   "cell_type": "code",
   "execution_count": 124,
   "metadata": {},
   "outputs": [
    {
     "data": {
      "text/plain": [
       "(array(['+'], dtype=object), array([1., 0., 0., 0., 0., 0.]))"
      ]
     },
     "execution_count": 124,
     "metadata": {},
     "output_type": "execute_result"
    }
   ],
   "source": [
    "y_train_symbols[70000], y_train_symbols_1h[70000]"
   ]
  },
  {
   "cell_type": "code",
   "execution_count": 125,
   "metadata": {},
   "outputs": [
    {
     "data": {
      "text/plain": [
       "(array(['d'], dtype=object), array([0., 0., 0., 0., 0., 1.]))"
      ]
     },
     "execution_count": 125,
     "metadata": {},
     "output_type": "execute_result"
    }
   ],
   "source": [
    "y_train_symbols[100000], y_train_symbols_1h[100000]"
   ]
  },
  {
   "cell_type": "code",
   "execution_count": 126,
   "metadata": {},
   "outputs": [
    {
     "data": {
      "text/html": [
       "<div>\n",
       "<style scoped>\n",
       "    .dataframe tbody tr th:only-of-type {\n",
       "        vertical-align: middle;\n",
       "    }\n",
       "\n",
       "    .dataframe tbody tr th {\n",
       "        vertical-align: top;\n",
       "    }\n",
       "\n",
       "    .dataframe thead th {\n",
       "        text-align: right;\n",
       "    }\n",
       "</style>\n",
       "<table border=\"1\" class=\"dataframe\">\n",
       "  <thead>\n",
       "    <tr style=\"text-align: right;\">\n",
       "      <th></th>\n",
       "      <th>0</th>\n",
       "      <th>1</th>\n",
       "      <th>2</th>\n",
       "      <th>3</th>\n",
       "      <th>4</th>\n",
       "      <th>5</th>\n",
       "    </tr>\n",
       "  </thead>\n",
       "  <tbody>\n",
       "    <tr>\n",
       "      <th>0</th>\n",
       "      <td>8733</td>\n",
       "      <td>17</td>\n",
       "      <td>3</td>\n",
       "      <td>4</td>\n",
       "      <td>0</td>\n",
       "      <td>17</td>\n",
       "    </tr>\n",
       "    <tr>\n",
       "      <th>1</th>\n",
       "      <td>32</td>\n",
       "      <td>8336</td>\n",
       "      <td>4</td>\n",
       "      <td>0</td>\n",
       "      <td>0</td>\n",
       "      <td>4</td>\n",
       "    </tr>\n",
       "    <tr>\n",
       "      <th>2</th>\n",
       "      <td>9</td>\n",
       "      <td>0</td>\n",
       "      <td>8119</td>\n",
       "      <td>112</td>\n",
       "      <td>0</td>\n",
       "      <td>12</td>\n",
       "    </tr>\n",
       "    <tr>\n",
       "      <th>3</th>\n",
       "      <td>4</td>\n",
       "      <td>6</td>\n",
       "      <td>13</td>\n",
       "      <td>7360</td>\n",
       "      <td>0</td>\n",
       "      <td>19</td>\n",
       "    </tr>\n",
       "    <tr>\n",
       "      <th>4</th>\n",
       "      <td>0</td>\n",
       "      <td>0</td>\n",
       "      <td>0</td>\n",
       "      <td>0</td>\n",
       "      <td>16402</td>\n",
       "      <td>0</td>\n",
       "    </tr>\n",
       "    <tr>\n",
       "      <th>5</th>\n",
       "      <td>68</td>\n",
       "      <td>2</td>\n",
       "      <td>21</td>\n",
       "      <td>151</td>\n",
       "      <td>7</td>\n",
       "      <td>16153</td>\n",
       "    </tr>\n",
       "  </tbody>\n",
       "</table>\n",
       "</div>"
      ],
      "text/plain": [
       "      0     1     2     3      4      5\n",
       "0  8733    17     3     4      0     17\n",
       "1    32  8336     4     0      0      4\n",
       "2     9     0  8119   112      0     12\n",
       "3     4     6    13  7360      0     19\n",
       "4     0     0     0     0  16402      0\n",
       "5    68     2    21   151      7  16153"
      ]
     },
     "execution_count": 126,
     "metadata": {},
     "output_type": "execute_result"
    }
   ],
   "source": [
    "#Confusion matrix. Order is plus, minus, left bracket, right bracket, digit\n",
    "pd.DataFrame(confusion_matrix(y_test_symbols, y_pred_symbols))\n",
    "#There seems to be trouble predicting + and digits."
   ]
  },
  {
   "cell_type": "code",
   "execution_count": 127,
   "metadata": {},
   "outputs": [
    {
     "name": "stdout",
     "output_type": "stream",
     "text": [
      "              precision    recall  f1-score   support\n",
      "\n",
      "           +       0.99      1.00      0.99      8774\n",
      "           -       1.00      1.00      1.00      8376\n",
      "           [       0.99      0.98      0.99      8252\n",
      "           ]       0.96      0.99      0.98      7402\n",
      "           c       1.00      1.00      1.00     16402\n",
      "           d       1.00      0.98      0.99     16402\n",
      "\n",
      "    accuracy                           0.99     65608\n",
      "   macro avg       0.99      0.99      0.99     65608\n",
      "weighted avg       0.99      0.99      0.99     65608\n",
      "\n"
     ]
    }
   ],
   "source": [
    "#Classification report.\n",
    "print(classification_report(y_test_symbols, y_pred_symbols))\n",
    "#Some issues with predicting + as - or digit.\n",
    "#Some issues with predicting digit as column.\n",
    "#Some issue with predicting '[' as ']'"
   ]
  },
  {
   "cell_type": "markdown",
   "metadata": {},
   "source": [
    "## Equation Parsing and Solving\n",
    "<a id='eq'></a>\n",
    "\n",
    "Now we have our three neural networks for recognizing all parts of a simple matrix equation. The remaining piece is to construct the logic for identifying each part of an equation and computing the solution. The img_partition was designed with this purpose in mind as well as for deconstructing matrices.\n",
    "\n",
    "Before proceeding, it is important to note that certain misclassifications will cause errors which terminate the program. They are usually index errors. We discuss these issues in the conclusion. All code before this point should run with no errors.\n",
    "\n",
    "The first step is to split the image at white space into vertical columns. While doing this, we record the location of every partition. These locations give the right edge of a nonempty feature of the equation. We use the symbol recogntion neural networks for identifying these features. Thus, in its current form, the network detects digits, operations, brackets, and matrix columns.\n",
    "\n",
    "Next, we check for matrices. This is done by looking between all pairs of adjacent brackets. The first attempt looked only between brackets where the left and right brackets were detected as left and right brackets respectively. As noted earlier, the neural network has trouble distinguishing between the brackets. This seems to be due to the rescaling. Thus we do not distinguish between left and right brackets in the logic.\n",
    "\n",
    "For a given pair of adjacent brackets, we classify the subsection of the image given by those brackets and everything in between, using the matrix recognition neural network. In general, matrices seem to be correctly identified as matrices but this is where the operations between brackets became an issue. In fact, they are still an issue. There is also a problem with white space between two brackets being identified as a matrix. \n",
    "\n",
    "Instead of retraining the neural network to account for the white space and get better recall with the operations, we leverage the fact that there is a priori knowledge of the context of the input. We know that the image inputs have 0 pixel value where there are no features and we already use this technique for detecting where images are located. Thus, if we have something between two brackets with pixel values summing to 0, we know it can't be a matrix. We also know that operations between brackets look like a matrix column. We can strip away the brackets and white space as we would with a matrix. Then, we are left with a single row. Therefore, anything which the matrix detection neural network thinks is a matrix that has only one row, we feed in the entries to the symbol recognition neural network, which distinguishes between digits and operations much more accurately. If we detect an operation in the row, we know that we are not looking at a matrix.\n",
    "\n",
    "After matrix identification is complete, we process each for entry identification. The brackets are removed, the matrix is partitioned into individual entries, and each entry is fed into the digit recognition neural network. The results are stored in a numpy array with the same shape as the matrix.\n",
    "\n",
    "At this point, we have the location of all matrices. This also means that we have the location of all features of the image which are not part of a matrix. We take these objects and use the symbol recognition network to classify them since the remaining options are digits and operations.\n",
    "\n",
    "Lastly, all features are stored in a list along with their locations and a string value to identify if they are a matrix, digit, or operation. The list is sorted by location so that the order is determined by how they appear in the equation. Then, we simply compute the answer. \n",
    "\n",
    "There is some logic required for computing the answer. First, the equation is partitioned into sections where a plus or minus is detected. Thus, each section has only the multiplication operation to perform. After multiplying everything in each section, we add and subtract as dictated by the operations we detected earlier. For the moment, multiplication is when a digit is next to a matrix or a matrix is next to a matrix. No multiplication operator has been implemented and no checking for compatible matrix dimensions has been added at this time.\n",
    "\n",
    "We also provide some code to generate images of equations. Other options are provided as comments. The current option gives matrix multiplication fo two 2x2 matrices followed by the addition of a third 2x2 matrix."
   ]
  },
  {
   "cell_type": "code",
   "execution_count": 128,
   "metadata": {},
   "outputs": [
    {
     "data": {
      "text/plain": [
       "(1, 32, 32, 1)"
      ]
     },
     "execution_count": 128,
     "metadata": {},
     "output_type": "execute_result"
    }
   ],
   "source": [
    "#Generate a + or - operation.\n",
    "index = np.random.randint(X_test_operations.shape[0], size = 1)\n",
    "padding(X_test_operations[index]).shape"
   ]
  },
  {
   "cell_type": "code",
   "execution_count": 129,
   "metadata": {},
   "outputs": [],
   "source": [
    "#Add white space to fit operation to an image with 2x2 mtrices.\n",
    "#s1 = np.vstack([np.zeros((32, 32, 1)), padding(X_test_operations[index])[0]])\n",
    "\n",
    "#Add white space to fit operation to an image with 3x3 mtrices.\n",
    "s1 = np.vstack([np.zeros((64, 32, 1)), padding(X_test_operations[index])[0]])"
   ]
  },
  {
   "cell_type": "code",
   "execution_count": 130,
   "metadata": {},
   "outputs": [
    {
     "data": {
      "text/plain": [
       "(64, 32, 1)"
      ]
     },
     "execution_count": 130,
     "metadata": {},
     "output_type": "execute_result"
    }
   ],
   "source": [
    "#Check shape.\n",
    "s1.shape"
   ]
  },
  {
   "cell_type": "code",
   "execution_count": 162,
   "metadata": {},
   "outputs": [
    {
     "data": {
      "text/plain": [
       "(1, 32, 32, 1)"
      ]
     },
     "execution_count": 162,
     "metadata": {},
     "output_type": "execute_result"
    }
   ],
   "source": [
    "#Generate a random digit.\n",
    "index2 = np.random.randint(X_test_digits_padded.shape[0], size = 1)\n",
    "X_test_digits_padded[index2].shape"
   ]
  },
  {
   "cell_type": "code",
   "execution_count": 163,
   "metadata": {},
   "outputs": [
    {
     "data": {
      "text/plain": [
       "(96, 32, 1)"
      ]
     },
     "execution_count": 163,
     "metadata": {},
     "output_type": "execute_result"
    }
   ],
   "source": [
    "#Add white space to fit digit to an image with 2x2 mtrices.\n",
    "#d1 = np.vstack([np.zeros((32, 32, 1)), X_test_digits_padded[index2][0]])\n",
    "\n",
    "#Add white space to fit digit to an image with 3x3 mtrices.\n",
    "d1 = np.vstack([np.zeros((64, 32, 1)), X_test_digits_padded[index2][0]])\n",
    "\n",
    "d1.shape"
   ]
  },
  {
   "cell_type": "code",
   "execution_count": 185,
   "metadata": {},
   "outputs": [],
   "source": [
    "#Generate 2x2 matrices.\n",
    "#m1 = synth_mat(X_test_digits_padded, np.array(lbrackets), np.array(rbrackets), 2, 2)\n",
    "#m2 = synth_mat(X_test_digits_padded, np.array(lbrackets), np.array(rbrackets), 2, 2)\n",
    "#m3 = synth_mat(X_test_digits_padded, np.array(lbrackets), np.array(rbrackets), 2, 2)\n",
    "\n",
    "#Generate 3x3 matrices.\n",
    "m4 = synth_mat(X_test_digits_padded, np.array(lbrackets), np.array(rbrackets))\n",
    "m5 = synth_mat(X_test_digits_padded, np.array(lbrackets), np.array(rbrackets))"
   ]
  },
  {
   "cell_type": "code",
   "execution_count": 186,
   "metadata": {},
   "outputs": [],
   "source": [
    "#Multiply two 2x2 matrices and add a third.\n",
    "#img = np.concatenate([m1, m2, s1, m3], axis = 1)\n",
    "\n",
    "#multiply three 2x2 matrices.\n",
    "#img = np.concatenate([m1, m2, m3], axis = 1)\n",
    "\n",
    "#multiply two 3x3 matrices.\n",
    "img = np.concatenate([m4, m5], axis = 1)\n",
    "\n",
    "#Multiply a matrix by a digit.\n",
    "#img = np.concatenate([d1, m4], axis = 1)\n",
    "\n",
    "#Add or subtract two 3x3 matrices.\n",
    "#img = np.concatenate([m4, s1, m5], axis = 1)\n",
    "\n",
    "#Add or subtract two 2x2 matrices.\n",
    "#img = np.concatenate([m1, s1, m2], axis = 1)"
   ]
  },
  {
   "cell_type": "code",
   "execution_count": 187,
   "metadata": {},
   "outputs": [
    {
     "data": {
      "image/png": "[encoded data removed]",
      "text/plain": [
       "<Figure size 1440x1440 with 1 Axes>"
      ]
     },
     "metadata": {
      "needs_background": "light"
     },
     "output_type": "display_data"
    }
   ],
   "source": [
    "#Check the image of the equation.\n",
    "plt.figure(figsize = (20,20))\n",
    "plt.imshow(img, cmap = 'gray_r', vmin = 0, vmax = 1)\n",
    "plt.axis('off')\n",
    "plt.show()"
   ]
  },
  {
   "cell_type": "code",
   "execution_count": 188,
   "metadata": {},
   "outputs": [
    {
     "name": "stdout",
     "output_type": "stream",
     "text": [
      "]\n",
      "c\n",
      "c\n",
      "c\n",
      "]\n",
      "]\n",
      "c\n",
      "c\n",
      "c\n",
      "]\n"
     ]
    }
   ],
   "source": [
    "#Partition image into 'columns'.\n",
    "partitions = img_partition(img, 'col', 1)\n",
    "#Store where left and right brackets are located.\n",
    "brac_loc = []\n",
    "\n",
    "#Look at one column slice of the image at a time.\n",
    "for i in range(0, len(partitions)):\n",
    "    if (i == 0):\n",
    "        part = img[:, 0 : partitions[i]]\n",
    "    else:\n",
    "        part = img[:, partitions[i - 1] : partitions[i]]\n",
    "\n",
    "    if ((part.shape[0] == 32) & (part.shape[1] == 32)):\n",
    "        #If the image already has the correct dimensions, we can feed it into our model and get the class predictions.\n",
    "        #The .predict requires an array input.\n",
    "        result = symbol_recog.predict(np.array([part]))[0]\n",
    "    else:\n",
    "        #If image is too big in at least one dimension.\n",
    "        if ((part.shape[0] > 32) | (part.shape[1] > 32)):\n",
    "            #If the part of the image is still too big after being cropped.\n",
    "            if ((digit_cropping(part).shape[0] > 32) | (digit_cropping(part).shape[1] > 32)):\n",
    "                #It is a column or a bracket.\n",
    "                #Resize to make image the correct dimensions for NN and predict.\n",
    "                result = symbol_recog.predict(np.array([resize(part, (32, 32, 1))]))[0]\n",
    "            else:\n",
    "                #The image is a digit or a symbol\n",
    "                result = symbol_recog.predict(padding(np.array([digit_cropping(part)])))[0]\n",
    "        else:\n",
    "            #Pad to get dimensions for neural network input. Predict digit class.\n",
    "            result = symbol_recog.predict(padding(np.array([part])))[0]\n",
    "            \n",
    "    #Predicted class is largest value in result array.\n",
    "    #argmax returns the index corresponding to the maximum entry.\n",
    "    prediction = symbol_classes[np.argmax(result)]\n",
    "    \n",
    "    #print predictions for each vertical strip for testing purposes. \n",
    "    print(prediction)\n",
    "    \n",
    "    #If a bracket is detected, store where a matrix may start or stop.\n",
    "    #Store a box around the bracket since it may be the start or end of a matrix.\n",
    "    if ((prediction == '[') | (prediction == ']')):\n",
    "        if (i == 0):\n",
    "            brac_loc.append([0, partitions[i]])\n",
    "        else:\n",
    "            brac_loc.append([partitions[i - 1], partitions[i]])\n"
   ]
  },
  {
   "cell_type": "code",
   "execution_count": 189,
   "metadata": {},
   "outputs": [
    {
     "data": {
      "text/plain": [
       "[[0, 11], [107, 123], [123, 140], [231, 255]]"
      ]
     },
     "execution_count": 189,
     "metadata": {},
     "output_type": "execute_result"
    }
   ],
   "source": [
    "#Check locations of brackets.\n",
    "brac_loc"
   ]
  },
  {
   "cell_type": "code",
   "execution_count": 190,
   "metadata": {},
   "outputs": [],
   "source": [
    "#Store left and right edges of matrices and an array of the predicted entries with the same dimensions.\n",
    "mat_loc = []\n",
    "\n",
    "#There are len(brac_loc) - 1 parts of the image in between brackets.\n",
    "for j in range(0, len(brac_loc) - 1):\n",
    "    #Image of brackets and everything in between. Thus a potential matrix.\n",
    "    mat = img[:, brac_loc[j][0] : brac_loc[j + 1][1]]\n",
    "    \n",
    "    if ((mat.shape[0] == 32) & (mat.shape[1] == 32)):\n",
    "        #If the image already has the correct dimensions, we can feed it into our model and get the class predictions.\n",
    "        #The .predict requires an array input.\n",
    "        result = matrix_recog.predict(np.array([mat]))[0]\n",
    "    else:\n",
    "        #If image is too big in at least one dimension.\n",
    "        if ((mat.shape[0] > 32) | (mat.shape[1] > 32)):\n",
    "                #Resize to make image the correct dimensions for NN and predict.\n",
    "                result = matrix_recog.predict(np.array([resize(mat, (32, 32, 1))]))[0] \n",
    "        else:\n",
    "            #Pad to get dimensions for neural network input. Predict digit class.\n",
    "            result = matrix_recog.predict(padding(np.array([mat])))[0]\n",
    "            \n",
    "    #Predicted class is largest value in result array.\n",
    "    #argmax returns the index corresponding to the maximum entry.\n",
    "    prediction = mat_classes[np.argmax(result)]\n",
    "   \n",
    "    #If matrix is predicted.\n",
    "    if (prediction == 'm'):\n",
    "        #The commented code plots the predicted matrix for testing and demonstration purposes.\n",
    "        #plt.figure()\n",
    "        #plt.imshow(mat, cmap = 'gray_r', vmin = 0, vmax = 1)\n",
    "        #plt.axis('off')\n",
    "        #plt.show()\n",
    "        \n",
    "        #Remove brackets.\n",
    "        mat = bracket_removal(mat)\n",
    "        \n",
    "        #Currently predicts ][ as a matrix. \n",
    "        #After removing brackets, we just have white space so this is a work-around for now.\n",
    "        #We are summing all pixel values. Nonzero sum means something is between the brackets.\n",
    "        if (float(sum(sum(mat))) > 0):\n",
    "            #Get rows and columns.\n",
    "            col_part = img_partition(mat, 'col', 1)\n",
    "            row_part = img_partition(mat, 'row', 1)\n",
    "  \n",
    "            #Store matrix entries.\n",
    "            entries = []\n",
    "            #Get the individual matrix entries. We already have right edges and bottom edges stored.\n",
    "            for n in range(0, len(row_part)):\n",
    "                #Top edge of entry image.\n",
    "                if (n == 0):\n",
    "                    top = 0\n",
    "                else:\n",
    "                    top = row_part[n - 1]\n",
    "\n",
    "                for k in range(0, len(col_part)):\n",
    "                    #Left edge of entry image.\n",
    "                    if (k == 0):\n",
    "                        left = 0\n",
    "                    else:\n",
    "                        left = col_part[k - 1]\n",
    "                    \n",
    "                    entries.append(mat[top : row_part[n], left : col_part[k]])\n",
    "                    \n",
    "                    #The commented code below plots theimage of the matrix entry for testing and demonstration purposes.\n",
    "                    #plt.figure()\n",
    "                    #plt.imshow(mat[top : row_part[n], left : col_part[k]], cmap = 'gray_r', vmin = 0, vmax = 1)\n",
    "                    #plt.axis('off')\n",
    "                    #plt.show()\n",
    "                    \n",
    "            #If only one row is detected, we check that no 'entries' are + or -.\n",
    "            #Initialize variable to store whether we really have a matrix or not.\n",
    "            not_a_matrix = False\n",
    "            if (len(row_part) == 1):\n",
    "                for k in range(0, len(col_part)):\n",
    "                    check_result = symbol_recog.predict(padding(np.array([digit_cropping(entries[k])])))[0]\n",
    "                    check_prediction = symbol_classes[np.argmax(check_result)]\n",
    "                    if ((check_prediction == '+') | (check_prediction == '-')):\n",
    "                        not_a_matrix = True\n",
    "            if (not_a_matrix == False):\n",
    "                #Note that we assume matrix has at least two entries. A 1x1 matrix will be treated as a digit.\n",
    "                #Get array of matrix entries in the form of input image.\n",
    "                mat_pred = digit_eval(entries).reshape(len(row_part), len(col_part))\n",
    "                #Store the left and right edges of the matrix. This excludes several partitions of the original image in between.\n",
    "                mat_loc.append((brac_loc[j][0], brac_loc[j + 1][1], mat_pred, 'm')) #m for matrix"
   ]
  },
  {
   "cell_type": "code",
   "execution_count": 191,
   "metadata": {},
   "outputs": [
    {
     "data": {
      "text/plain": [
       "[(0,\n",
       "  123,\n",
       "  array([[2, 2, 4],\n",
       "         [4, 6, 1],\n",
       "         [2, 0, 1]], dtype=int64),\n",
       "  'm'),\n",
       " (123,\n",
       "  255,\n",
       "  array([[4, 5, 1],\n",
       "         [2, 6, 9],\n",
       "         [4, 2, 8]], dtype=int64),\n",
       "  'm')]"
      ]
     },
     "execution_count": 191,
     "metadata": {},
     "output_type": "execute_result"
    }
   ],
   "source": [
    "#Check matrix location and entries after predictions.\n",
    "mat_loc"
   ]
  },
  {
   "cell_type": "code",
   "execution_count": 192,
   "metadata": {},
   "outputs": [
    {
     "data": {
      "text/plain": [
       "[11, 40, 73, 107, 123, 140, 169, 204, 231, 255]"
      ]
     },
     "execution_count": 192,
     "metadata": {},
     "output_type": "execute_result"
    }
   ],
   "source": [
    "#Check partitions of equation image.\n",
    "partitions"
   ]
  },
  {
   "cell_type": "code",
   "execution_count": 193,
   "metadata": {},
   "outputs": [],
   "source": [
    "#Check the rest of the image for digits and symbols.\n",
    "sym_loc = []\n",
    "\n",
    "for p in range(0, len(partitions)):\n",
    "    #Keep track of if a partition of the image corresponds to part of a matrix.\n",
    "    #Initialize to false means we assume it is not part of a matrix until proven otherwise.\n",
    "    in_mat = False\n",
    "    for i in range(0, len(mat_loc)):\n",
    "        #If partition is between the left and right edge of a matrix.\n",
    "        #Note partition is a right edge of a feature we do not want to throw away partition = mat_loc[i][0].\n",
    "        if ((partitions[p] > mat_loc[i][0]) & (partitions[p] <= mat_loc[i][1])):\n",
    "            #Partition is inside a matrix.\n",
    "            in_mat = True\n",
    "    \n",
    "    #If partitions is the right edge of something not inside a matrix.\n",
    "    if (in_mat == False):\n",
    "        #Right edge.\n",
    "        right = partitions[p]\n",
    "        #Left edge.\n",
    "        if (p == 0):\n",
    "            left = 0\n",
    "        else:\n",
    "            left = partitions[p - 1]\n",
    "        \n",
    "        #Select the part of the image we are predictiong.    \n",
    "        part = img[:, left : right]\n",
    "        \n",
    "        #We will assume brackets will not appear in cases other than defining matrices for now.\n",
    "        \n",
    "        if ((part.shape[0] == 32) & (part.shape[1] == 32)):\n",
    "            #If the image already has the correct dimensions, we can feed it into our model and get the class predictions.\n",
    "            #The .predict requires an array input.\n",
    "                result = symbol_recog.predict(np.array([part]))[0]\n",
    "        else:\n",
    "            #This is where we assume no brackets. All other symbols have been padded to 32x32x1 before making the image.\n",
    "            #Thus, after removing the white space, the image will be too small.\n",
    "            #Remove extra white space. digit_cropping() will work for plus and minus as well.\n",
    "            part = digit_cropping(part)\n",
    "            #Pad to get dimensions for neural network input. Predict symbol class.\n",
    "            result = symbol_recog.predict(padding(np.array([part])))[0]\n",
    "            \n",
    "        #Predicted class is largest value in result array.\n",
    "        #argmax returns the index corresponding to the maximum entry. \n",
    "        prediction = symbol_classes[np.argmax(result)]\n",
    "        \n",
    "        #Print statement for debugging and demonstration.\n",
    "        print(prediction)\n",
    "        \n",
    "        #If we predict a plus or minus operation.\n",
    "        if ((prediction == '+') | (prediction == '-')):\n",
    "            #Store location and prediction.\n",
    "            sym_loc.append((left, right, prediction, 'o')) #o for operation\n",
    "        #If we predict a digit.\n",
    "        elif (prediction == 'd'):\n",
    "            #Predict the digit.\n",
    "            sym_loc.append((left, right, digit_eval(np.array([part])), 'd')) #d for digit"
   ]
  },
  {
   "cell_type": "code",
   "execution_count": 194,
   "metadata": {},
   "outputs": [
    {
     "data": {
      "text/plain": [
       "[]"
      ]
     },
     "execution_count": 194,
     "metadata": {},
     "output_type": "execute_result"
    }
   ],
   "source": [
    "#Check location and prediction of symbols.\n",
    "sym_loc"
   ]
  },
  {
   "cell_type": "code",
   "execution_count": 195,
   "metadata": {},
   "outputs": [],
   "source": [
    "#Store locations of symbols and matrices together.\n",
    "if (len(sym_loc) > 0):\n",
    "    #eq_loc = np.concatenate([np.array(sym_loc), np.array(mat_loc)], axis = 0)\n",
    "    eq_loc = sym_loc + mat_loc\n",
    "else:\n",
    "    eq_loc = mat_loc"
   ]
  },
  {
   "cell_type": "code",
   "execution_count": 196,
   "metadata": {},
   "outputs": [
    {
     "data": {
      "text/plain": [
       "[(0,\n",
       "  123,\n",
       "  array([[2, 2, 4],\n",
       "         [4, 6, 1],\n",
       "         [2, 0, 1]], dtype=int64),\n",
       "  'm'),\n",
       " (123,\n",
       "  255,\n",
       "  array([[4, 5, 1],\n",
       "         [2, 6, 9],\n",
       "         [4, 2, 8]], dtype=int64),\n",
       "  'm')]"
      ]
     },
     "execution_count": 196,
     "metadata": {},
     "output_type": "execute_result"
    }
   ],
   "source": [
    "#Check list of equation features.\n",
    "eq_loc"
   ]
  },
  {
   "cell_type": "code",
   "execution_count": 197,
   "metadata": {},
   "outputs": [],
   "source": [
    "#Sort by the first entries (left edges of features).\n",
    "#This gives the order of features as they appear.      \n",
    "\n",
    "from operator import itemgetter\n",
    "eq_loc = sorted(eq_loc, key = itemgetter(0))"
   ]
  },
  {
   "cell_type": "code",
   "execution_count": 198,
   "metadata": {},
   "outputs": [
    {
     "data": {
      "text/plain": [
       "[(0,\n",
       "  123,\n",
       "  array([[2, 2, 4],\n",
       "         [4, 6, 1],\n",
       "         [2, 0, 1]], dtype=int64),\n",
       "  'm'),\n",
       " (123,\n",
       "  255,\n",
       "  array([[4, 5, 1],\n",
       "         [2, 6, 9],\n",
       "         [4, 2, 8]], dtype=int64),\n",
       "  'm')]"
      ]
     },
     "execution_count": 198,
     "metadata": {},
     "output_type": "execute_result"
    }
   ],
   "source": [
    "#Check equation features after sorting by order of appearance.\n",
    "eq_loc"
   ]
  },
  {
   "cell_type": "code",
   "execution_count": 199,
   "metadata": {},
   "outputs": [
    {
     "name": "stdout",
     "output_type": "stream",
     "text": [
      "[[28 30 52]\n",
      " [32 58 66]\n",
      " [12 12 10]]\n"
     ]
    }
   ],
   "source": [
    "#Initialize index variables\n",
    "i = 0\n",
    "j = 0\n",
    "#Number of sub-equations is one more than the number of +/- operations\n",
    "num_sub_eq = 1\n",
    "for t in range(0, len(sym_loc)):\n",
    "    if (sym_loc[t][3] == 'o'):\n",
    "        num_sub_eq = num_sub_eq + 1\n",
    "\n",
    "#Initialize empty list of lists to store sub-equations.\n",
    "sub_eq = []\n",
    "for k in range(0, num_sub_eq):\n",
    "    sub_eq.append([])\n",
    "\n",
    "#Assuming input doesn't start with an operation symbol.\n",
    "while (j < num_sub_eq):\n",
    "    while (eq_loc[i][3] != 'o'):\n",
    "        sub_eq[j].append(eq_loc[i])\n",
    "        i = i + 1\n",
    "        if (i >= len(eq_loc)):\n",
    "            break\n",
    "    j = j + 1\n",
    "    i = i + 1\n",
    "    \n",
    "#Store results of sub-equation multiplications.\n",
    "results = []    \n",
    "\n",
    "#Calculate for each sub-equation.\n",
    "for j in range(0, num_sub_eq):\n",
    "    #Initialize result of multiplication to first value.\n",
    "    result = sub_eq[j][0]\n",
    "    #Multiply the elements of the sub-equation together.\n",
    "    for k in range(1, len(sub_eq[j])):\n",
    "        #If we multiply two digits.\n",
    "        if ((result[3] == 'd') & (sub_eq[j][k][3] == 'd')):\n",
    "            #The 0 functions as a placeholder since we no longer need that information.\n",
    "            result = (0, 0, result[2] * sub_eq[j][k][2], 'd')\n",
    "        #If we multiply a matrix by a digit.\n",
    "        elif ((result[3] == 'd') | (sub_eq[j][k][3] == 'd')):\n",
    "            result = (0, 0, result[2] * sub_eq[j][k][2], 'm')\n",
    "        #If we multiply two matrices.\n",
    "        else:\n",
    "            result = (0, 0, np.matmul(result[2], sub_eq[j][k][2]), 'm')\n",
    "    \n",
    "    #Store only result of multiplication.\n",
    "    results.append(result[2])\n",
    "\n",
    "#initialize answer to result of first sub-equation.\n",
    "answer = results[0]\n",
    "\n",
    "#Initialize counter to keep track of which sub equation we will add or subtract\n",
    "results_counter = 1\n",
    "#Add and subtract results from sub-equations based on operations detected.\n",
    "for i in range(0, len(sym_loc)):\n",
    "    #If operation is addition.\n",
    "    if (sym_loc[i][2] == '+'):\n",
    "        answer = answer + results[resuts_counter]\n",
    "        #Increase counter.\n",
    "        results_counter = results_counter + 1\n",
    "    #If operation is subtraction.\n",
    "    elif (sym_loc[i][2] == '-'):\n",
    "        answer = answer - results[results_counter]\n",
    "        #Increase counter.\n",
    "        results_counter = results_counter + 1\n",
    "    \n",
    "print(answer)"
   ]
  },
  {
   "cell_type": "code",
   "execution_count": 200,
   "metadata": {},
   "outputs": [],
   "source": [
    "#Shows the partitions of the equation image.\n",
    "#plt.figure(figsize = (20,20))\n",
    "#plt.imshow(img, cmap = 'gray_r', vmin = 0, vmax = 1)\n",
    "#plt.vlines(partitions, ymin = 0, ymax = 64, colors = 'red')\n",
    "#plt.axis('off')\n",
    "#plt.show()"
   ]
  },
  {
   "cell_type": "markdown",
   "metadata": {},
   "source": [
    "## Conclusion\n",
    "<a id='conclusion'></a>\n",
    "\n",
    "There are several significant issues with this project which prevents it from being particularly useful. On the surface, the neural networks all have high accuracy, precision, and recall. However, these are not good metrics to evaluate the project since they do not evaluate performance on outputting solutions to equations. The first issue is that each neural network classifies specific features of an equation and each equation has many features. For example, multiplying two 3x3 matrices has 18 digits, 4 brackets, 6 columns, and 2 matrices to classify. This adds up to 30 separate classifications in a very simple equation. Treating each classification as a Bernoulli trial, even with 99% accuracy for all predictions, we end up with about a 30% chance to encounter an error. This illustrates why it is important to leverage the context built into the equations. \n",
    "\n",
    "A better model performance metric would be the accuracy in correct solution output. This is something we would like to implement but it requires a bit more work. Certain classification errors will cause errors which terminate the program. Thus, we need to include try-except statements and bin the error-producing equations with incorrectly predicted equations. This would also require synthesizing many more equations. We could also calculate this metric by hand since we have the relevant statistical information available from the classification reports.\n",
    "\n",
    "There are three possible courses of action which we think would improve performance. The first and most simple involves using the fact that the symbol recognition neural network performs well on matrix columns. We do not use this information beyond helping to distinguish between brackets and not brackets. We could add the column predctions to help determine where to look for a matrix and reduce classification errors. For example, an issue that arises is a bracket may be classified as a plus sign. The equation parsing logic would then check the wrong subsection of the image for a matrix. The added layer of classification could be that if we have an operation and then columns or columns and then an operation, we likely misclassified brackets as an operation. Thus we should check the columns and the two adjacent non-columns to see if it is actually a matrix.\n",
    "\n",
    "The second possible improvement is adding more specialized neural networks to create a classification sieve. For example, the first layer of symbol detection could classify all binary operations as the same class. Then we use a second neural network which is trained only to distinguish between the relevant binary operations. In a sense, this is the method we already use, but it can be further refined.\n",
    "\n",
    "The last course of action is to train a neural network on entire types of equations. For example, we train a neural network to recognize multiplying two matrices of a given size. This would eliminate the number of classifications which would need to be correct in order to identify what type of equation is in the image. Going back to the example for multiplying two 3x3 matrices, it could reduce the problem from 30 classifications to 19 classifications. The first would be if it is a multiplication of two 3x3 matrices and the remaining 18 are simply identifying matrix entries.\n",
    "\n",
    "Note that the three proposed improvements are not mutually exclusive and employing all of them may be the best way forward.\n",
    "\n",
    "Recall that we did not distinguish between left and right brackets in the equation parsing logic. It would then make more sense to not distinguish between them in training a model. This could potentially improve model performance. We could also attempt to use some image processing techniques to sharpen the bracket images before classification. This could offset the data loss from resizing the brackets twice.\n",
    "\n",
    "We made assumptions on the input images which we feel are not reasonable for a model expected to be useful on real data. The most significant assumptions involve where white space is located in relation to the relevant pieces of the equation. All input images are aligned too precisely. Many people do not write in a straight line across a page unless they have something to guide them. Matrix rows and columns are also often not aligned very well and brackets often reach over into the first and last columns. As a result, scanning through an image with a vertical or horizontal box in which the long dimension matches that of the image is not practical. A slanted image of a 3x3 matrix would register as one feature instead of many.\n",
    "\n",
    "A possible remedy is to scan through smaller parts of the image, similar to the bracket_removal function. However, this method in its current form involve a preset scan box dimension which would still require certain assumptions on image input and feature spacing. \n",
    "\n",
    "Another related consideration is we did not add randomness in digit and bracket spacing. In fact, we could add some random shifts while maintaining the current requirement of white space separation. \n",
    "\n",
    "Our method of feature detecting relies on the fact that the images contain no noise. The white space is entirely pixels with value 0. A possible solution here would be to simply establish a baseline for the input. For example, maybe white space, when the pixels are scaled between 0 and 1, would have values below 0.001. Thus, given the image size, we would know the sum of pixel values for a strip of white space. Of course, this would only work for a small subset of writing surfaces. Moreover, unless we can detect the writing surface from the input, we would need to know this information in advance.\n",
    "\n",
    "Some other improvements would be to allow for numbers other than 0 to 9, more operations and types of equations, and English and Greek characters. \n",
    "\n",
    "In conclusion, the simple convolutional neural networks were very effective as a tool for experimentation. However, a more sophisticated model and larger input image dimensions could be beneficial. Building a classification sieve with more layers of networks and some more image processing also seem like necessary improvements if we wish to scale the project. We think that much more matrix data should be synthesized and the matrix recognition model should be able to identify row and column vectors and nonsquare matrices. \n",
    "\n",
    "However, for simple equations, this program is able to produce a decent result and the general methodology could be used to create something more useful. A clearer model performance metric is needed but the naive metrics given throughout the project can serve as an alternative given they are interpreted carefully in the context of an input equation."
   ]
  },
  {
   "cell_type": "code",
   "execution_count": null,
   "metadata": {},
   "outputs": [],
   "source": []
  }
 ],
 "metadata": {
  "kernelspec": {
   "display_name": "deeplearning",
   "language": "python",
   "name": "deeplearning"
  },
  "language_info": {
   "codemirror_mode": {
    "name": "ipython",
    "version": 3
   },
   "file_extension": ".py",
   "mimetype": "text/x-python",
   "name": "python",
   "nbconvert_exporter": "python",
   "pygments_lexer": "ipython3",
   "version": "3.8.5"
  }
 },
 "nbformat": 4,
 "nbformat_minor": 4
}
